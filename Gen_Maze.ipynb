{
 "cells": [
  {
   "cell_type": "code",
   "execution_count": 15,
   "id": "03669cb7-ab50-44a4-a7d3-a58b7c18c38a",
   "metadata": {},
   "outputs": [],
   "source": [
    "import os \n",
    "os.chdir(r'A:\\AG\\AG_Science\\Advanced_Python_and_Data\\maze')"
   ]
  },
  {
   "cell_type": "code",
   "execution_count": 5,
   "id": "f98b9d5b-72f2-453a-bf9b-80f072f0083b",
   "metadata": {},
   "outputs": [],
   "source": [
    "import glob\n",
    "import random\n",
    "\n",
    "choises = [0,1,2,3,4,5,6,7,8,9]\n",
    "for index in choises:\n",
    "    os.makedirs(f'path{index}')\n"
   ]
  },
  {
   "cell_type": "code",
   "execution_count": 23,
   "id": "ccaf2995-a388-45c0-9a65-e72940a0c95c",
   "metadata": {},
   "outputs": [
    {
     "name": "stdout",
     "output_type": "stream",
     "text": [
      "A:\\AG\\AG_Science\\Advanced_Python_and_Data\\maze\n"
     ]
    }
   ],
   "source": [
    "print(os.getcwd())"
   ]
  },
  {
   "cell_type": "code",
   "execution_count": 17,
   "id": "1c4edee6-001f-4835-97a3-14a3753d68e0",
   "metadata": {},
   "outputs": [
    {
     "data": {
      "text/plain": [
       "['path0',\n",
       " 'path1',\n",
       " 'path2',\n",
       " 'path3',\n",
       " 'path4',\n",
       " 'path5',\n",
       " 'path6',\n",
       " 'path7',\n",
       " 'path8',\n",
       " 'path9']"
      ]
     },
     "execution_count": 17,
     "metadata": {},
     "output_type": "execute_result"
    }
   ],
   "source": [
    "os.listdir()"
   ]
  },
  {
   "cell_type": "code",
   "execution_count": 18,
   "id": "5d53e0d1-97a9-463e-baca-198735b8ff67",
   "metadata": {},
   "outputs": [],
   "source": [
    "for path in os.listdir():\n",
    "    for counter in choises:\n",
    "        os.makedirs(os.path.join(path, f'branch{counter}'))"
   ]
  },
  {
   "cell_type": "code",
   "execution_count": 31,
   "id": "57258274-429d-4f41-ba7b-956a0f387844",
   "metadata": {},
   "outputs": [],
   "source": [
    "for path in os.listdir():\n",
    "    for branch in os.listdir(os.path.join('./', path)):\n",
    "        for itrator in choises:\n",
    "            os.makedirs(f\"./{path}/\" + os.path.join(branch, f'root{itrator}'))"
   ]
  },
  {
   "cell_type": "code",
   "execution_count": null,
   "id": "41bb9594-2b9b-44d5-b4cb-80bb0ed2aec0",
   "metadata": {},
   "outputs": [],
   "source": []
  }
 ],
 "metadata": {
  "kernelspec": {
   "display_name": "Python 3 (ipykernel)",
   "language": "python",
   "name": "python3"
  },
  "language_info": {
   "codemirror_mode": {
    "name": "ipython",
    "version": 3
   },
   "file_extension": ".py",
   "mimetype": "text/x-python",
   "name": "python",
   "nbconvert_exporter": "python",
   "pygments_lexer": "ipython3",
   "version": "3.12.7"
  }
 },
 "nbformat": 4,
 "nbformat_minor": 5
}
