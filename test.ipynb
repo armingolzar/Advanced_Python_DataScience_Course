{
 "cells": [
  {
   "cell_type": "code",
   "execution_count": 1,
   "id": "8072cfae-2d8b-4cf7-b8cb-b6d2a5227eb0",
   "metadata": {},
   "outputs": [
    {
     "name": "stdout",
     "output_type": "stream",
     "text": [
      "[0.03602981 0.58629843 0.75480372 0.97480024 0.49197453 0.34503737\n",
      " 0.59136731 0.94691908 0.13281631 0.76935617 0.21061622 0.39455078\n",
      " 0.08039245 0.70171581 0.8558633  0.12040842 0.62387823 0.14081113\n",
      " 0.66271459 0.55143358 0.720713   0.5162507  0.3735756  0.61655369\n",
      " 0.82514035 0.10191454 0.22233778 0.31819226 0.45073597 0.35643706\n",
      " 0.27796934 0.05542472 0.18359014 0.59571044 0.22725721 0.37423118\n",
      " 0.1266244  0.63964617 0.33272464 0.88212819 0.56717959 0.51496949\n",
      " 0.74083221 0.84096963 0.30805247 0.02846778 0.25730103 0.15613589\n",
      " 0.23497021 0.37468053]\n"
     ]
    }
   ],
   "source": [
    "import numpy as np\n",
    "colors = np.random.rand(50)\n",
    "print(colors)"
   ]
  },
  {
   "cell_type": "code",
   "execution_count": null,
   "id": "6a49dae5-ed19-4324-9e2b-286d8261846f",
   "metadata": {},
   "outputs": [],
   "source": []
  }
 ],
 "metadata": {
  "kernelspec": {
   "display_name": "fragtal",
   "language": "python",
   "name": "fragtal"
  },
  "language_info": {
   "codemirror_mode": {
    "name": "ipython",
    "version": 3
   },
   "file_extension": ".py",
   "mimetype": "text/x-python",
   "name": "python",
   "nbconvert_exporter": "python",
   "pygments_lexer": "ipython3",
   "version": "3.8.20"
  }
 },
 "nbformat": 4,
 "nbformat_minor": 5
}
