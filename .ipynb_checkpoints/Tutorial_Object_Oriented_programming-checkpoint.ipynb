{
 "cells": [
  {
   "cell_type": "markdown",
   "id": "76ca373f",
   "metadata": {},
   "source": [
    "# What is Object Oriented Programming or OOP"
   ]
  },
  {
   "cell_type": "markdown",
   "id": "bccb9774",
   "metadata": {},
   "source": [
    "Object-oriented programming (OOP) is defined as a programming paradigm (and not a specific language) built on the concept of objects, i.e., a set of data contained in fields, and code, indicating procedures – instead of the usual logic-based system."
   ]
  },
  {
   "cell_type": "markdown",
   "id": "f8b4df59",
   "metadata": {},
   "source": [
    "- Python is an object-oriented programming language, which means that it provides features that support object-oriented programming (OOP).\n",
    "\n",
    "- Up to now, most of the programs we have been writing use a procedural programming paradigm. In procedural programming the focus is on writing functions or procedures which operate on data.\n",
    "\n",
    "- In object-oriented programming the focus is on the creation of objects which contain both data and functionality together.\n",
    "\n",
    "- Usually, each object definition corresponds to some object or concept in the real world, and the functions that operate on that object correspond to the ways real-world objects interact."
   ]
  },
  {
   "cell_type": "markdown",
   "id": "cc1f77e3",
   "metadata": {},
   "source": [
    "### First of all we are going to learn what is object?\n",
    "\n",
    "Actually object is everything and we can create a thing as objects for example, a car, human, city, type, religion or evrything you think can be object in programming world.\n"
   ]
  },
  {
   "cell_type": "markdown",
   "id": "b935f8af",
   "metadata": {},
   "source": [
    "### The properties of the object in programming world considered as two factor: \n",
    "- Attributes \n",
    "- Methods\n"
   ]
  },
  {
   "cell_type": "markdown",
   "id": "e895cb3e",
   "metadata": {},
   "source": [
    "### So what is Attribute?\n",
    "It is something about the appearance of the object for example in human object there are a lot of attributes such, height, Weight, skin-color, age etc."
   ]
  },
  {
   "cell_type": "markdown",
   "id": "0f7f0b86",
   "metadata": {},
   "source": [
    "### what is method?\n",
    "Methods are the habits of the specific object for example, humans do things like sleeping, eating, working, walking etc."
   ]
  },
  {
   "cell_type": "markdown",
   "id": "099b0220",
   "metadata": {},
   "source": [
    "#### ✌️🫡 TIP: remember in OOP self is known as its ----> self.height == its height and  we should use it in every method to know which instance and object we are woring on. In other term it is an invisible flag to take a part different instances and objects."
   ]
  },
  {
   "cell_type": "markdown",
   "id": "9017a041",
   "metadata": {},
   "source": [
    "So if I want to explain how we can use OOP I should say in python everything is an object from str to int.\n",
    "and we know in python we have just a few types that we learned but, after studing OOP we are able to create our own types as many as we want and also, in this way we avoid from repetition and time consumption. Think we want to cook a lot of cup-cakes in star shape which approche is better?\n",
    "- cook a huge cake and spend a lot of time for making hundreds of star shape cup-cake by knife.\n",
    "- cook a huge cake and create a star shape mold for making star shape cup-cakes."
   ]
  },
  {
   "cell_type": "code",
   "execution_count": null,
   "id": "ecf97050",
   "metadata": {},
   "outputs": [],
   "source": [
    "name = 'name'\n",
    "age = 23\n",
    "print(type(name))\n",
    "print(type(age))"
   ]
  },
  {
   "cell_type": "markdown",
   "id": "3c572f7f",
   "metadata": {},
   "source": [
    "### Let's create an object using class"
   ]
  },
  {
   "cell_type": "code",
   "execution_count": null,
   "id": "1289799c",
   "metadata": {},
   "outputs": [],
   "source": [
    "class human():\n",
    "    def sleeping(self):\n",
    "        print('zzzzzz')\n",
    "\n",
    "# in this way we create an instance from our object \n",
    "\n",
    "armin = human()\n",
    "print(type(armin))\n",
    "\n",
    "# calling one of the methods of armin like the upper method in str\n",
    "armin.sleeping()\n",
    "        "
   ]
  },
  {
   "cell_type": "code",
   "execution_count": null,
   "id": "ebe021f5",
   "metadata": {},
   "outputs": [],
   "source": [
    "# multiple methods\n",
    "class human():\n",
    "    def sleeping(self):\n",
    "        print('zzzzzz')\n",
    "        \n",
    "    def bmi(self, x):\n",
    "        return x+5\n",
    "\n",
    "# in this way we create an instance from our object \n",
    "\n",
    "armin = human()\n",
    "print(type(armin))\n",
    "\n",
    "# calling one of the methods of armin like the upper method in str\n",
    "armin.sleeping()\n",
    "armin.bmi(10)"
   ]
  },
  {
   "cell_type": "markdown",
   "id": "25506605",
   "metadata": {},
   "source": [
    "#### What is __ init __()?\n",
    "This is a global method that we use it to define attributes and also this method is a constructor for our class."
   ]
  },
  {
   "cell_type": "markdown",
   "id": "3e73e77e",
   "metadata": {},
   "source": [
    "Every class should have a method with the special name __init__. \n",
    "- This **initializer** method is automatically called whenever a new instance of Point is created. \n",
    "- It gives the programmer the opportunity to set up the attributes required within the new instance by giving them their initial state/values. \n",
    "- The self parameter is automatically set to reference the newly created object that needs to be initialized."
   ]
  },
  {
   "cell_type": "code",
   "execution_count": null,
   "id": "e5370959",
   "metadata": {},
   "outputs": [],
   "source": [
    "# define __init__()\n",
    "class human():\n",
    "    \n",
    "    def __init__(self, name, age):\n",
    "        print(name, age)\n",
    "    \n",
    "    \n",
    "    def sleeping(self):\n",
    "        print('zzzzzz')\n",
    "        \n",
    "    def bmi(self, x):\n",
    "        return x+5\n",
    "\n",
    "# because init is a constructor each time that we call the class everything in init will run.\n",
    "armin = human('armin', 23)\n"
   ]
  },
  {
   "cell_type": "code",
   "execution_count": null,
   "id": "30a8dc15",
   "metadata": {},
   "outputs": [],
   "source": [
    "# from this way we define attributes for our class and they are accessible for all of the methods in one object.\n",
    "class human():\n",
    "    \n",
    "    def __init__(self, name, age):\n",
    "        self.name = name \n",
    "        self.age = age\n",
    "    \n",
    "    def sleeping(self):\n",
    "        print('zzzzzz')\n",
    "        print(self.name)\n",
    "        \n",
    "    def bmi(self, x):\n",
    "        return x+5, self.age\n",
    "\n",
    "# because init is a constructor each time that we call the class everything in init will run.\n",
    "armin = human('armin', 23)\n",
    "armin.sleeping()\n",
    "bmi = armin.bmi(4)\n",
    "print(bmi)"
   ]
  },
  {
   "cell_type": "code",
   "execution_count": null,
   "id": "39f72d6d",
   "metadata": {},
   "outputs": [],
   "source": [
    "#common mistake\n",
    "class human():\n",
    "    \n",
    "    def __init__(self, name, age):\n",
    "        self.name = name \n",
    "        self.age = age\n",
    "    \n",
    "    def sleeping():\n",
    "        print('zzzzzz')\n",
    "        print(self.name)\n",
    "        \n",
    "    def bmi(self, x):\n",
    "        return x+5, self.age"
   ]
  },
  {
   "cell_type": "code",
   "execution_count": null,
   "id": "121f5fc2",
   "metadata": {},
   "outputs": [],
   "source": [
    "arta = human('arta', 18)\n",
    "armin.sleeping()\n",
    "bmi = armin.bmi(12)\n",
    "print(bmi)"
   ]
  },
  {
   "cell_type": "code",
   "execution_count": null,
   "id": "ecdcff9f",
   "metadata": {},
   "outputs": [],
   "source": [
    "# we can change the attributes after their deining\n",
    "class human():\n",
    "    \n",
    "    def __init__(self, name, age):\n",
    "        self.name = name \n",
    "        self.age = age\n",
    "    \n",
    "    def sleeping(self):\n",
    "        print('zzzzzz')\n",
    "        print(self.name)\n",
    "        \n",
    "    def bmi(self, x):\n",
    "        return x+5, self.age\n",
    "    \n",
    "    def set_age(self, age):\n",
    "        self.age = age\n",
    "        \n",
    "armin = human('armin', 35)\n",
    "print(armin.age)\n",
    "armin.set_age(24)\n",
    "print(armin.age)"
   ]
  },
  {
   "cell_type": "code",
   "execution_count": null,
   "id": "e42ad477",
   "metadata": {},
   "outputs": [],
   "source": [
    "class Point:\n",
    "    \"\"\" Point class represents and manipulates x,y coords. \"\"\"\n",
    "    \n",
    "    def __init__(self, x = 0, y = 0):\n",
    "        \"\"\" Create a new point at the origin \"\"\" \n",
    "        self.x = x\n",
    "        self.y = y"
   ]
  },
  {
   "cell_type": "code",
   "execution_count": null,
   "id": "f197e418",
   "metadata": {},
   "outputs": [],
   "source": [
    "p = Point(3,4)\n",
    "q = Point(7,6)\n",
    "o = Point()"
   ]
  },
  {
   "cell_type": "code",
   "execution_count": null,
   "id": "2a0afd10",
   "metadata": {},
   "outputs": [],
   "source": [
    "p.x, p.y, o.x, o.y, q.x, q.y"
   ]
  },
  {
   "cell_type": "code",
   "execution_count": null,
   "id": "9acde0d8",
   "metadata": {},
   "outputs": [],
   "source": [
    "class Point:\n",
    "    \"\"\"\n",
    "    Create a new Point, at coordinates x, y \n",
    "    \"\"\"\n",
    "    \n",
    "    def __init__(self, x=0, y=0):\n",
    "        \"\"\" Create a new point at x, y \"\"\" \n",
    "        self.x = x\n",
    "        self.y = y\n",
    "        \n",
    "    def distance_from_origin(self):\n",
    "        \"\"\" Compute my distance from the origin \"\"\" \n",
    "        return ((self.x ** 2) + (self.y ** 2)) ** 0.5"
   ]
  },
  {
   "cell_type": "code",
   "execution_count": null,
   "id": "9a3a1b71",
   "metadata": {},
   "outputs": [],
   "source": [
    "p = Point(3,4)\n",
    "print(p.x, p.y)\n",
    "p.distance_from_origin()"
   ]
  },
  {
   "cell_type": "code",
   "execution_count": null,
   "id": "0fa87002",
   "metadata": {},
   "outputs": [],
   "source": [
    "q=Point(5,12)\n",
    "print(q.x, q.y)\n",
    "q.distance_from_origin()"
   ]
  },
  {
   "cell_type": "code",
   "execution_count": null,
   "id": "f34d6ddc",
   "metadata": {},
   "outputs": [],
   "source": [
    "r=Point()\n",
    "print(r.x, r.y)\n",
    "r.distance_from_origin()"
   ]
  },
  {
   "cell_type": "code",
   "execution_count": null,
   "id": "300d8fb5",
   "metadata": {},
   "outputs": [],
   "source": [
    "p"
   ]
  },
  {
   "cell_type": "markdown",
   "id": "7af412ab",
   "metadata": {},
   "source": [
    "- TIP: We can pass an object as an argument in the usual way.\n"
   ]
  },
  {
   "cell_type": "code",
   "execution_count": null,
   "id": "6737a197",
   "metadata": {},
   "outputs": [],
   "source": [
    "def print_point(pt):\n",
    "    print(\"({0}, {1})\".format(pt.x, pt.y))"
   ]
  },
  {
   "cell_type": "code",
   "execution_count": null,
   "id": "121ffa07",
   "metadata": {},
   "outputs": [],
   "source": [
    "print_point(p)"
   ]
  },
  {
   "cell_type": "code",
   "execution_count": null,
   "id": "eca2df4b",
   "metadata": {},
   "outputs": [],
   "source": [
    "print_point(o)"
   ]
  },
  {
   "cell_type": "markdown",
   "id": "1951e8d3",
   "metadata": {},
   "source": [
    "## Converting an instance to a string"
   ]
  },
  {
   "cell_type": "markdown",
   "id": "1cd4ab67",
   "metadata": {},
   "source": [
    "Most object-oriented programmers probably would not do what we’ve just done in print_point. When we’re working with classes and objects, a preferred alternative is to add a new method to the class. \n",
    "And we don’t like chatterbox **methods that call print**. \n",
    "\n",
    "- A better approach is to have a method so that every instance can produce a string representation of itself."
   ]
  },
  {
   "cell_type": "code",
   "execution_count": null,
   "id": "13f6f0be",
   "metadata": {},
   "outputs": [],
   "source": [
    "class Point:\n",
    "    \"\"\"\n",
    "    Create a new Point, at coordinates x, y \n",
    "    \"\"\"\n",
    "    \n",
    "    def __init__(self, x=0, y=0):\n",
    "        \"\"\" Create a new point at x, y \"\"\" \n",
    "        self.x = x\n",
    "        self.y = y\n",
    "        \n",
    "    def distance_from_origin(self):\n",
    "        \"\"\" Compute my distance from the origin \"\"\" \n",
    "        return ((self.x ** 2) + (self.y ** 2)) ** 0.5\n",
    "    \n",
    "    def to_string(self):\n",
    "        return \"({0}, {1})\".format(self.x, self.y)"
   ]
  },
  {
   "cell_type": "code",
   "execution_count": null,
   "id": "103bcb20",
   "metadata": {},
   "outputs": [],
   "source": [
    "p = Point(3,4)\n",
    "p.to_string()"
   ]
  },
  {
   "cell_type": "code",
   "execution_count": null,
   "id": "da76e26f",
   "metadata": {},
   "outputs": [],
   "source": [
    "print(p)\n",
    "str(p) "
   ]
  },
  {
   "cell_type": "markdown",
   "id": "5ad6f29b",
   "metadata": {},
   "source": [
    "Python has a clever trick up its sleeve to fix this. If we call our new method ```__str__ ```instead of to_string, the Python interpreter will use our code whenever it needs to convert a Point to a string"
   ]
  },
  {
   "cell_type": "code",
   "execution_count": null,
   "id": "98c74557",
   "metadata": {},
   "outputs": [],
   "source": [
    "class Point:\n",
    "    \"\"\"\n",
    "    Create a new Point, at coordinates x, y \n",
    "    \"\"\"\n",
    "    \n",
    "    def __init__(self, x=0, y=0):\n",
    "        \"\"\" Create a new point at x, y \"\"\" \n",
    "        self.x = x\n",
    "        self.y = y\n",
    "        \n",
    "    def distance_from_origin(self):\n",
    "        \"\"\" Compute my distance from the origin \"\"\" \n",
    "        return ((self.x ** 2) + (self.y ** 2)) ** 0.5\n",
    "    \n",
    "    def __str__(self): # All we have done is renamed the method\n",
    "        return \"({0}, {1})\".format(self.x, self.y)"
   ]
  },
  {
   "cell_type": "code",
   "execution_count": null,
   "id": "0a88ca5a",
   "metadata": {},
   "outputs": [],
   "source": [
    "p = Point(3,4)"
   ]
  },
  {
   "cell_type": "code",
   "execution_count": null,
   "id": "4c0494fd",
   "metadata": {},
   "outputs": [],
   "source": [
    "str(p) # Python now uses the __str__ method that we wrote."
   ]
  },
  {
   "cell_type": "code",
   "execution_count": null,
   "id": "0b1ac601",
   "metadata": {},
   "outputs": [],
   "source": [
    "print(p)"
   ]
  },
  {
   "cell_type": "markdown",
   "id": "38f8bd87",
   "metadata": {},
   "source": [
    "## Instances as return values"
   ]
  },
  {
   "cell_type": "markdown",
   "id": "4770c146",
   "metadata": {},
   "source": [
    "Functions and methods can return instances. For example, given two Point objects, find their midpoint. First we’ll write this as a regular function:"
   ]
  },
  {
   "cell_type": "code",
   "execution_count": null,
   "id": "1f004db0",
   "metadata": {},
   "outputs": [],
   "source": [
    "def midpoint(p1,p2):\n",
    "    \"\"\" Return the midpoint of points p1 and p2 \"\"\" \n",
    "    mx = (p1.x + p2.x)/2\n",
    "    my = (p1.y + p2.y)/2\n",
    "    return Point(mx, my)"
   ]
  },
  {
   "cell_type": "code",
   "execution_count": null,
   "id": "018ec548",
   "metadata": {},
   "outputs": [],
   "source": [
    "p = Point(3,4) \n",
    "q = Point(5,12) \n",
    "r = midpoint(p,q) \n",
    "\n",
    "print(r)"
   ]
  },
  {
   "cell_type": "code",
   "execution_count": null,
   "id": "42dc140d",
   "metadata": {},
   "outputs": [],
   "source": [
    "class Point:\n",
    "    \"\"\"\n",
    "    Create a new Point, at coordinates x, y \n",
    "    \"\"\"\n",
    "    \n",
    "    def __init__(self, x=0, y=0):\n",
    "        \"\"\" Create a new point at x, y \"\"\" \n",
    "        self.x = x\n",
    "        self.y = y\n",
    "        \n",
    "    def distance_from_origin(self):\n",
    "        \"\"\" Compute my distance from the origin \"\"\" \n",
    "        return ((self.x ** 2) + (self.y ** 2)) ** 0.5\n",
    "    \n",
    "    def __str__(self): # All we have done is renamed the method\n",
    "        return \"({0}, {1})\".format(self.x, self.y)\n",
    "    \n",
    "    def halfway(self, target):\n",
    "        \"\"\" Return the halfway point between myself and the target \"\"\" \n",
    "        mx = (self.x + target.x)/2\n",
    "        my = (self.y + target.y)/2\n",
    "        return Point(mx, my)"
   ]
  },
  {
   "cell_type": "code",
   "execution_count": null,
   "id": "62fd9783",
   "metadata": {},
   "outputs": [],
   "source": [
    "p = Point(3,4) \n",
    "q = Point(5,12) \n",
    "r = p.halfway(q) \n",
    "print(r)"
   ]
  },
  {
   "cell_type": "code",
   "execution_count": null,
   "id": "fda4f965",
   "metadata": {},
   "outputs": [],
   "source": [
    "type(r)"
   ]
  },
  {
   "cell_type": "code",
   "execution_count": null,
   "id": "386e14a9",
   "metadata": {},
   "outputs": [],
   "source": [
    "print(Point(3,4).halfway(Point(5,12)))"
   ]
  },
  {
   "cell_type": "code",
   "execution_count": null,
   "id": "7d23afa7",
   "metadata": {},
   "outputs": [],
   "source": [
    "dir(p)"
   ]
  },
  {
   "cell_type": "markdown",
   "id": "f05e40f5",
   "metadata": {},
   "source": [
    "### Objects are mutable"
   ]
  },
  {
   "cell_type": "markdown",
   "id": "dde56713",
   "metadata": {},
   "source": [
    "We can change the state of an object by making an assignment to one of its attributes. For example we can change the x and y in point class."
   ]
  },
  {
   "cell_type": "code",
   "execution_count": null,
   "id": "b4b73fa7",
   "metadata": {},
   "outputs": [],
   "source": [
    "p = Point(3,4)\n",
    "p.x += 10\n",
    "p.y += 20\n",
    "str(p)"
   ]
  },
  {
   "cell_type": "markdown",
   "id": "448bff62",
   "metadata": {},
   "source": [
    "### Sameness"
   ]
  },
  {
   "cell_type": "markdown",
   "id": "156d9a3e",
   "metadata": {},
   "source": [
    "We’ve already seen the is operator in the chapter on lists, where we talked about aliases: it allows us to find out if two references refer to the same object:"
   ]
  },
  {
   "cell_type": "code",
   "execution_count": null,
   "id": "58a232b5",
   "metadata": {},
   "outputs": [],
   "source": [
    "p1 = Point(3,4)\n",
    "p2 = Point(3,4)\n",
    "p1 is p2"
   ]
  },
  {
   "cell_type": "markdown",
   "id": "6c40a748",
   "metadata": {},
   "source": [
    "Even though p1 and p2 contain the same coordinates, they are not the same object. If we assign p1 to p3, then the two variables are aliases of the same object:"
   ]
  },
  {
   "cell_type": "code",
   "execution_count": null,
   "id": "c791b335",
   "metadata": {},
   "outputs": [],
   "source": [
    "p3 = p1\n",
    "p1 is p3"
   ]
  },
  {
   "cell_type": "markdown",
   "id": "48d61e3b",
   "metadata": {},
   "source": [
    "This type of equality is called **shallow equality** because it compares only the references, not the contents of the objects."
   ]
  },
  {
   "cell_type": "code",
   "execution_count": null,
   "id": "480e989f",
   "metadata": {},
   "outputs": [],
   "source": [
    "def same_coordinates(p1,p2):\n",
    "    return (p1.x == p2.x) and (p1.y == p2.y)"
   ]
  },
  {
   "cell_type": "code",
   "execution_count": null,
   "id": "63eac07e",
   "metadata": {},
   "outputs": [],
   "source": [
    "p1 = Point(3,4)\n",
    "p2 = Point(3,4)\n",
    "same_coordinates(p1,p2)"
   ]
  },
  {
   "cell_type": "code",
   "execution_count": null,
   "id": "655f999d",
   "metadata": {},
   "outputs": [],
   "source": [
    "p = Point(4,2)\n",
    "s = Point(4,2)\n",
    "print(\"== on Points returns \",p == s)\n",
    "a=[2,3]\n",
    "b=[2,3]\n",
    "print(\"== on lists returns\", a == b)"
   ]
  },
  {
   "cell_type": "markdown",
   "id": "3bf47b3e",
   "metadata": {},
   "source": [
    "#### Remark: So we conclude that even though the two lists (or tuples, etc.) are distinct objects with different memory addresses, for classes the == operator tests for deep equality, while in the case of lists it makes a shallow test."
   ]
  },
  {
   "cell_type": "markdown",
   "id": "78451845",
   "metadata": {},
   "source": [
    "### Coping"
   ]
  },
  {
   "cell_type": "markdown",
   "id": "1cef6bcb",
   "metadata": {},
   "source": [
    "Aliasing can make a program difficult to read because changes made in one place might have unexpected effects in another place. It is hard to keep track of all the variables that might refer to a given object.\n",
    "\n",
    "Copying an object is often an alternative to aliasing. The copy module contains a function called copy that can duplicate any object:"
   ]
  },
  {
   "cell_type": "code",
   "execution_count": null,
   "id": "826d997e",
   "metadata": {},
   "outputs": [],
   "source": [
    "import copy\n",
    "p1 = Point(3,4)\n",
    "p2 = copy.copy(p1)"
   ]
  },
  {
   "cell_type": "code",
   "execution_count": null,
   "id": "1e7836c3",
   "metadata": {},
   "outputs": [],
   "source": [
    "p1 is p2"
   ]
  },
  {
   "cell_type": "code",
   "execution_count": null,
   "id": "7b8a3243",
   "metadata": {},
   "outputs": [],
   "source": [
    "same_coordinates(p1,p2)"
   ]
  },
  {
   "cell_type": "markdown",
   "id": "6b9fc857",
   "metadata": {},
   "source": [
    "Once we import the copy module, we can use the copy function to make a new Point. p1 and p2 are not the same point, but they contain the same data.\n",
    "\n",
    "To copy a simple object like a Point, which doesn’t contain any embedded objects, copy is sufficient. This is called shallow copying. \n",
    "\n",
    "In objects with several element copy may results True but deepcopy do not."
   ]
  },
  {
   "cell_type": "markdown",
   "id": "3397761b",
   "metadata": {},
   "source": [
    "# More Operators"
   ]
  },
  {
   "cell_type": "code",
   "execution_count": null,
   "id": "4cbcd644",
   "metadata": {},
   "outputs": [],
   "source": [
    "class Point:\n",
    "    \"\"\"\n",
    "    Create a new Point, at coordinates x, y \n",
    "    \"\"\"\n",
    "    \n",
    "    def __init__(self, x=0, y=0):\n",
    "        \"\"\" Create a new point at x, y \"\"\" \n",
    "        self.x = x\n",
    "        self.y = y\n",
    "        \n",
    "    def distance_from_origin(self):\n",
    "        \"\"\" Compute my distance from the origin \"\"\" \n",
    "        return ((self.x ** 2) + (self.y ** 2)) ** 0.5\n",
    "    \n",
    "    def __str__(self): # All we have done is renamed the method\n",
    "        return \"({0}, {1})\".format(self.x, self.y)\n",
    "    \n",
    "    def halfway(self, target):\n",
    "        \"\"\" Return the halfway point between myself and the target \"\"\" \n",
    "        mx = (self.x + target.x)/2\n",
    "        my = (self.y + target.y)/2\n",
    "        return Point(mx, my)\n",
    "    \n",
    "    def distance_points(self,target):\n",
    "        return ((self.x-target.x)**2 + (self.y-target.y)**2)**0.5\n",
    "    \n",
    "    def reflect_x(self):\n",
    "        return Point(self.x,-self.y)\n",
    "    \n",
    "    def reflect_y(self):\n",
    "        return Point(-self.x,self.y)\n",
    "    \n",
    "    def reflect_xy(self):\n",
    "        return Point(-self.x,-self.y)\n",
    "    \n",
    "    def get_line_to(self,target):\n",
    "        m = (self.y - target.y)/(self.x - target.x)\n",
    "        return (m, target.y - m * target.x)"
   ]
  },
  {
   "cell_type": "code",
   "execution_count": null,
   "id": "1804b107",
   "metadata": {},
   "outputs": [],
   "source": [
    "p = Point(3,-3)\n",
    "dir(p)"
   ]
  },
  {
   "cell_type": "code",
   "execution_count": null,
   "id": "d7d77f78",
   "metadata": {},
   "outputs": [],
   "source": [
    "p.__class__"
   ]
  },
  {
   "cell_type": "code",
   "execution_count": null,
   "id": "6144fe30",
   "metadata": {},
   "outputs": [],
   "source": [
    "p.__doc__"
   ]
  },
  {
   "cell_type": "code",
   "execution_count": null,
   "id": "15b1d6aa",
   "metadata": {},
   "outputs": [],
   "source": [
    "p.__dir__()"
   ]
  },
  {
   "cell_type": "code",
   "execution_count": null,
   "id": "60ba65af",
   "metadata": {},
   "outputs": [],
   "source": [
    "p.__dict__"
   ]
  },
  {
   "cell_type": "code",
   "execution_count": null,
   "id": "6b0aceb9",
   "metadata": {},
   "outputs": [],
   "source": [
    "p1 = Point(3,4)\n",
    "p2 = Point(8,-14)\n",
    "print(p1 + p2)"
   ]
  },
  {
   "cell_type": "markdown",
   "id": "d7dac3fb",
   "metadata": {},
   "source": [
    "## Operator Overloading (```__add__```)\n",
    "By defining other special methods, you can specify the behavior of operators on programmer-defined types. For example, if you define a method named ```__add__``` for the Time class, you can use the + operator on Time objects."
   ]
  },
  {
   "cell_type": "code",
   "execution_count": null,
   "id": "25557cf5",
   "metadata": {},
   "outputs": [],
   "source": [
    "class Point:\n",
    "    \"\"\"\n",
    "    Create a new Point, at coordinates x, y \n",
    "    \"\"\"\n",
    "    \n",
    "    def __init__(self, x=0, y=0):\n",
    "        \"\"\" Create a new point at x, y \"\"\" \n",
    "        self.x = x\n",
    "        self.y = y\n",
    "        \n",
    "    def distance_from_origin(self):\n",
    "        \"\"\" Compute my distance from the origin \"\"\" \n",
    "        return ((self.x ** 2) + (self.y ** 2)) ** 0.5\n",
    "    \n",
    "    def __str__(self): # All we have done is renamed the method\n",
    "        return \"({0}, {1})\".format(self.x, self.y)\n",
    "    \n",
    "    def halfway(self, target):\n",
    "        \"\"\" Return the halfway point between myself and the target \"\"\" \n",
    "        mx = (self.x + target.x)/2\n",
    "        my = (self.y + target.y)/2\n",
    "        return Point(mx, my)\n",
    "    \n",
    "    def distance_points(self,target):\n",
    "        return ((self.x-target.x)**2 + (self.y-target.y)**2)**0.5\n",
    "    \n",
    "    def reflect_x(self):\n",
    "        return Point(self.x,-self.y)\n",
    "    \n",
    "    def reflect_y(self):\n",
    "        return Point(-self.x,self.y)\n",
    "    \n",
    "    def reflect_xy(self):\n",
    "        return Point(-self.x,-self.y)\n",
    "    \n",
    "    def get_line_to(self,target):\n",
    "        m = (self.y - target.y)/(self.x - target.x)\n",
    "        return (m, target.y - m * target.x)\n",
    "    \n",
    "    def __add__(self, target):\n",
    "        return Point(self.x + target.x, self.y + target.y)"
   ]
  },
  {
   "cell_type": "code",
   "execution_count": null,
   "id": "1d736ba0",
   "metadata": {},
   "outputs": [],
   "source": [
    "p1 = Point(3,4)\n",
    "p2 = Point(8,-14)\n",
    "print(p1 + p2)"
   ]
  },
  {
   "cell_type": "code",
   "execution_count": null,
   "id": "f4c7e255",
   "metadata": {},
   "outputs": [],
   "source": [
    "print(p1 + 8)"
   ]
  },
  {
   "cell_type": "markdown",
   "id": "3b07aed5",
   "metadata": {},
   "source": [
    "## Type-Based Dispatch\n",
    "In the previous section we added two Point objects, but you also might want to add an integer to a Point object. \n",
    "This operation is called a type-based dispatch because it dispatches the computation to different methods based on the type of the arguments."
   ]
  },
  {
   "cell_type": "code",
   "execution_count": null,
   "id": "0a9cd437",
   "metadata": {},
   "outputs": [],
   "source": [
    "class Point:\n",
    "    \"\"\"\n",
    "    Create a new Point, at coordinates x, y \n",
    "    \"\"\"\n",
    "    \n",
    "    def __init__(self, x=0, y=0):\n",
    "        \"\"\" Create a new point at x, y \"\"\" \n",
    "        self.x = x\n",
    "        self.y = y\n",
    "        \n",
    "    def distance_from_origin(self):\n",
    "        \"\"\" Compute my distance from the origin \"\"\" \n",
    "        return ((self.x ** 2) + (self.y ** 2)) ** 0.5\n",
    "    \n",
    "    def __str__(self): # All we have done is renamed the method\n",
    "        return \"({0}, {1})\".format(self.x, self.y)\n",
    "    \n",
    "    def halfway(self, target):\n",
    "        \"\"\" Return the halfway point between myself and the target \"\"\" \n",
    "        mx = (self.x + target.x)/2\n",
    "        my = (self.y + target.y)/2\n",
    "        return Point(mx, my)\n",
    "    \n",
    "    def distance_points(self,target):\n",
    "        return ((self.x-target.x)**2 + (self.y-target.y)**2)**0.5\n",
    "    \n",
    "    def reflect_x(self):\n",
    "        return Point(self.x,-self.y)\n",
    "    \n",
    "    def reflect_y(self):\n",
    "        return Point(-self.x,self.y)\n",
    "    \n",
    "    def reflect_xy(self):\n",
    "        return Point(-self.x,-self.y)\n",
    "    \n",
    "    def get_line_to(self,target):\n",
    "        m = (self.y - target.y)/(self.x - target.x)\n",
    "        return (m, target.y - m * target.x)\n",
    "    \n",
    "    def __add__(self, target):\n",
    "        if isinstance(target,Point):\n",
    "            return Point(self.x + target.x, self.y + target.y)\n",
    "        elif (isinstance(target,float) or isinstance(target,int)):\n",
    "             return Point(self.x + target, self.y + target)\n",
    "        else: \n",
    "            return self"
   ]
  },
  {
   "cell_type": "code",
   "execution_count": null,
   "id": "0f4bf183",
   "metadata": {},
   "outputs": [],
   "source": [
    "p1 = Point(3,4)\n",
    "p2 = Point(8,-14)"
   ]
  },
  {
   "cell_type": "code",
   "execution_count": null,
   "id": "58fba66c",
   "metadata": {},
   "outputs": [],
   "source": [
    "print(p1 + p2)\n",
    "print(p1 + 9)\n",
    "print(p1 + '8')"
   ]
  },
  {
   "cell_type": "code",
   "execution_count": null,
   "id": "69f2a0a2",
   "metadata": {},
   "outputs": [],
   "source": [
    "print(8 + p1)"
   ]
  },
  {
   "cell_type": "markdown",
   "id": "468f5ea7",
   "metadata": {},
   "source": [
    "## ```__radd__```\n"
   ]
  },
  {
   "cell_type": "markdown",
   "id": "236a546d",
   "metadata": {},
   "source": [
    "Syntax. object.__radd__(self, other) The Python __radd__() method implements the reverse addition operation that is addition with reflected, swapped operands. So, when you call x + y , Python attempts to call x."
   ]
  },
  {
   "cell_type": "code",
   "execution_count": null,
   "id": "5e6fcccc",
   "metadata": {},
   "outputs": [],
   "source": [
    "class Point:\n",
    "    \"\"\"\n",
    "    Create a new Point, at coordinates x, y \n",
    "    \"\"\"\n",
    "    \n",
    "    def __init__(self, x=0, y=0):\n",
    "        \"\"\" Create a new point at x, y \"\"\" \n",
    "        self.x = x\n",
    "        self.y = y\n",
    "        \n",
    "    def distance_from_origin(self):\n",
    "        \"\"\" Compute my distance from the origin \"\"\" \n",
    "        return ((self.x ** 2) + (self.y ** 2)) ** 0.5\n",
    "    \n",
    "    def __str__(self): # All we have done is renamed the method\n",
    "        return \"({0}, {1})\".format(self.x, self.y)\n",
    "    \n",
    "    def halfway(self, target):\n",
    "        \"\"\" Return the halfway point between myself and the target \"\"\" \n",
    "        mx = (self.x + target.x)/2\n",
    "        my = (self.y + target.y)/2\n",
    "        return Point(mx, my)\n",
    "    \n",
    "    def distance_points(self,target):\n",
    "        return ((self.x-target.x)**2 + (self.y-target.y)**2)**0.5\n",
    "    \n",
    "    def reflect_x(self):\n",
    "        return Point(self.x,-self.y)\n",
    "    \n",
    "    def reflect_y(self):\n",
    "        return Point(-self.x,self.y)\n",
    "    \n",
    "    def reflect_xy(self):\n",
    "        return Point(-self.x,-self.y)\n",
    "    \n",
    "    def get_line_to(self,target):\n",
    "        m = (self.y - target.y)/(self.x - target.x)\n",
    "        return (m, target.y - m * target.x)\n",
    "    \n",
    "    def __add__(self, target):\n",
    "        if isinstance(target,Point):\n",
    "            return Point(self.x + target.x, self.y + target.y)\n",
    "        elif (isinstance(target,float) or isinstance(target,int)):\n",
    "             return Point(self.x + target, self.y + target)\n",
    "        else: \n",
    "            return self\n",
    "        \n",
    "    def __radd__(self, target):\n",
    "        return self.__add__(target)"
   ]
  },
  {
   "cell_type": "code",
   "execution_count": null,
   "id": "c2d52dd9",
   "metadata": {},
   "outputs": [],
   "source": [
    "p1 = Point(3,18)\n",
    "print(8 + p1)"
   ]
  },
  {
   "cell_type": "markdown",
   "id": "77857522",
   "metadata": {},
   "source": [
    "## ``` __lt__```"
   ]
  },
  {
   "cell_type": "markdown",
   "id": "37e31ae6",
   "metadata": {},
   "source": [
    "__lt__(self, other) Defines the behaviour of the less-than operator < "
   ]
  },
  {
   "cell_type": "code",
   "execution_count": null,
   "id": "da2a0d61",
   "metadata": {},
   "outputs": [],
   "source": [
    "p1 = Point(3,5)\n",
    "p2 = Point(4,2)\n",
    "p1 < p1"
   ]
  },
  {
   "cell_type": "code",
   "execution_count": 1,
   "id": "b1a41461",
   "metadata": {},
   "outputs": [],
   "source": [
    "class Point:\n",
    "    \"\"\"\n",
    "    Create a new Point, at coordinates x, y \n",
    "    \"\"\"\n",
    "    \n",
    "    def __init__(self, x=0, y=0):\n",
    "        \"\"\" Create a new point at x, y \"\"\" \n",
    "        self.x = x\n",
    "        self.y = y\n",
    "        \n",
    "    def distance_from_origin(self):\n",
    "        \"\"\" Compute my distance from the origin \"\"\" \n",
    "        return ((self.x ** 2) + (self.y ** 2)) ** 0.5\n",
    "    \n",
    "    def __str__(self): # All we have done is renamed the method\n",
    "        return \"({0}, {1})\".format(self.x, self.y)\n",
    "    \n",
    "    def halfway(self, target):\n",
    "        \"\"\" Return the halfway point between myself and the target \"\"\" \n",
    "        mx = (self.x + target.x)/2\n",
    "        my = (self.y + target.y)/2\n",
    "        return Point(mx, my)\n",
    "    \n",
    "    def distance_points(self,target):\n",
    "        return ((self.x-target.x)**2 + (self.y-target.y)**2)**0.5\n",
    "    \n",
    "    def reflect_x(self):\n",
    "        return Point(self.x,-self.y)\n",
    "    \n",
    "    def reflect_y(self):\n",
    "        return Point(-self.x,self.y)\n",
    "    \n",
    "    def reflect_xy(self):\n",
    "        return Point(-self.x,-self.y)\n",
    "    \n",
    "    def get_line_to(self,target):\n",
    "        m = (self.y - target.y)/(self.x - target.x)\n",
    "        return (m, target.y - m * target.x)\n",
    "    \n",
    "    def __add__(self, target):\n",
    "        if isinstance(target,Point):\n",
    "            return Point(self.x + target.x, self.y + target.y)\n",
    "        elif isinstance(target,int):\n",
    "             return Point(self.x + target, self.y + target)\n",
    "        else: \n",
    "            return self\n",
    "        \n",
    "    def __radd__(self, target):\n",
    "        return self.__add__(target)\n",
    "    \n",
    "    def __lt__(self, target):\n",
    "            # check x coordinate \n",
    "        if (self.x < target.x) or (self.x == target.x and self.y < target.y): \n",
    "            return True\n",
    "        \n",
    "        else: \n",
    "            return False"
   ]
  },
  {
   "cell_type": "code",
   "execution_count": null,
   "id": "20be70e8",
   "metadata": {},
   "outputs": [],
   "source": [
    "p1 = Point(3,5)\n",
    "p2 = Point(4,2)\n",
    "p1 < p2"
   ]
  },
  {
   "cell_type": "code",
   "execution_count": null,
   "id": "3b10ab9b",
   "metadata": {},
   "outputs": [],
   "source": [
    "p3 = Point(3,-5)\n",
    "p4 = Point(3,8)\n",
    "p3 < p4, p4 < p3"
   ]
  },
  {
   "cell_type": "markdown",
   "id": "ed428e41",
   "metadata": {},
   "source": [
    "## ``` __gt__```"
   ]
  },
  {
   "cell_type": "markdown",
   "id": "1a9cfe67",
   "metadata": {},
   "source": [
    "__gt__(self, other) Defines the behaviour of the greater-than operator >"
   ]
  },
  {
   "cell_type": "code",
   "execution_count": null,
   "id": "8505d87a",
   "metadata": {},
   "outputs": [],
   "source": [
    "class Point:\n",
    "    \"\"\"\n",
    "    Create a new Point, at coordinates x, y \n",
    "    \"\"\"\n",
    "    \n",
    "    def __init__(self, x=0, y=0):\n",
    "        \"\"\" Create a new point at x, y \"\"\" \n",
    "        self.x = x\n",
    "        self.y = y\n",
    "        \n",
    "    def distance_from_origin(self):\n",
    "        \"\"\" Compute my distance from the origin \"\"\" \n",
    "        return ((self.x ** 2) + (self.y ** 2)) ** 0.5\n",
    "    \n",
    "    def __str__(self): # All we have done is renamed the method\n",
    "        return \"({0}, {1})\".format(self.x, self.y)\n",
    "    \n",
    "    def halfway(self, target):\n",
    "        \"\"\" Return the halfway point between myself and the target \"\"\" \n",
    "        mx = (self.x + target.x)/2\n",
    "        my = (self.y + target.y)/2\n",
    "        return Point(mx, my)\n",
    "    \n",
    "    def distance_points(self,target):\n",
    "        return ((self.x-target.x)**2 + (self.y-target.y)**2)**0.5\n",
    "    \n",
    "    def reflect_x(self):\n",
    "        return Point(self.x,-self.y)\n",
    "    \n",
    "    def reflect_y(self):\n",
    "        return Point(-self.x,self.y)\n",
    "    \n",
    "    def reflect_xy(self):\n",
    "        return Point(-self.x,-self.y)\n",
    "    \n",
    "    def get_line_to(self,target):\n",
    "        m = (self.y - target.y)/(self.x - target.x)\n",
    "        return (m, target.y - m * target.x)\n",
    "    \n",
    "    def __add__(self, target):\n",
    "        if isinstance(target,Point):\n",
    "            return Point(self.x + target.x, self.y + target.y)\n",
    "        elif isinstance(target,int):\n",
    "             return Point(self.x + target, self.y + target)\n",
    "        else: \n",
    "            return self\n",
    "        \n",
    "    def __radd__(self, target):\n",
    "        return self.__add__(target)\n",
    "    \n",
    "    def __lt__(self, target):\n",
    "            # check x coordinate \n",
    "        if (self.x < target.x) or (self.x == target.x and self.y < target.y): \n",
    "            return True\n",
    "        \n",
    "        else: \n",
    "            return False\n",
    "        \n",
    "    def __gt__(self, target):\n",
    "            # check x coordinate \n",
    "        if (self.x > target.x) or (self.x == target.x and self.y > target.y): \n",
    "            return True\n",
    "        \n",
    "        else: \n",
    "            return False"
   ]
  },
  {
   "cell_type": "code",
   "execution_count": 2,
   "id": "8d546a78",
   "metadata": {},
   "outputs": [
    {
     "data": {
      "text/plain": [
       "False"
      ]
     },
     "execution_count": 2,
     "metadata": {},
     "output_type": "execute_result"
    }
   ],
   "source": [
    "p1 = Point(3,5)\n",
    "p2 = Point(4,2)\n",
    "p1 > p2"
   ]
  },
  {
   "cell_type": "code",
   "execution_count": 3,
   "id": "14ffba25",
   "metadata": {},
   "outputs": [
    {
     "data": {
      "text/plain": [
       "(False, True)"
      ]
     },
     "execution_count": 3,
     "metadata": {},
     "output_type": "execute_result"
    }
   ],
   "source": [
    "p3 = Point(3,-5)\n",
    "p4 = Point(3,8)\n",
    "p3 > p4, p4 > p3"
   ]
  },
  {
   "cell_type": "markdown",
   "id": "36fe6297",
   "metadata": {},
   "source": [
    "## Let's do a project to understand how powerfull OOP is. 🫠🤩"
   ]
  },
  {
   "cell_type": "code",
   "execution_count": null,
   "id": "845de47d",
   "metadata": {},
   "outputs": [],
   "source": [
    "class student():\n",
    "    def __init__(self, name, age, grade):\n",
    "        self.name = name\n",
    "        self.age = age\n",
    "        self.grade = grade     # 0 - 100\n",
    "        \n",
    "    def get_grade(self):\n",
    "        return self.grade\n",
    "    \n",
    "class course():\n",
    "    def __init__(self, name, max_student):\n",
    "        self.name = name \n",
    "        self.max_student = max_student\n",
    "        self.students = []  # it's totally fine to create a prameter and it does not exist in __init__()\n",
    "    def add_student(self, student):\n",
    "        if len(self.students) < self.max_student:\n",
    "            self.students.append(student)\n",
    "            return True\n",
    "        return False\n",
    "\n",
    "    \n",
    "niusha = student('niusha', 21, 10)\n",
    "parsa = student('parsa', 18, 15)\n",
    "soorena = student('soorena', 19, 17)\n",
    "\n",
    "programming  = course('programming', 2)\n",
    "\n",
    "print(programming.add_student(niusha))\n",
    "print(programming.add_student(parsa))\n",
    "\n",
    "print(programming.add_student(soorena))\n",
    "\n",
    "print(programming.students)\n",
    "print(programming.students[0])\n",
    "print(programming.students[0].name)"
   ]
  },
  {
   "cell_type": "markdown",
   "id": "2d20cf7e",
   "metadata": {},
   "source": [
    "### 🤓🤓🤓 HA HA HA see how powerfull it is 👆🏻"
   ]
  },
  {
   "cell_type": "markdown",
   "id": "a97916b9",
   "metadata": {},
   "source": [
    "#### Let's improve the our project"
   ]
  },
  {
   "cell_type": "code",
   "execution_count": null,
   "id": "8358469c",
   "metadata": {},
   "outputs": [],
   "source": [
    "class student():\n",
    "    def __init__(self, name, age, grade):\n",
    "        self.name = name\n",
    "        self.age = age\n",
    "        self.grade = grade     # 0 - 100\n",
    "        \n",
    "    def get_grade(self):\n",
    "        return self.grade\n",
    "    \n",
    "class course():\n",
    "    def __init__(self, name, max_student):\n",
    "        self.name = name \n",
    "        self.max_student = max_student\n",
    "        self.students = []  # it's totally fine to create a prameter and it does not exist in __init__()\n",
    "    def add_student(self, student):\n",
    "        if len(self.students) < self.max_student:\n",
    "            self.students.append(student)\n",
    "            return True\n",
    "        return False\n",
    "    \n",
    "    def get_avrage_grade(self):\n",
    "        value = 0\n",
    "        for student in self.students:\n",
    "            value += student.get_grade()\n",
    "        \n",
    "        return value / len(self.students)\n",
    "\n",
    "    \n",
    "niusha = student('niusha', 21, 10)\n",
    "parsa = student('parsa', 18, 15)\n",
    "soorena = student('soorena', 19, 17)\n",
    "\n",
    "programming  = course('programming', 2)\n",
    "\n",
    "print(programming.add_student(niusha))\n",
    "print(programming.add_student(parsa))\n",
    "\n",
    "print(programming.add_student(soorena))\n",
    "\n",
    "print(programming.students[0].name)\n",
    "print(programming.students[1].name)\n",
    "\n",
    "print('The avrage grade of students in programming course is:', programming.get_avrage_grade())"
   ]
  },
  {
   "cell_type": "code",
   "execution_count": null,
   "id": "9578942a",
   "metadata": {},
   "outputs": [],
   "source": []
  },
  {
   "cell_type": "code",
   "execution_count": null,
   "id": "4674e88e",
   "metadata": {},
   "outputs": [],
   "source": []
  },
  {
   "cell_type": "code",
   "execution_count": null,
   "id": "7d8497c9",
   "metadata": {},
   "outputs": [],
   "source": []
  },
  {
   "cell_type": "code",
   "execution_count": null,
   "id": "eea42487",
   "metadata": {},
   "outputs": [],
   "source": []
  }
 ],
 "metadata": {
  "kernelspec": {
   "display_name": "arminkernel",
   "language": "python",
   "name": "arminkernel"
  },
  "language_info": {
   "codemirror_mode": {
    "name": "ipython",
    "version": 3
   },
   "file_extension": ".py",
   "mimetype": "text/x-python",
   "name": "python",
   "nbconvert_exporter": "python",
   "pygments_lexer": "ipython3",
   "version": "3.10.0"
  }
 },
 "nbformat": 4,
 "nbformat_minor": 5
}
