{
 "cells": [
  {
   "cell_type": "markdown",
   "id": "014e883f",
   "metadata": {},
   "source": [
    "# What is os library ?"
   ]
  },
  {
   "cell_type": "markdown",
   "id": "98954f4f",
   "metadata": {},
   "source": [
    "Python has a built-in os module with methods for interacting with the operating system, like creating files and directories, management of files and directories, input, output, environment variables, process management, etc."
   ]
  },
  {
   "cell_type": "markdown",
   "id": "8188f168",
   "metadata": {},
   "source": [
    "## Now we're going to learn 'OS' and it's applications"
   ]
  },
  {
   "cell_type": "code",
   "execution_count": null,
   "id": "0735f3f4",
   "metadata": {},
   "outputs": [],
   "source": [
    "import os"
   ]
  },
  {
   "cell_type": "code",
   "execution_count": null,
   "id": "a28a99c0",
   "metadata": {},
   "outputs": [],
   "source": [
    "print(dir(os))"
   ]
  },
  {
   "cell_type": "code",
   "execution_count": null,
   "id": "792e3d0c",
   "metadata": {},
   "outputs": [],
   "source": [
    "# let's print the current directory that we are in \n",
    "print(os.getcwd())"
   ]
  },
  {
   "cell_type": "code",
   "execution_count": null,
   "id": "66ccf647",
   "metadata": {},
   "outputs": [],
   "source": [
    "# we can change our path \n",
    "os.chdir('/Users/armingolzar')\n",
    "print(os.getcwd())"
   ]
  },
  {
   "cell_type": "code",
   "execution_count": null,
   "id": "8c19dce1",
   "metadata": {},
   "outputs": [],
   "source": [
    "# we can see what files and folders are in the path \n",
    "os.listdir()"
   ]
  },
  {
   "cell_type": "code",
   "execution_count": null,
   "id": "ad71417b",
   "metadata": {},
   "outputs": [],
   "source": [
    "# The ScandirIterator points to all the entries in the current directory.\n",
    "with os.scandir('./') as entries:\n",
    "    for entry in entries:\n",
    "        print(entry.name)"
   ]
  },
  {
   "cell_type": "code",
   "execution_count": null,
   "id": "75e7f107",
   "metadata": {},
   "outputs": [],
   "source": [
    "from pathlib import Path\n",
    "\n",
    "entries = Path('./')\n",
    "for entry in entries.iterdir():\n",
    "    print(entry)"
   ]
  },
  {
   "cell_type": "markdown",
   "id": "e873a251",
   "metadata": {},
   "source": [
    "Function    | Description\n",
    "------------|---------------\n",
    "os.listdir() | Returns a list of all files and folders in a directory\n",
    "os.scandir()| Returns an iterator of all the objects in a directory including file attribute information\n",
    "pathlib.Path.iterdir() | Returns an iterator of all the objects in a directory including file attribute information"
   ]
  },
  {
   "cell_type": "code",
   "execution_count": null,
   "id": "63845177",
   "metadata": {},
   "outputs": [],
   "source": [
    "with os.scandir('./') as entries:\n",
    "    for entry in entries:\n",
    "        if entry.is_file():\n",
    "            print(entry.name)"
   ]
  },
  {
   "cell_type": "code",
   "execution_count": null,
   "id": "2cb8a239",
   "metadata": {},
   "outputs": [],
   "source": [
    "from pathlib import Path\n",
    "\n",
    "basepath = Path('./')\n",
    "files_in_basepath = basepath.iterdir()\n",
    "for item in files_in_basepath:\n",
    "    if item.is_file():\n",
    "        print(item.name)"
   ]
  },
  {
   "cell_type": "code",
   "execution_count": null,
   "id": "102e5114",
   "metadata": {},
   "outputs": [],
   "source": [
    "from pathlib import Path\n",
    "\n",
    "# List all files in directory using pathlib\n",
    "basepath = Path('./')\n",
    "files_in_basepath = (entry for entry in basepath.iterdir() if entry.is_file())\n",
    "for item in files_in_basepath:\n",
    "    print(item.name)"
   ]
  },
  {
   "cell_type": "code",
   "execution_count": null,
   "id": "ab3577bb",
   "metadata": {},
   "outputs": [],
   "source": [
    "import os\n",
    "\n",
    "# List all subdirectories using os.listdir except those started with .\n",
    "basepath = '../../../'\n",
    "for entry in os.listdir(basepath):\n",
    "#     print(os.path.join(basepath, entry))\n",
    "    if (os.path.isdir(os.path.join(basepath, entry)) and not(entry.startswith('.'))):\n",
    "        print(entry)"
   ]
  },
  {
   "cell_type": "code",
   "execution_count": null,
   "id": "a0d10f4f",
   "metadata": {},
   "outputs": [],
   "source": [
    "# there are two types of creating directory with os\n",
    "# first one creates directory in one stage but second one creates in deeper stages \n",
    "os.mkdir('first_dir/first_sub_dir')"
   ]
  },
  {
   "cell_type": "code",
   "execution_count": null,
   "id": "e7b55ee8",
   "metadata": {},
   "outputs": [],
   "source": [
    "# but as you can see\n",
    "os.makedirs('first_dir_1/first_sub_dir_1')\n",
    "os.mkdir('first_dir')"
   ]
  },
  {
   "cell_type": "code",
   "execution_count": null,
   "id": "3eb2cf09",
   "metadata": {},
   "outputs": [],
   "source": [
    "# in the same pattern you can remove directories\n",
    "os.rmdir('first_dir')\n",
    "os.removedirs('first_dir_1/first_sub_dir_1')"
   ]
  },
  {
   "cell_type": "markdown",
   "id": "0b680f97",
   "metadata": {},
   "source": [
    "#### ✌️😎 Tip: usually use makedirs for creating but rmdir for removing "
   ]
  },
  {
   "cell_type": "markdown",
   "id": "3a452613",
   "metadata": {},
   "source": [
    "___"
   ]
  },
  {
   "cell_type": "code",
   "execution_count": null,
   "id": "c705e478",
   "metadata": {},
   "outputs": [],
   "source": [
    "# rename \n",
    "os.rename('first_dir', 'second_dir')"
   ]
  },
  {
   "cell_type": "code",
   "execution_count": null,
   "id": "d15bfab0",
   "metadata": {},
   "outputs": [],
   "source": [
    "# how can we see some information about files ????\n",
    "print(os.stat('second_dir'), '\\n')\n",
    "print(os.stat('second_dir').st_size)"
   ]
  },
  {
   "cell_type": "markdown",
   "id": "d9447fe7",
   "metadata": {},
   "source": [
    "#### The question is how to transfer this times to real format ????💡"
   ]
  },
  {
   "cell_type": "code",
   "execution_count": null,
   "id": "135a434f",
   "metadata": {},
   "outputs": [],
   "source": [
    "from datetime import datetime\n",
    "modify_time = os.stat('second_dir').st_mtime\n",
    "print(datetime.fromtimestamp(modify_time))"
   ]
  },
  {
   "cell_type": "markdown",
   "id": "7368d2b9",
   "metadata": {},
   "source": [
    "#### 🫠🤗 Tip: this is very useful for applications "
   ]
  },
  {
   "cell_type": "markdown",
   "id": "d22affad",
   "metadata": {},
   "source": [
    "____"
   ]
  },
  {
   "cell_type": "code",
   "execution_count": null,
   "id": "0133cdee",
   "metadata": {},
   "outputs": [],
   "source": [
    "# we want to fine a file but we dont know where it is\n",
    "for dirpath, dirnames, filenames in os.walk('/Users/armingolzar/material_complete_python_data'):\n",
    "    print('Current path:', dirpath)\n",
    "    print('Directories', dirnames)\n",
    "    print('Files', filenames, '\\n')"
   ]
  },
  {
   "cell_type": "code",
   "execution_count": null,
   "id": "ee74db8a",
   "metadata": {},
   "outputs": [],
   "source": [
    "# Walking a directory tree and printing the names of the directories and files\n",
    "for dirpath, dirnames, files in os.walk('.'):\n",
    "    print(f'Found directory: {dirnames}')\n",
    "    for file_name in files:\n",
    "        if not(file_name.startswith('.')):\n",
    "            print(file_name)"
   ]
  },
  {
   "cell_type": "code",
   "execution_count": null,
   "id": "a631be69",
   "metadata": {},
   "outputs": [],
   "source": [
    "# we can print the path of our home environment\n",
    "print(os.environ.get('HOME'))"
   ]
  },
  {
   "cell_type": "markdown",
   "id": "a6aa23c4",
   "metadata": {},
   "source": [
    "***"
   ]
  },
  {
   "cell_type": "markdown",
   "id": "0f69d7fe",
   "metadata": {},
   "source": [
    "### Lets work with path"
   ]
  },
  {
   "cell_type": "code",
   "execution_count": null,
   "id": "8fcb2389",
   "metadata": {},
   "outputs": [],
   "source": [
    "file_path = os.environ.get('HOME') + 'text.txt'\n",
    "print(file_path)"
   ]
  },
  {
   "cell_type": "markdown",
   "id": "f2d64616",
   "metadata": {},
   "source": [
    "#### 🤥🫤 Tip: you can forget '/' easily or some paths already have '/' and in this way we propably see a big erreo "
   ]
  },
  {
   "cell_type": "code",
   "execution_count": null,
   "id": "4c7c1424",
   "metadata": {},
   "outputs": [],
   "source": [
    "# the best way to generate path \n",
    "file_path_1 = os.path.join(os.environ.get('HOME'), 'python3_project')\n",
    "print(file_path_1)"
   ]
  },
  {
   "cell_type": "code",
   "execution_count": null,
   "id": "e9896be6",
   "metadata": {},
   "outputs": [],
   "source": [
    "# we can get the basename and dirname and this will work even the path does not exist\n",
    "print(os.path.basename(file_path_1))\n",
    "print(os.path.dirname(file_path_1))\n",
    "print(os.path.split(file_path_1))"
   ]
  },
  {
   "cell_type": "code",
   "execution_count": null,
   "id": "a7ba543e",
   "metadata": {},
   "outputs": [],
   "source": [
    "file_fake = 'ahmad/ghasemi/akbar.txt'\n",
    "print(os.path.basename(file_fake))\n",
    "print(os.path.dirname(file_fake))\n",
    "print(os.path.split(file_fake))"
   ]
  },
  {
   "cell_type": "code",
   "execution_count": null,
   "id": "b5fefdf7",
   "metadata": {},
   "outputs": [],
   "source": [
    "# check the existency of the path \n",
    "print(os.path.exists(file_path_1))\n",
    "print(os.path.exists(file_fake))"
   ]
  },
  {
   "cell_type": "code",
   "execution_count": null,
   "id": "0e09d226",
   "metadata": {},
   "outputs": [],
   "source": [
    "# checking file or directory\n",
    "print(os.path.isdir(file_path_1))\n",
    "print(os.path.isfile(file_path_1))"
   ]
  },
  {
   "cell_type": "code",
   "execution_count": null,
   "id": "aa152aec",
   "metadata": {},
   "outputs": [],
   "source": [
    "# getting the file without the extention\n",
    "print(os.path.splitext(file_fake))"
   ]
  },
  {
   "cell_type": "markdown",
   "id": "2e3d0d76",
   "metadata": {},
   "source": [
    "## 🚨We have practise\n",
    "#### Write a script that first of all create a directory in root and after that generate a file and write 'Hellow I'm {your_name} and I'm {your_age} years old.' and at last give us the path of the file.\n",
    "### 🫡 Attention your_name and your_age should be gotten form user"
   ]
  },
  {
   "cell_type": "markdown",
   "id": "1739f61d",
   "metadata": {},
   "source": [
    "___"
   ]
  },
  {
   "cell_type": "markdown",
   "id": "10ecadce",
   "metadata": {},
   "source": [
    "## Let's get familiar with 'GLOB'"
   ]
  },
  {
   "cell_type": "markdown",
   "id": "f19ea96e",
   "metadata": {},
   "source": [
    "The glob module, which is short for global, is a function that's used to search for files that match a specific file pattern or name. It can be used to search CSV files and for text in files."
   ]
  },
  {
   "cell_type": "code",
   "execution_count": null,
   "id": "141170cb",
   "metadata": {},
   "outputs": [],
   "source": [
    "import glob"
   ]
  },
  {
   "cell_type": "code",
   "execution_count": null,
   "id": "4a85c258",
   "metadata": {},
   "outputs": [],
   "source": [
    "print(dir(glob))"
   ]
  },
  {
   "cell_type": "code",
   "execution_count": null,
   "id": "c94fc386",
   "metadata": {},
   "outputs": [],
   "source": [
    "# define the root\n",
    "print(glob.glob('/Users/armingolzar'))"
   ]
  },
  {
   "cell_type": "code",
   "execution_count": null,
   "id": "62e03727",
   "metadata": {},
   "outputs": [],
   "source": [
    "# searching for file with 5 characters in the root\n",
    "print(glob.glob('/Users/armingolzar/?????'))"
   ]
  },
  {
   "cell_type": "code",
   "execution_count": null,
   "id": "e249f77c",
   "metadata": {},
   "outputs": [],
   "source": [
    "# we can use * in glob for finding every object that have the situation \n",
    "print(glob.glob('/Users/armingolzar/*.py'))"
   ]
  },
  {
   "cell_type": "code",
   "execution_count": null,
   "id": "6c41a5ed",
   "metadata": {},
   "outputs": [],
   "source": [
    "print(glob.glob('/Users/armingolzar/test_glob.*'))"
   ]
  },
  {
   "cell_type": "code",
   "execution_count": null,
   "id": "9e10725a",
   "metadata": {},
   "outputs": [],
   "source": [
    "print(glob.glob('/Users/armingolzar/*'))"
   ]
  },
  {
   "cell_type": "code",
   "execution_count": null,
   "id": "2ad73ff7",
   "metadata": {},
   "outputs": [],
   "source": [
    "print(glob.glob('/Users/armingolzar/*.*'))"
   ]
  },
  {
   "cell_type": "code",
   "execution_count": null,
   "id": "c243ffdf",
   "metadata": {},
   "outputs": [],
   "source": [
    "for x in (glob.glob('/Users/*/*.*')):\n",
    "    print(x)"
   ]
  },
  {
   "cell_type": "markdown",
   "id": "1381219e",
   "metadata": {},
   "source": [
    "#### 🫨😲 Tip: * . * only works for files with extention due to it's pattern but for directories you can work with *"
   ]
  },
  {
   "cell_type": "code",
   "execution_count": null,
   "id": "71877c46",
   "metadata": {},
   "outputs": [],
   "source": [
    "# using [] for professional search with glob. The characters in [] set the statment True if any files start with\n",
    "# themselves\n",
    "print(glob.glob('/Users/armingolzar/[ig]*.*'))"
   ]
  },
  {
   "cell_type": "code",
   "execution_count": null,
   "id": "7d21b660",
   "metadata": {},
   "outputs": [],
   "source": [
    "print(glob.glob('/Users/armingolzar/[ig]*.py'))"
   ]
  },
  {
   "cell_type": "code",
   "execution_count": null,
   "id": "b735b393",
   "metadata": {},
   "outputs": [],
   "source": [
    "# use ! in [] to reverse the statment\n",
    "print(glob.glob('/Users/armingolzar/[!ig]*.py'))"
   ]
  },
  {
   "cell_type": "code",
   "execution_count": null,
   "id": "efccc0e5",
   "metadata": {},
   "outputs": [],
   "source": [
    "# now what is **. Actually this means search into folders from one root recursively\n",
    "print(glob.glob('**/*.py', \n",
    "               root_dir = '/Users/armingolzar/python3_project',\n",
    "               recursive = True))"
   ]
  },
  {
   "cell_type": "code",
   "execution_count": null,
   "id": "9384af29",
   "metadata": {},
   "outputs": [],
   "source": [
    "# how to run glob in efficient way\n",
    "globs = glob.iglob('**/*.py', \n",
    "               root_dir = '/Users/armingolzar/python3_project',\n",
    "               recursive = True)\n",
    "for i, file in enumerate(globs, 1):\n",
    "    print(i, file, sep=' : ')"
   ]
  },
  {
   "cell_type": "code",
   "execution_count": null,
   "id": "fa9d8543",
   "metadata": {},
   "outputs": [],
   "source": [
    "# in glob we can easily work with for loop\n",
    "for i, address in enumerate(glob.glob('**/*.py',root_dir = '/Users/armingolzar/python3_project',recursive = True), 1):\n",
    "    print(i, address, sep=' : ')"
   ]
  },
  {
   "cell_type": "code",
   "execution_count": null,
   "id": "891a6d90",
   "metadata": {},
   "outputs": [],
   "source": [
    "# working with glob and getting all addresses of images\n",
    "for address in glob.glob('/Users/armingolzar/python3_project/AI_makeup_project/yolov8-make-up/LaPa/train/images/*.*'):\n",
    "    print(address)"
   ]
  },
  {
   "cell_type": "markdown",
   "id": "540e70ce",
   "metadata": {},
   "source": [
    "## 🚨We have practise\n",
    "#### Download 10 images and create a directory on two folder before considered path after that print addresses of images.\n",
    "### 😲 Attention: you can not use the path of the directory that images are in just use current path & you should    start from root."
   ]
  },
  {
   "cell_type": "code",
   "execution_count": null,
   "id": "81940134",
   "metadata": {},
   "outputs": [],
   "source": []
  },
  {
   "cell_type": "code",
   "execution_count": null,
   "id": "c17debd0",
   "metadata": {},
   "outputs": [],
   "source": []
  },
  {
   "cell_type": "code",
   "execution_count": null,
   "id": "239b3664",
   "metadata": {},
   "outputs": [],
   "source": []
  }
 ],
 "metadata": {
  "kernelspec": {
   "display_name": "arminkernel",
   "language": "python",
   "name": "arminkernel"
  },
  "language_info": {
   "codemirror_mode": {
    "name": "ipython",
    "version": 3
   },
   "file_extension": ".py",
   "mimetype": "text/x-python",
   "name": "python",
   "nbconvert_exporter": "python",
   "pygments_lexer": "ipython3",
   "version": "3.10.0"
  }
 },
 "nbformat": 4,
 "nbformat_minor": 5
}
