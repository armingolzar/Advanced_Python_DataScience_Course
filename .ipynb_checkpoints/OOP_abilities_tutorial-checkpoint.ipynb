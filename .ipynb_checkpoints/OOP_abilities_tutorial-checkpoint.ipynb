{
 "cells": [
  {
   "cell_type": "markdown",
   "id": "64703b3f",
   "metadata": {},
   "source": [
    "# The abilities of OOP"
   ]
  },
  {
   "cell_type": "markdown",
   "id": "38d1b90f",
   "metadata": {},
   "source": [
    "### OOP programming has four abilities:\n",
    "1. Inheritance \n",
    "2. Abstraction\n",
    "3. Polymorphism\n",
    "4. Encapsulation "
   ]
  },
  {
   "cell_type": "markdown",
   "id": "5b19d7da",
   "metadata": {},
   "source": [
    "😁 We are going to learn these features one by one."
   ]
  },
  {
   "cell_type": "markdown",
   "id": "6d32a709",
   "metadata": {},
   "source": [
    "## Inheritance\n",
    "#### Inheritance is considered the most important feature in an OOPs. Inheritance is the ability of a class to inherit methods and/or attributes of another class. The inheriting class is called the subclass or the child class. The class from which methods and/or attributes are inherited is called the superclass or the parent class."
   ]
  },
  {
   "cell_type": "code",
   "execution_count": 8,
   "id": "d242747a",
   "metadata": {},
   "outputs": [],
   "source": [
    "# let's create two classes: Cat & Dog\n",
    "class cat():\n",
    "    \n",
    "    def __init__(self, name, age):\n",
    "        self.name = name\n",
    "        self.age = age\n",
    "        \n",
    "    def speak(self):\n",
    "        print('meow')\n",
    "        \n",
    "class dog():\n",
    "    \n",
    "    def __init__(self, name, age):\n",
    "        name = self.name\n",
    "        age = self.age\n",
    "        \n",
    "    def speak(self):\n",
    "        print('bark')\n",
    "        "
   ]
  },
  {
   "cell_type": "code",
   "execution_count": 9,
   "id": "e04f4983",
   "metadata": {},
   "outputs": [],
   "source": [
    "# as you can see two classes are the same except speaking method so in these situation Inheritance helps us.\n",
    "# we can create general classes as a superclass and specific classes as a subclass.\n",
    "\n",
    "class pet():\n",
    "    \n",
    "    def __init__(self, name, age):\n",
    "        self.name = name\n",
    "        self.age = age\n",
    "    \n",
    "    def show(self):\n",
    "        print(f'I am {self.name} & I am {self.age} years old.')\n",
    "        \n",
    "class cat(pet):\n",
    "    def speak(self):\n",
    "        print('meow')\n",
    "        \n",
    "class dog(pet):\n",
    "    def speak(self):\n",
    "        print('bark')"
   ]
  },
  {
   "cell_type": "code",
   "execution_count": 11,
   "id": "1bb88696",
   "metadata": {},
   "outputs": [
    {
     "name": "stdout",
     "output_type": "stream",
     "text": [
      "I am pedro and I am 7 years old.\n",
      "I am rex and I am 13 years old.\n",
      "I am persi and I am 4 years old.\n",
      "meow\n",
      "bark\n"
     ]
    }
   ],
   "source": [
    "persi = cat('persi', 4)\n",
    "rex = dog('rex', 13)\n",
    "pedro = pet('pedro', 7)\n",
    "\n",
    "pedro.show()\n",
    "rex.show()\n",
    "persi.show()\n",
    "persi.speak()\n",
    "rex.speak()"
   ]
  },
  {
   "cell_type": "markdown",
   "id": "3c19d7c7",
   "metadata": {},
   "source": [
    "### ! what happen if super class has a speak method?👆🏻"
   ]
  },
  {
   "cell_type": "markdown",
   "id": "754f1995",
   "metadata": {},
   "source": [
    "### Also we can do a little more complex things"
   ]
  },
  {
   "cell_type": "code",
   "execution_count": 12,
   "id": "52787260",
   "metadata": {},
   "outputs": [],
   "source": [
    "class pet():\n",
    "    \n",
    "    def __init__(self, name, age):\n",
    "        self.name = name\n",
    "        self.age = age\n",
    "    \n",
    "    def show(self):\n",
    "        print(f'I am {self.name} and I am {self.age} years old.')\n",
    "        \n",
    "class cat(pet):\n",
    "    def __init__(self, name, age, color):\n",
    "        super().__init__(name, age)\n",
    "        self.color = color\n",
    "    \n",
    "    def full_info(self):\n",
    "        print(f'I am {self.name} & I am {self.age} years old & I am {self.color}')\n",
    "    \n",
    "    \n",
    "    def speak(self):\n",
    "        print('meow')\n",
    "        \n",
    "class dog(pet):\n",
    "    def speak(self):\n",
    "        print('bark')"
   ]
  },
  {
   "cell_type": "code",
   "execution_count": 13,
   "id": "2fb9b6d7",
   "metadata": {},
   "outputs": [
    {
     "name": "stdout",
     "output_type": "stream",
     "text": [
      "I am pedro and I am 7 years old.\n",
      "I am rex and I am 13 years old.\n",
      "I am persi and I am 4 years old.\n",
      "meow\n",
      "bark\n",
      "I am persi & I am 4 years old & I am white\n"
     ]
    },
    {
     "ename": "AttributeError",
     "evalue": "'dog' object has no attribute 'full_info'",
     "output_type": "error",
     "traceback": [
      "\u001b[0;31m---------------------------------------------------------------------------\u001b[0m",
      "\u001b[0;31mAttributeError\u001b[0m                            Traceback (most recent call last)",
      "Cell \u001b[0;32mIn[13], line 11\u001b[0m\n\u001b[1;32m      9\u001b[0m rex\u001b[38;5;241m.\u001b[39mspeak()\n\u001b[1;32m     10\u001b[0m persi\u001b[38;5;241m.\u001b[39mfull_info()\n\u001b[0;32m---> 11\u001b[0m \u001b[43mrex\u001b[49m\u001b[38;5;241;43m.\u001b[39;49m\u001b[43mfull_info\u001b[49m()\n",
      "\u001b[0;31mAttributeError\u001b[0m: 'dog' object has no attribute 'full_info'"
     ]
    }
   ],
   "source": [
    "persi = cat('persi', 4, 'white')\n",
    "rex = dog('rex', 13)\n",
    "pedro = pet('pedro', 7)\n",
    "\n",
    "pedro.show()\n",
    "rex.show()\n",
    "persi.show()\n",
    "persi.speak()\n",
    "rex.speak()\n",
    "persi.full_info()\n",
    "rex.full_info()"
   ]
  },
  {
   "cell_type": "markdown",
   "id": "ffed84cf",
   "metadata": {},
   "source": [
    "### let's work more with classes attributes "
   ]
  },
  {
   "cell_type": "code",
   "execution_count": 21,
   "id": "9c556e80",
   "metadata": {},
   "outputs": [
    {
     "name": "stdout",
     "output_type": "stream",
     "text": [
      "0\n",
      "armin\n",
      "0\n",
      "arta\n",
      "0\n"
     ]
    }
   ],
   "source": [
    "class person():\n",
    "#   look this is a general attribute which is constant for every instance \n",
    "    number_of_peapol = 0\n",
    "    \n",
    "    def __init__(self, name):\n",
    "#       but it's an attribute which is different for every instance\n",
    "        self.name = name\n",
    "        \n",
    "    def walk(self):\n",
    "        print('I am walking')\n",
    "armin = person('armin')\n",
    "print(armin.number_of_peapol)\n",
    "print(armin.name)\n",
    "arta = person('arta')\n",
    "print(arta.number_of_peapol)\n",
    "print(arta.name)\n",
    "print(person.number_of_peapol)"
   ]
  },
  {
   "cell_type": "code",
   "execution_count": 28,
   "id": "e1cb0766",
   "metadata": {},
   "outputs": [],
   "source": [
    "class person():\n",
    "#   look this is a general attribute which is constant for every instance \n",
    "    number_of_peapol = 0\n",
    "    \n",
    "    def __init__(self, name):\n",
    "#       but it's an attribute which is different for every instance\n",
    "        self.name = name\n",
    "        person.number_of_peapol += 1\n",
    "        \n",
    "    def walk(self):\n",
    "        print('I am walking')\n"
   ]
  },
  {
   "cell_type": "code",
   "execution_count": 29,
   "id": "9e5316d9",
   "metadata": {},
   "outputs": [
    {
     "name": "stdout",
     "output_type": "stream",
     "text": [
      "1\n",
      "2\n"
     ]
    }
   ],
   "source": [
    "armin = person('armin')\n",
    "print(armin.number_of_peapol)\n",
    "arta = person('arta')\n",
    "print(arta.number_of_peapol)"
   ]
  },
  {
   "cell_type": "markdown",
   "id": "382fd407",
   "metadata": {},
   "source": [
    "## Encapsulation\n",
    "#### Encapsulation is the process of making certain attributes inaccessible to their clients and can only be accessed through certain methods. The inaccessible attributes are called private attributes, and the process of making certain attributes private is called information hiding. Private attributes begin with two underscores. "
   ]
  },
  {
   "cell_type": "code",
   "execution_count": 31,
   "id": "213ce27c",
   "metadata": {},
   "outputs": [],
   "source": [
    "class Poetry():\n",
    "    def __init__(self, title, poems_count, author, price):\n",
    "        self.title = title\n",
    "        self.poems_count = poems_count\n",
    "        self.author = author\n",
    "        self.price = price\n",
    "        self.__discount = 0.20 \n",
    "        \n",
    "    def __str__(self):\n",
    "        return f'Poetry: {self.title} by {self.author}, price {self.price}'"
   ]
  },
  {
   "cell_type": "code",
   "execution_count": 32,
   "id": "4e653d06",
   "metadata": {},
   "outputs": [
    {
     "name": "stdout",
     "output_type": "stream",
     "text": [
      "Walt Whitman\n",
      "Leaves of Grass\n",
      "600\n"
     ]
    }
   ],
   "source": [
    "poem_1 = Poetry('Leaves of Grass', 383, 'Walt Whitman', 600)\n",
    "print(poem_1.author)\n",
    "print(poem_1.title)\n",
    "print(poem_1.price)"
   ]
  },
  {
   "cell_type": "code",
   "execution_count": 33,
   "id": "602cc469",
   "metadata": {},
   "outputs": [
    {
     "ename": "AttributeError",
     "evalue": "'Poetry' object has no attribute '__discount'",
     "output_type": "error",
     "traceback": [
      "\u001b[0;31m---------------------------------------------------------------------------\u001b[0m",
      "\u001b[0;31mAttributeError\u001b[0m                            Traceback (most recent call last)",
      "Cell \u001b[0;32mIn[33], line 1\u001b[0m\n\u001b[0;32m----> 1\u001b[0m \u001b[38;5;28mprint\u001b[39m(\u001b[43mpoem_1\u001b[49m\u001b[38;5;241;43m.\u001b[39;49m\u001b[43m__discount\u001b[49m)\n",
      "\u001b[0;31mAttributeError\u001b[0m: 'Poetry' object has no attribute '__discount'"
     ]
    }
   ],
   "source": [
    "print(poem_1.__discount) "
   ]
  },
  {
   "cell_type": "markdown",
   "id": "b1499e06",
   "metadata": {},
   "source": [
    "#### Remark: Private attributes are accessed through methods called getter and setter. "
   ]
  },
  {
   "cell_type": "markdown",
   "id": "751edd5f",
   "metadata": {},
   "source": [
    "#### In the following code example, we make the price attribute private; we assign the discount attribute through a setter method and read the price attribute through a getter method."
   ]
  },
  {
   "cell_type": "code",
   "execution_count": 70,
   "id": "77c3c1b2",
   "metadata": {},
   "outputs": [],
   "source": [
    "class Poetry():\n",
    "    def __init__(self, title, poems_count, author, price):\n",
    "        self.title = title\n",
    "        self.poems_count = poems_count\n",
    "        self.author = author\n",
    "        self.__price = price\n",
    "        self.__discount = None\n",
    "\n",
    "    def set_discount(self, value):\n",
    "        self.__discount = value\n",
    "\n",
    "    def get_price(self):\n",
    "        if self.__discount is None:\n",
    "            return self.__price\n",
    "        else:\n",
    "            return self.__price * (1 - self.__discount)\n",
    "\n",
    "    def __str__(self):\n",
    "        return f'Poetry: {self.title} by {self.author}, price {self.get_price()}'"
   ]
  },
  {
   "cell_type": "markdown",
   "id": "f114c412",
   "metadata": {},
   "source": [
    "#### Let’s create two objects of the same Poetry, one for retail purchase and another for bulk purchase. We assign the bulk purchase object with a discount of 30%."
   ]
  },
  {
   "cell_type": "code",
   "execution_count": 71,
   "id": "0f9478f2",
   "metadata": {},
   "outputs": [],
   "source": [
    "normal = Poetry('Leaves of Grass', 383, 'Walt Whitman', 600)\n",
    "retail_purchase = Poetry('Leaves of Grass', 383, 'Walt Whitman', 600)\n",
    "bulk_purchase = Poetry('Leaves of Grass', 383, 'Walt Whitman', 600)\n",
    "# assign 30% discount to bulk purchase alone\n",
    "retail_purchase.set_discount(0.10)\n",
    "bulk_purchase.set_discount(0.30)"
   ]
  },
  {
   "cell_type": "code",
   "execution_count": 78,
   "id": "29897daf",
   "metadata": {},
   "outputs": [
    {
     "name": "stdout",
     "output_type": "stream",
     "text": [
      "540.0\n",
      "420.0\n",
      "Poetry: Leaves of Grass by Walt Whitman, price 540.0\n",
      "Poetry: Leaves of Grass by Walt Whitman, price 420.0\n",
      "Poetry: Leaves of Grass by Walt Whitman, price 600\n"
     ]
    }
   ],
   "source": [
    "print(retail_purchase.get_price())\n",
    "print(bulk_purchase.get_price())\n",
    "print(retail_purchase)\n",
    "print(bulk_purchase)\n",
    "print(normal)"
   ]
  },
  {
   "cell_type": "markdown",
   "id": "faeed51a",
   "metadata": {},
   "source": [
    "## Polymorphism\n",
    "#### The word ```polymorphism``` is derived from the Greek language, meaning ```something that takes different forms```. Polymorphism is a subclass’s ability to customize a method as per need that is already present in its superclass. \n",
    "\n",
    "#### In other words, a subclass may either use a method in its superclass as such or modify it suitably whenever required. \n"
   ]
  },
  {
   "cell_type": "code",
   "execution_count": 112,
   "id": "96f0d0ea",
   "metadata": {},
   "outputs": [],
   "source": [
    "class Book():\n",
    "    def __init__(self, title, author, price):\n",
    "        self.title = title\n",
    "        self.author = author\n",
    "        self.__price = price\n",
    "        self.__discount = None\n",
    "\n",
    "    def set_discount(self, value):\n",
    "        self.__discount = value\n",
    "\n",
    "    def get_price(self):\n",
    "        if self.__discount is None:\n",
    "            return self.__price\n",
    "        else:\n",
    "            return self.__price * (1 - self.__discount)\n",
    "\n",
    "    def __str__(self):\n",
    "        return f'{self.title} by {self.author}, price {self.get_price()}'"
   ]
  },
  {
   "cell_type": "code",
   "execution_count": 113,
   "id": "8388b583",
   "metadata": {},
   "outputs": [],
   "source": [
    "class Poetry(Book):\n",
    "    def __init__(self, title, poems_count, author, price):\n",
    "        super().__init__(title, author, price)\n",
    "        self.poems_count = poems_count"
   ]
  },
  {
   "cell_type": "code",
   "execution_count": 114,
   "id": "a11407af",
   "metadata": {},
   "outputs": [],
   "source": [
    "class Play(Book):\n",
    "    def __init__(self, title, genre, author, price):\n",
    "        super().__init__(title, author, price)\n",
    "        self.genre = genre\n",
    "\n",
    "    def __str__(self):\n",
    "        return f'{self.genre} Play: {self.title} by {self.author}, price {self.get_price()}'"
   ]
  },
  {
   "cell_type": "code",
   "execution_count": 115,
   "id": "64f9e9f6",
   "metadata": {},
   "outputs": [],
   "source": [
    "class Novel(Book):\n",
    "    def __init__(self, title, pages, author, price):\n",
    "        super().__init__(title, author, price)\n",
    "        self.pages = pages "
   ]
  },
  {
   "cell_type": "code",
   "execution_count": 116,
   "id": "b96f85ec",
   "metadata": {},
   "outputs": [
    {
     "name": "stdout",
     "output_type": "stream",
     "text": [
      "Milk and Honey by Rupi Kaur, price 320\n",
      "Comedy Play: An Ideal Husband by Oscar Wilde, price 240\n",
      "The Alchemist by Paulo Coelho, price 180\n"
     ]
    }
   ],
   "source": [
    "poem_2 = Poetry('Milk and Honey', 179, 'Rupi Kaur', 320)\n",
    "play_2 = Play('An Ideal Husband', 'Comedy', 'Oscar Wilde', 240)\n",
    "novel_2 = Novel('The Alchemist', 161, 'Paulo Coelho', 180)\n",
    "\n",
    "print(poem_2)\n",
    "print(play_2)\n",
    "print(novel_2)"
   ]
  },
  {
   "cell_type": "markdown",
   "id": "68d9f7d7",
   "metadata": {},
   "source": [
    "#### It can be seen that the Book superclass has a special method ```__str__```. Subclasses Poetry and Novel can use this method as such, so that whenever an object is printed, this method will be invoked. On the other hand, in the above example code, the Play subclass is defined with its own ```__str__``` special method. \n",
    "\n",
    "#### By polymorphism, the Play subclass will invoke its own method by suppressing the same method available in its superclass."
   ]
  },
  {
   "cell_type": "code",
   "execution_count": 94,
   "id": "48aa79f7",
   "metadata": {},
   "outputs": [
    {
     "data": {
      "text/plain": [
       "True"
      ]
     },
     "execution_count": 94,
     "metadata": {},
     "output_type": "execute_result"
    }
   ],
   "source": [
    "issubclass(Novel, Book)"
   ]
  },
  {
   "cell_type": "code",
   "execution_count": 102,
   "id": "e419f7b9",
   "metadata": {},
   "outputs": [],
   "source": [
    "class human():\n",
    "    \n",
    "    def __init__(self, name, age, sex):\n",
    "        self.name = name\n",
    "        self.age = age \n",
    "        self.sex = sex\n",
    "        \n",
    "    def walk(self):\n",
    "        print(f'{self.name} & {self.age} & {self.sex}')\n",
    "        \n",
    "class iranian(human):\n",
    "    def __init__(self, name, age, sex, nationality):\n",
    "        super().__init__(name, age, sex)\n",
    "        self.nationality = nationality\n",
    "        \n",
    "    def show(self):\n",
    "        print(f'{self.nationality}')"
   ]
  },
  {
   "cell_type": "code",
   "execution_count": 110,
   "id": "c663e561",
   "metadata": {},
   "outputs": [
    {
     "name": "stdout",
     "output_type": "stream",
     "text": [
      "armin\n",
      "iran\n",
      "armin & 24 & male\n"
     ]
    }
   ],
   "source": [
    "armin = iranian('armin', 24, 'male', 'iran')\n",
    "print(armin.name)\n",
    "armin.show()\n",
    "armin.walk()"
   ]
  },
  {
   "cell_type": "markdown",
   "id": "10530a2e",
   "metadata": {},
   "source": [
    "## Abstraction\n",
    "#### Python does not have a direct support for abstraction. However, abstraction is enabled by calling a magic method. If a method in a superclass is declared to be an abstract method, subclasses that inherit from the superclass must have their own versions of the said method. An abstract method in a superclass will never be invoked by its subclasses. But, the abstraction helps maintain a certain common structure in all of the subclasses. \n",
    "\n",
    "#### In our bookseller sales software example, we have defined ```__str__``` methods for each of the subclasses under the Inheritance subheading; we have defined a common ```__str__``` method in a superclass that a subclass may invoke if it fails to have its own method under the Polymorphism subheading. Here, in this part, the superclass will have an abstract ```__str__``` method forcing every subclass to compulsorily have their own ```__str__``` method.\n"
   ]
  },
  {
   "cell_type": "code",
   "execution_count": 117,
   "id": "63ea22a6",
   "metadata": {},
   "outputs": [],
   "source": [
    "from abc import ABC, abstractmethod\n",
    "class Book(ABC):\n",
    "    def __init__(self, title, author, price):\n",
    "        self.title = title\n",
    "        self.author = author\n",
    "        self.__price = price\n",
    "        self.__discount = None\n",
    "\n",
    "    def set_discount(self, value):\n",
    "        self.__discount = value\n",
    "\n",
    "    def get_price(self):\n",
    "        if self.__discount is None:\n",
    "            return self.__price\n",
    "        else:\n",
    "            return self.__price * (1 - self.__discount)\n",
    "\n",
    "    @abstractmethod\n",
    "    def __str__(self):\n",
    "        return f'{self.title} by {self.author}, price {self.get_price()}'"
   ]
  },
  {
   "cell_type": "code",
   "execution_count": 118,
   "id": "0f4b666f",
   "metadata": {},
   "outputs": [],
   "source": [
    "class Poetry(Book):\n",
    "    def __init__(self, title, poems_count, author, price):\n",
    "        super().__init__(title, author, price)\n",
    "        self.poems_count = poems_count"
   ]
  },
  {
   "cell_type": "code",
   "execution_count": 119,
   "id": "2ab1b6a1",
   "metadata": {},
   "outputs": [],
   "source": [
    "class Play(Book):\n",
    "    def __init__(self, title, genre, author, price):\n",
    "        super().__init__(title, author, price)\n",
    "        self.genre = genre\n",
    "\n",
    "    def __str__(self):\n",
    "        return f'{self.genre} Play: {self.title} by {self.author}, price {self.get_price()}' "
   ]
  },
  {
   "cell_type": "markdown",
   "id": "0af675e4",
   "metadata": {},
   "source": [
    "#### We intentionally miss here to define a ```__str__``` method separately for Poetry subclass. "
   ]
  },
  {
   "cell_type": "code",
   "execution_count": 120,
   "id": "34fd1ad3",
   "metadata": {},
   "outputs": [
    {
     "name": "stdout",
     "output_type": "stream",
     "text": [
      "Tragedy Play: Death of a Salesman by Arthur Miller, price 240\n"
     ]
    }
   ],
   "source": [
    "play_3 = Play('Death of a Salesman', 'Tragedy', 'Arthur Miller', 240)\n",
    "print(play_3)"
   ]
  },
  {
   "cell_type": "code",
   "execution_count": 121,
   "id": "d21127c4",
   "metadata": {},
   "outputs": [
    {
     "ename": "TypeError",
     "evalue": "Can't instantiate abstract class Poetry with abstract method __str__",
     "output_type": "error",
     "traceback": [
      "\u001b[0;31m---------------------------------------------------------------------------\u001b[0m",
      "\u001b[0;31mTypeError\u001b[0m                                 Traceback (most recent call last)",
      "Cell \u001b[0;32mIn[121], line 1\u001b[0m\n\u001b[0;32m----> 1\u001b[0m poem_3 \u001b[38;5;241m=\u001b[39m \u001b[43mPoetry\u001b[49m\u001b[43m(\u001b[49m\u001b[38;5;124;43m'\u001b[39;49m\u001b[38;5;124;43mLife on Mars\u001b[39;49m\u001b[38;5;124;43m'\u001b[39;49m\u001b[43m,\u001b[49m\u001b[43m \u001b[49m\u001b[38;5;241;43m33\u001b[39;49m\u001b[43m,\u001b[49m\u001b[43m \u001b[49m\u001b[38;5;124;43m'\u001b[39;49m\u001b[38;5;124;43mTracy K. Smith\u001b[39;49m\u001b[38;5;124;43m'\u001b[39;49m\u001b[43m,\u001b[49m\u001b[43m \u001b[49m\u001b[38;5;241;43m100\u001b[39;49m\u001b[43m)\u001b[49m\n",
      "\u001b[0;31mTypeError\u001b[0m: Can't instantiate abstract class Poetry with abstract method __str__"
     ]
    }
   ],
   "source": [
    "poem_3 = Poetry('Life on Mars', 33, 'Tracy K. Smith', 100)"
   ]
  },
  {
   "cell_type": "markdown",
   "id": "e9c624a1",
   "metadata": {},
   "source": [
    "#### We get a TypeError for the Poetry object!\n",
    "\n",
    "#### The correct implementation of an abstract class with an abstract method is as below:"
   ]
  },
  {
   "cell_type": "code",
   "execution_count": 123,
   "id": "85d2931a",
   "metadata": {},
   "outputs": [],
   "source": [
    "from abc import ABC, abstractmethod\n",
    "\n",
    "class Book(ABC):\n",
    "    def __init__(self, title, author, price):\n",
    "        self.title = title\n",
    "        self.author = author\n",
    "        self.__price = price\n",
    "        self.__discount = None\n",
    "\n",
    "    def set_discount(self, value):\n",
    "        self.__discount = value\n",
    "\n",
    "    def get_price(self):\n",
    "        if self.__discount is None:\n",
    "            return self.__price\n",
    "        else:\n",
    "            return self.__price * (1 - self.__discount)\n",
    "\n",
    "    @abstractmethod\n",
    "    def __str__(self):\n",
    "        return f'{self.title} by {self.author}, price {self.get_price()}'"
   ]
  },
  {
   "cell_type": "code",
   "execution_count": 124,
   "id": "08e210b5",
   "metadata": {},
   "outputs": [],
   "source": [
    "class Poetry(Book):\n",
    "    def __init__(self, title, poems_count, author, price):\n",
    "        super().__init__(title, author, price)\n",
    "        self.poems_count = poems_count\n",
    "\n",
    "    def __str__(self):\n",
    "        return f'Poetry: {self.title} by {self.author}, {self.poems_count} poems, price {self.get_price()}'"
   ]
  },
  {
   "cell_type": "code",
   "execution_count": 125,
   "id": "9004ec45",
   "metadata": {},
   "outputs": [],
   "source": [
    "class Play(Book):\n",
    "    def __init__(self, title, genre, author, price):\n",
    "        super().__init__(title, author, price)\n",
    "        self.genre = genre\n",
    "\n",
    "    def __str__(self):\n",
    "        return f'Play: {self.title} by {self.author}, {self.genre} genre, price {self.get_price()}'"
   ]
  },
  {
   "cell_type": "code",
   "execution_count": 126,
   "id": "9c9cf47e",
   "metadata": {},
   "outputs": [],
   "source": [
    "class Novel(Book):\n",
    "    def __init__(self, title, pages, author, price):\n",
    "        super().__init__(title, author, price)\n",
    "        self.pages = pages\n",
    "\n",
    "    def __str__(self):\n",
    "        return f'Novel: {self.title} by {self.author}, {self.pages} pages, price {self.get_price()}' "
   ]
  },
  {
   "cell_type": "markdown",
   "id": "f433a135",
   "metadata": {},
   "source": [
    "#### Some example object instantiations can be:"
   ]
  },
  {
   "cell_type": "code",
   "execution_count": 127,
   "id": "298b2248",
   "metadata": {},
   "outputs": [
    {
     "name": "stdout",
     "output_type": "stream",
     "text": [
      "Poetry: Life on Mars by Tracy K. Smith, 33 poems, price 100\n",
      "Play: Death of a Salesman by Arthur Miller, Tragedy genre, price 240\n",
      "Novel: Peril at End House by Agatha Christie, 270 pages, price 210\n"
     ]
    }
   ],
   "source": [
    "poem_3 = Poetry('Life on Mars', 33, 'Tracy K. Smith', 100)\n",
    "play_3 = Play('Death of a Salesman', 'Tragedy', 'Arthur Miller', 240)\n",
    "novel_3 = Novel('Peril at End House', 270, 'Agatha Christie', 210)\n",
    "\n",
    "print(poem_3)\n",
    "print(play_3)\n",
    "print(novel_3) "
   ]
  },
  {
   "cell_type": "code",
   "execution_count": null,
   "id": "ec7e3260",
   "metadata": {},
   "outputs": [],
   "source": []
  }
 ],
 "metadata": {
  "kernelspec": {
   "display_name": "arminkernel",
   "language": "python",
   "name": "arminkernel"
  },
  "language_info": {
   "codemirror_mode": {
    "name": "ipython",
    "version": 3
   },
   "file_extension": ".py",
   "mimetype": "text/x-python",
   "name": "python",
   "nbconvert_exporter": "python",
   "pygments_lexer": "ipython3",
   "version": "3.10.0"
  }
 },
 "nbformat": 4,
 "nbformat_minor": 5
}
