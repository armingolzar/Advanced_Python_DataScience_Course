{
 "cells": [
  {
   "cell_type": "markdown",
   "id": "081b04db",
   "metadata": {},
   "source": [
    "#### Pandas is a powerful and open-source Python library. The Pandas library is used for data manipulation and analysis. Pandas consists of data structures and functions to perform efficient operations on data.\n",
    "#### pandas supports all format such as csv, json, sql, xlsx and etc."
   ]
  },
  {
   "cell_type": "code",
   "execution_count": 1,
   "id": "5145e1c5",
   "metadata": {},
   "outputs": [],
   "source": [
    "import pandas as pd"
   ]
  },
  {
   "cell_type": "markdown",
   "id": "a70688e8",
   "metadata": {},
   "source": [
    "#### In pandas we have two important data types :\n",
    "1. Series: This count as 1-dimensional dataset\n",
    "2. Dataframe: This one count as multi-dimensional dataset"
   ]
  },
  {
   "cell_type": "code",
   "execution_count": 2,
   "id": "59c390e5",
   "metadata": {},
   "outputs": [
    {
     "ename": "FileNotFoundError",
     "evalue": "[Errno 2] No such file or directory: 'pandas_image.png'",
     "output_type": "error",
     "traceback": [
      "\u001b[1;31m---------------------------------------------------------------------------\u001b[0m",
      "\u001b[1;31mFileNotFoundError\u001b[0m                         Traceback (most recent call last)",
      "Cell \u001b[1;32mIn[2], line 2\u001b[0m\n\u001b[0;32m      1\u001b[0m \u001b[38;5;28;01mfrom\u001b[39;00m \u001b[38;5;21;01mIPython\u001b[39;00m\u001b[38;5;21;01m.\u001b[39;00m\u001b[38;5;21;01mdisplay\u001b[39;00m \u001b[38;5;28;01mimport\u001b[39;00m Image\n\u001b[1;32m----> 2\u001b[0m Image(filename\u001b[38;5;241m=\u001b[39m\u001b[38;5;124m'\u001b[39m\u001b[38;5;124mpandas_image.png\u001b[39m\u001b[38;5;124m'\u001b[39m)\n",
      "File \u001b[1;32m~\\anaconda3\\Lib\\site-packages\\IPython\\core\\display.py:970\u001b[0m, in \u001b[0;36mImage.__init__\u001b[1;34m(self, data, url, filename, format, embed, width, height, retina, unconfined, metadata, alt)\u001b[0m\n\u001b[0;32m    968\u001b[0m \u001b[38;5;28mself\u001b[39m\u001b[38;5;241m.\u001b[39munconfined \u001b[38;5;241m=\u001b[39m unconfined\n\u001b[0;32m    969\u001b[0m \u001b[38;5;28mself\u001b[39m\u001b[38;5;241m.\u001b[39malt \u001b[38;5;241m=\u001b[39m alt\n\u001b[1;32m--> 970\u001b[0m \u001b[38;5;28msuper\u001b[39m(Image, \u001b[38;5;28mself\u001b[39m)\u001b[38;5;241m.\u001b[39m\u001b[38;5;21m__init__\u001b[39m(data\u001b[38;5;241m=\u001b[39mdata, url\u001b[38;5;241m=\u001b[39murl, filename\u001b[38;5;241m=\u001b[39mfilename,\n\u001b[0;32m    971\u001b[0m         metadata\u001b[38;5;241m=\u001b[39mmetadata)\n\u001b[0;32m    973\u001b[0m \u001b[38;5;28;01mif\u001b[39;00m \u001b[38;5;28mself\u001b[39m\u001b[38;5;241m.\u001b[39mwidth \u001b[38;5;129;01mis\u001b[39;00m \u001b[38;5;28;01mNone\u001b[39;00m \u001b[38;5;129;01mand\u001b[39;00m \u001b[38;5;28mself\u001b[39m\u001b[38;5;241m.\u001b[39mmetadata\u001b[38;5;241m.\u001b[39mget(\u001b[38;5;124m'\u001b[39m\u001b[38;5;124mwidth\u001b[39m\u001b[38;5;124m'\u001b[39m, {}):\n\u001b[0;32m    974\u001b[0m     \u001b[38;5;28mself\u001b[39m\u001b[38;5;241m.\u001b[39mwidth \u001b[38;5;241m=\u001b[39m metadata[\u001b[38;5;124m'\u001b[39m\u001b[38;5;124mwidth\u001b[39m\u001b[38;5;124m'\u001b[39m]\n",
      "File \u001b[1;32m~\\anaconda3\\Lib\\site-packages\\IPython\\core\\display.py:327\u001b[0m, in \u001b[0;36mDisplayObject.__init__\u001b[1;34m(self, data, url, filename, metadata)\u001b[0m\n\u001b[0;32m    324\u001b[0m \u001b[38;5;28;01melif\u001b[39;00m \u001b[38;5;28mself\u001b[39m\u001b[38;5;241m.\u001b[39mmetadata \u001b[38;5;129;01mis\u001b[39;00m \u001b[38;5;28;01mNone\u001b[39;00m:\n\u001b[0;32m    325\u001b[0m     \u001b[38;5;28mself\u001b[39m\u001b[38;5;241m.\u001b[39mmetadata \u001b[38;5;241m=\u001b[39m {}\n\u001b[1;32m--> 327\u001b[0m \u001b[38;5;28mself\u001b[39m\u001b[38;5;241m.\u001b[39mreload()\n\u001b[0;32m    328\u001b[0m \u001b[38;5;28mself\u001b[39m\u001b[38;5;241m.\u001b[39m_check_data()\n",
      "File \u001b[1;32m~\\anaconda3\\Lib\\site-packages\\IPython\\core\\display.py:1005\u001b[0m, in \u001b[0;36mImage.reload\u001b[1;34m(self)\u001b[0m\n\u001b[0;32m   1003\u001b[0m \u001b[38;5;250m\u001b[39m\u001b[38;5;124;03m\"\"\"Reload the raw data from file or URL.\"\"\"\u001b[39;00m\n\u001b[0;32m   1004\u001b[0m \u001b[38;5;28;01mif\u001b[39;00m \u001b[38;5;28mself\u001b[39m\u001b[38;5;241m.\u001b[39membed:\n\u001b[1;32m-> 1005\u001b[0m     \u001b[38;5;28msuper\u001b[39m(Image,\u001b[38;5;28mself\u001b[39m)\u001b[38;5;241m.\u001b[39mreload()\n\u001b[0;32m   1006\u001b[0m     \u001b[38;5;28;01mif\u001b[39;00m \u001b[38;5;28mself\u001b[39m\u001b[38;5;241m.\u001b[39mretina:\n\u001b[0;32m   1007\u001b[0m         \u001b[38;5;28mself\u001b[39m\u001b[38;5;241m.\u001b[39m_retina_shape()\n",
      "File \u001b[1;32m~\\anaconda3\\Lib\\site-packages\\IPython\\core\\display.py:353\u001b[0m, in \u001b[0;36mDisplayObject.reload\u001b[1;34m(self)\u001b[0m\n\u001b[0;32m    351\u001b[0m \u001b[38;5;28;01mif\u001b[39;00m \u001b[38;5;28mself\u001b[39m\u001b[38;5;241m.\u001b[39mfilename \u001b[38;5;129;01mis\u001b[39;00m \u001b[38;5;129;01mnot\u001b[39;00m \u001b[38;5;28;01mNone\u001b[39;00m:\n\u001b[0;32m    352\u001b[0m     encoding \u001b[38;5;241m=\u001b[39m \u001b[38;5;28;01mNone\u001b[39;00m \u001b[38;5;28;01mif\u001b[39;00m \u001b[38;5;124m\"\u001b[39m\u001b[38;5;124mb\u001b[39m\u001b[38;5;124m\"\u001b[39m \u001b[38;5;129;01min\u001b[39;00m \u001b[38;5;28mself\u001b[39m\u001b[38;5;241m.\u001b[39m_read_flags \u001b[38;5;28;01melse\u001b[39;00m \u001b[38;5;124m\"\u001b[39m\u001b[38;5;124mutf-8\u001b[39m\u001b[38;5;124m\"\u001b[39m\n\u001b[1;32m--> 353\u001b[0m     \u001b[38;5;28;01mwith\u001b[39;00m \u001b[38;5;28mopen\u001b[39m(\u001b[38;5;28mself\u001b[39m\u001b[38;5;241m.\u001b[39mfilename, \u001b[38;5;28mself\u001b[39m\u001b[38;5;241m.\u001b[39m_read_flags, encoding\u001b[38;5;241m=\u001b[39mencoding) \u001b[38;5;28;01mas\u001b[39;00m f:\n\u001b[0;32m    354\u001b[0m         \u001b[38;5;28mself\u001b[39m\u001b[38;5;241m.\u001b[39mdata \u001b[38;5;241m=\u001b[39m f\u001b[38;5;241m.\u001b[39mread()\n\u001b[0;32m    355\u001b[0m \u001b[38;5;28;01melif\u001b[39;00m \u001b[38;5;28mself\u001b[39m\u001b[38;5;241m.\u001b[39murl \u001b[38;5;129;01mis\u001b[39;00m \u001b[38;5;129;01mnot\u001b[39;00m \u001b[38;5;28;01mNone\u001b[39;00m:\n\u001b[0;32m    356\u001b[0m     \u001b[38;5;66;03m# Deferred import\u001b[39;00m\n",
      "\u001b[1;31mFileNotFoundError\u001b[0m: [Errno 2] No such file or directory: 'pandas_image.png'"
     ]
    }
   ],
   "source": [
    "from IPython.display import Image\n",
    "Image(filename='pandas_image.png')"
   ]
  },
  {
   "cell_type": "markdown",
   "id": "f9a90e9a",
   "metadata": {},
   "source": [
    "### Series"
   ]
  },
  {
   "cell_type": "code",
   "execution_count": 3,
   "id": "47ef87d7",
   "metadata": {},
   "outputs": [],
   "source": [
    "dict_1 = {'armin': 24, 'arta': 18, 'soorena': 19, 'alhan': 19, 'parsa': 16}"
   ]
  },
  {
   "cell_type": "code",
   "execution_count": 4,
   "id": "ef506b4b",
   "metadata": {},
   "outputs": [
    {
     "name": "stdout",
     "output_type": "stream",
     "text": [
      "armin      24\n",
      "arta       18\n",
      "soorena    19\n",
      "alhan      19\n",
      "parsa      16\n",
      "dtype: int64\n"
     ]
    }
   ],
   "source": [
    "print(pd.Series(dict_1))"
   ]
  },
  {
   "cell_type": "code",
   "execution_count": 5,
   "id": "f515ff4f",
   "metadata": {},
   "outputs": [],
   "source": [
    "lst = [24, 18, 19, 19, 16]"
   ]
  },
  {
   "cell_type": "code",
   "execution_count": 6,
   "id": "0853789e",
   "metadata": {},
   "outputs": [
    {
     "name": "stdout",
     "output_type": "stream",
     "text": [
      "0    24\n",
      "1    18\n",
      "2    19\n",
      "3    19\n",
      "4    16\n",
      "dtype: int64\n"
     ]
    }
   ],
   "source": [
    "print(pd.Series(lst))"
   ]
  },
  {
   "cell_type": "code",
   "execution_count": 7,
   "id": "917e85f7",
   "metadata": {},
   "outputs": [
    {
     "name": "stdout",
     "output_type": "stream",
     "text": [
      "armin      24\n",
      "arta       18\n",
      "soorena    19\n",
      "alhan      19\n",
      "parsa      16\n",
      "dtype: int64\n"
     ]
    }
   ],
   "source": [
    "print(pd.Series(lst, index = ['armin', 'arta', 'soorena', 'alhan', 'parsa']))"
   ]
  },
  {
   "cell_type": "code",
   "execution_count": 8,
   "id": "da4dd1ea",
   "metadata": {},
   "outputs": [],
   "source": [
    "series_1 = pd.Series(lst, index = ['armin', 'arta', 'soorena', 'alhan', 'parsa'])"
   ]
  },
  {
   "cell_type": "code",
   "execution_count": 9,
   "id": "1b2dc44f",
   "metadata": {},
   "outputs": [],
   "source": [
    "dict_1 = {'armin': 24, 'arta': 18, 'soorena': 19, 'alhan': 19, 'parsa': 16}"
   ]
  },
  {
   "cell_type": "code",
   "execution_count": 10,
   "id": "3c311e4d",
   "metadata": {},
   "outputs": [
    {
     "name": "stdout",
     "output_type": "stream",
     "text": [
      "dict_keys(['armin', 'arta', 'soorena', 'alhan', 'parsa'])\n",
      "dict_values([24, 18, 19, 19, 16])\n"
     ]
    }
   ],
   "source": [
    "print(dict_1.keys())\n",
    "print(dict_1.values())"
   ]
  },
  {
   "cell_type": "code",
   "execution_count": 11,
   "id": "2457c7db",
   "metadata": {},
   "outputs": [
    {
     "name": "stdout",
     "output_type": "stream",
     "text": [
      "Index(['armin', 'arta', 'soorena', 'alhan', 'parsa'], dtype='object')\n",
      "[24 18 19 19 16]\n"
     ]
    }
   ],
   "source": [
    "print(series_1.index)\n",
    "print(series_1.values)"
   ]
  },
  {
   "cell_type": "code",
   "execution_count": 12,
   "id": "cfe7a062",
   "metadata": {},
   "outputs": [
    {
     "data": {
      "text/plain": [
       "24"
      ]
     },
     "execution_count": 12,
     "metadata": {},
     "output_type": "execute_result"
    }
   ],
   "source": [
    "# Dictionary\n",
    "dict_1['armin']"
   ]
  },
  {
   "cell_type": "code",
   "execution_count": 13,
   "id": "e5ef67a8",
   "metadata": {},
   "outputs": [
    {
     "name": "stdout",
     "output_type": "stream",
     "text": [
      "24\n",
      "24\n",
      "24\n"
     ]
    },
    {
     "name": "stderr",
     "output_type": "stream",
     "text": [
      "C:\\Users\\AG\\AppData\\Local\\Temp\\ipykernel_14536\\3473172433.py:4: FutureWarning: Series.__getitem__ treating keys as positions is deprecated. In a future version, integer keys will always be treated as labels (consistent with DataFrame behavior). To access a value by position, use `ser.iloc[pos]`\n",
      "  print(series_1[0])\n"
     ]
    }
   ],
   "source": [
    "# Series\n",
    "print(series_1['armin'])\n",
    "print(series_1.armin)\n",
    "print(series_1[0])"
   ]
  },
  {
   "cell_type": "code",
   "execution_count": 14,
   "id": "cb729f20",
   "metadata": {},
   "outputs": [
    {
     "ename": "KeyError",
     "evalue": "('armin', 'soorena')",
     "output_type": "error",
     "traceback": [
      "\u001b[1;31m---------------------------------------------------------------------------\u001b[0m",
      "\u001b[1;31mKeyError\u001b[0m                                  Traceback (most recent call last)",
      "Cell \u001b[1;32mIn[14], line 1\u001b[0m\n\u001b[1;32m----> 1\u001b[0m \u001b[38;5;28mprint\u001b[39m(dict_1[\u001b[38;5;124m'\u001b[39m\u001b[38;5;124marmin\u001b[39m\u001b[38;5;124m'\u001b[39m, \u001b[38;5;124m'\u001b[39m\u001b[38;5;124msoorena\u001b[39m\u001b[38;5;124m'\u001b[39m])\n",
      "\u001b[1;31mKeyError\u001b[0m: ('armin', 'soorena')"
     ]
    }
   ],
   "source": [
    "print(dict_1['armin', 'soorena'])"
   ]
  },
  {
   "cell_type": "code",
   "execution_count": 15,
   "id": "36727c38",
   "metadata": {},
   "outputs": [
    {
     "name": "stdout",
     "output_type": "stream",
     "text": [
      "armin      24\n",
      "soorena    19\n",
      "dtype: int64\n"
     ]
    }
   ],
   "source": [
    "print(series_1[['armin', 'soorena']])"
   ]
  },
  {
   "cell_type": "code",
   "execution_count": 16,
   "id": "316e2fc2",
   "metadata": {},
   "outputs": [
    {
     "name": "stdout",
     "output_type": "stream",
     "text": [
      "armin      24\n",
      "soorena    19\n",
      "dtype: int64\n"
     ]
    },
    {
     "name": "stderr",
     "output_type": "stream",
     "text": [
      "C:\\Users\\AG\\AppData\\Local\\Temp\\ipykernel_14536\\1357822494.py:1: FutureWarning: Series.__getitem__ treating keys as positions is deprecated. In a future version, integer keys will always be treated as labels (consistent with DataFrame behavior). To access a value by position, use `ser.iloc[pos]`\n",
      "  print(series_1[[0, 2]])\n"
     ]
    }
   ],
   "source": [
    "print(series_1[[0, 2]])"
   ]
  },
  {
   "cell_type": "code",
   "execution_count": 17,
   "id": "2cac05a6",
   "metadata": {},
   "outputs": [
    {
     "name": "stdout",
     "output_type": "stream",
     "text": [
      "armin      24\n",
      "arta       18\n",
      "soorena    19\n",
      "dtype: int64\n"
     ]
    }
   ],
   "source": [
    "print(series_1[0:3])"
   ]
  },
  {
   "cell_type": "code",
   "execution_count": 18,
   "id": "5d4655a2",
   "metadata": {},
   "outputs": [
    {
     "name": "stdout",
     "output_type": "stream",
     "text": [
      "armin      24\n",
      "arta       18\n",
      "soorena    19\n",
      "dtype: int64\n"
     ]
    }
   ],
   "source": [
    "print(series_1['armin': 'soorena'])"
   ]
  },
  {
   "cell_type": "code",
   "execution_count": 19,
   "id": "fb8383d3",
   "metadata": {},
   "outputs": [
    {
     "name": "stdout",
     "output_type": "stream",
     "text": [
      "armin    24\n",
      "arta     18\n",
      "parsa    16\n",
      "dtype: int64\n"
     ]
    }
   ],
   "source": [
    "print(series_1[[True, True, False, False, True]])"
   ]
  },
  {
   "cell_type": "markdown",
   "id": "c9680524",
   "metadata": {},
   "source": [
    "#### Series Oprations"
   ]
  },
  {
   "cell_type": "code",
   "execution_count": 20,
   "id": "1b5e8e36",
   "metadata": {},
   "outputs": [
    {
     "name": "stdout",
     "output_type": "stream",
     "text": [
      "19.2\n"
     ]
    }
   ],
   "source": [
    "print(series_1.mean())"
   ]
  },
  {
   "cell_type": "code",
   "execution_count": 21,
   "id": "2759b0f2",
   "metadata": {},
   "outputs": [
    {
     "name": "stdout",
     "output_type": "stream",
     "text": [
      "armin       True\n",
      "arta       False\n",
      "soorena    False\n",
      "alhan      False\n",
      "parsa      False\n",
      "dtype: bool\n"
     ]
    }
   ],
   "source": [
    "print(series_1 > series_1.mean())"
   ]
  },
  {
   "cell_type": "code",
   "execution_count": 22,
   "id": "9fdd24f1",
   "metadata": {},
   "outputs": [
    {
     "name": "stdout",
     "output_type": "stream",
     "text": [
      "armin    24\n",
      "dtype: int64\n"
     ]
    }
   ],
   "source": [
    "print(series_1[series_1 > series_1.mean()])"
   ]
  },
  {
   "cell_type": "markdown",
   "id": "2b8a85d2",
   "metadata": {},
   "source": [
    "#### This is the capability of Series."
   ]
  },
  {
   "cell_type": "markdown",
   "id": "58ff2008",
   "metadata": {},
   "source": [
    "#### Now let's work with DataFrame"
   ]
  },
  {
   "cell_type": "code",
   "execution_count": 2,
   "id": "c39c27a2",
   "metadata": {},
   "outputs": [],
   "source": [
    "scores = {'Math':[12, 14, 16, 18, 20], 'Programming':[1, 2, 3, 4, 5], 'Physics':[13.5, 15.5, 17.5, 20, 10]}"
   ]
  },
  {
   "cell_type": "code",
   "execution_count": 3,
   "id": "9fd132a7",
   "metadata": {},
   "outputs": [
    {
     "name": "stdout",
     "output_type": "stream",
     "text": [
      "   Math  Programming  Physics\n",
      "0    12            1     13.5\n",
      "1    14            2     15.5\n",
      "2    16            3     17.5\n",
      "3    18            4     20.0\n",
      "4    20            5     10.0\n"
     ]
    }
   ],
   "source": [
    "df = pd.DataFrame(scores)\n",
    "print(df)"
   ]
  },
  {
   "cell_type": "code",
   "execution_count": 4,
   "id": "689605ea",
   "metadata": {},
   "outputs": [
    {
     "data": {
      "text/plain": [
       "(5, 3)"
      ]
     },
     "execution_count": 4,
     "metadata": {},
     "output_type": "execute_result"
    }
   ],
   "source": [
    "df.shape"
   ]
  },
  {
   "cell_type": "code",
   "execution_count": 5,
   "id": "3f6a4a87",
   "metadata": {},
   "outputs": [
    {
     "name": "stdout",
     "output_type": "stream",
     "text": [
      "Index(['Math', 'Programming', 'Physics'], dtype='object')\n"
     ]
    }
   ],
   "source": [
    "# finding rows & cols \n",
    "print(df.columns)"
   ]
  },
  {
   "cell_type": "code",
   "execution_count": 6,
   "id": "f0e09208",
   "metadata": {},
   "outputs": [
    {
     "name": "stdout",
     "output_type": "stream",
     "text": [
      "RangeIndex(start=0, stop=5, step=1)\n"
     ]
    }
   ],
   "source": [
    "print(df.index)"
   ]
  },
  {
   "cell_type": "code",
   "execution_count": 7,
   "id": "cffc2f90",
   "metadata": {},
   "outputs": [
    {
     "name": "stdout",
     "output_type": "stream",
     "text": [
      "[[12.   1.  13.5]\n",
      " [14.   2.  15.5]\n",
      " [16.   3.  17.5]\n",
      " [18.   4.  20. ]\n",
      " [20.   5.  10. ]]\n"
     ]
    }
   ],
   "source": [
    "print(df.values)"
   ]
  },
  {
   "cell_type": "code",
   "execution_count": 8,
   "id": "5ad19b28",
   "metadata": {},
   "outputs": [
    {
     "name": "stdout",
     "output_type": "stream",
     "text": [
      "[[12.   1.  13.5]\n",
      " [14.   2.  15.5]\n",
      " [16.   3.  17.5]\n",
      " [18.   4.  20. ]\n",
      " [20.   5.  10. ]]\n"
     ]
    }
   ],
   "source": [
    "import numpy as np\n",
    "dataset = np.array(df.values)\n",
    "print(dataset)"
   ]
  },
  {
   "cell_type": "code",
   "execution_count": 9,
   "id": "fef90ba9",
   "metadata": {},
   "outputs": [
    {
     "name": "stdout",
     "output_type": "stream",
     "text": [
      "[[12.   1.  13.5 14.   2. ]\n",
      " [15.5 16.   3.  17.5 18. ]\n",
      " [ 4.  20.  20.   5.  10. ]]\n"
     ]
    }
   ],
   "source": [
    "dataset = dataset.reshape(3, -1)\n",
    "print(dataset)"
   ]
  },
  {
   "cell_type": "markdown",
   "id": "c56e0781",
   "metadata": {},
   "source": [
    "#### Some methods for describing DataFrames"
   ]
  },
  {
   "cell_type": "code",
   "execution_count": 10,
   "id": "f00939f1",
   "metadata": {},
   "outputs": [
    {
     "name": "stdout",
     "output_type": "stream",
     "text": [
      "   Math  Programming  Physics\n",
      "0    12            1     13.5\n",
      "1    14            2     15.5\n",
      "2    16            3     17.5\n",
      "3    18            4     20.0\n",
      "4    20            5     10.0\n"
     ]
    }
   ],
   "source": [
    "print(df)"
   ]
  },
  {
   "cell_type": "code",
   "execution_count": 11,
   "id": "3fd060dc",
   "metadata": {},
   "outputs": [
    {
     "data": {
      "text/html": [
       "<div>\n",
       "<style scoped>\n",
       "    .dataframe tbody tr th:only-of-type {\n",
       "        vertical-align: middle;\n",
       "    }\n",
       "\n",
       "    .dataframe tbody tr th {\n",
       "        vertical-align: top;\n",
       "    }\n",
       "\n",
       "    .dataframe thead th {\n",
       "        text-align: right;\n",
       "    }\n",
       "</style>\n",
       "<table border=\"1\" class=\"dataframe\">\n",
       "  <thead>\n",
       "    <tr style=\"text-align: right;\">\n",
       "      <th></th>\n",
       "      <th>Math</th>\n",
       "      <th>Programming</th>\n",
       "      <th>Physics</th>\n",
       "    </tr>\n",
       "  </thead>\n",
       "  <tbody>\n",
       "    <tr>\n",
       "      <th>0</th>\n",
       "      <td>12</td>\n",
       "      <td>1</td>\n",
       "      <td>13.5</td>\n",
       "    </tr>\n",
       "    <tr>\n",
       "      <th>1</th>\n",
       "      <td>14</td>\n",
       "      <td>2</td>\n",
       "      <td>15.5</td>\n",
       "    </tr>\n",
       "  </tbody>\n",
       "</table>\n",
       "</div>"
      ],
      "text/plain": [
       "   Math  Programming  Physics\n",
       "0    12            1     13.5\n",
       "1    14            2     15.5"
      ]
     },
     "execution_count": 11,
     "metadata": {},
     "output_type": "execute_result"
    }
   ],
   "source": [
    "df.head(2)"
   ]
  },
  {
   "cell_type": "code",
   "execution_count": 12,
   "id": "dba1ad71",
   "metadata": {},
   "outputs": [
    {
     "data": {
      "text/html": [
       "<div>\n",
       "<style scoped>\n",
       "    .dataframe tbody tr th:only-of-type {\n",
       "        vertical-align: middle;\n",
       "    }\n",
       "\n",
       "    .dataframe tbody tr th {\n",
       "        vertical-align: top;\n",
       "    }\n",
       "\n",
       "    .dataframe thead th {\n",
       "        text-align: right;\n",
       "    }\n",
       "</style>\n",
       "<table border=\"1\" class=\"dataframe\">\n",
       "  <thead>\n",
       "    <tr style=\"text-align: right;\">\n",
       "      <th></th>\n",
       "      <th>Math</th>\n",
       "      <th>Programming</th>\n",
       "      <th>Physics</th>\n",
       "    </tr>\n",
       "  </thead>\n",
       "  <tbody>\n",
       "    <tr>\n",
       "      <th>3</th>\n",
       "      <td>18</td>\n",
       "      <td>4</td>\n",
       "      <td>20.0</td>\n",
       "    </tr>\n",
       "    <tr>\n",
       "      <th>4</th>\n",
       "      <td>20</td>\n",
       "      <td>5</td>\n",
       "      <td>10.0</td>\n",
       "    </tr>\n",
       "  </tbody>\n",
       "</table>\n",
       "</div>"
      ],
      "text/plain": [
       "   Math  Programming  Physics\n",
       "3    18            4     20.0\n",
       "4    20            5     10.0"
      ]
     },
     "execution_count": 12,
     "metadata": {},
     "output_type": "execute_result"
    }
   ],
   "source": [
    "df.tail(2)"
   ]
  },
  {
   "cell_type": "code",
   "execution_count": 13,
   "id": "7cada607",
   "metadata": {},
   "outputs": [
    {
     "name": "stdout",
     "output_type": "stream",
     "text": [
      "<class 'pandas.core.frame.DataFrame'>\n",
      "RangeIndex: 5 entries, 0 to 4\n",
      "Data columns (total 3 columns):\n",
      " #   Column       Non-Null Count  Dtype  \n",
      "---  ------       --------------  -----  \n",
      " 0   Math         5 non-null      int64  \n",
      " 1   Programming  5 non-null      int64  \n",
      " 2   Physics      5 non-null      float64\n",
      "dtypes: float64(1), int64(2)\n",
      "memory usage: 252.0 bytes\n"
     ]
    }
   ],
   "source": [
    "df.info()"
   ]
  },
  {
   "cell_type": "code",
   "execution_count": 14,
   "id": "10bcb131",
   "metadata": {},
   "outputs": [
    {
     "data": {
      "text/html": [
       "<div>\n",
       "<style scoped>\n",
       "    .dataframe tbody tr th:only-of-type {\n",
       "        vertical-align: middle;\n",
       "    }\n",
       "\n",
       "    .dataframe tbody tr th {\n",
       "        vertical-align: top;\n",
       "    }\n",
       "\n",
       "    .dataframe thead th {\n",
       "        text-align: right;\n",
       "    }\n",
       "</style>\n",
       "<table border=\"1\" class=\"dataframe\">\n",
       "  <thead>\n",
       "    <tr style=\"text-align: right;\">\n",
       "      <th></th>\n",
       "      <th>Math</th>\n",
       "      <th>Programming</th>\n",
       "      <th>Physics</th>\n",
       "    </tr>\n",
       "  </thead>\n",
       "  <tbody>\n",
       "    <tr>\n",
       "      <th>count</th>\n",
       "      <td>5.000000</td>\n",
       "      <td>5.000000</td>\n",
       "      <td>5.000000</td>\n",
       "    </tr>\n",
       "    <tr>\n",
       "      <th>mean</th>\n",
       "      <td>16.000000</td>\n",
       "      <td>3.000000</td>\n",
       "      <td>15.300000</td>\n",
       "    </tr>\n",
       "    <tr>\n",
       "      <th>std</th>\n",
       "      <td>3.162278</td>\n",
       "      <td>1.581139</td>\n",
       "      <td>3.817722</td>\n",
       "    </tr>\n",
       "    <tr>\n",
       "      <th>min</th>\n",
       "      <td>12.000000</td>\n",
       "      <td>1.000000</td>\n",
       "      <td>10.000000</td>\n",
       "    </tr>\n",
       "    <tr>\n",
       "      <th>25%</th>\n",
       "      <td>14.000000</td>\n",
       "      <td>2.000000</td>\n",
       "      <td>13.500000</td>\n",
       "    </tr>\n",
       "    <tr>\n",
       "      <th>50%</th>\n",
       "      <td>16.000000</td>\n",
       "      <td>3.000000</td>\n",
       "      <td>15.500000</td>\n",
       "    </tr>\n",
       "    <tr>\n",
       "      <th>75%</th>\n",
       "      <td>18.000000</td>\n",
       "      <td>4.000000</td>\n",
       "      <td>17.500000</td>\n",
       "    </tr>\n",
       "    <tr>\n",
       "      <th>max</th>\n",
       "      <td>20.000000</td>\n",
       "      <td>5.000000</td>\n",
       "      <td>20.000000</td>\n",
       "    </tr>\n",
       "  </tbody>\n",
       "</table>\n",
       "</div>"
      ],
      "text/plain": [
       "            Math  Programming    Physics\n",
       "count   5.000000     5.000000   5.000000\n",
       "mean   16.000000     3.000000  15.300000\n",
       "std     3.162278     1.581139   3.817722\n",
       "min    12.000000     1.000000  10.000000\n",
       "25%    14.000000     2.000000  13.500000\n",
       "50%    16.000000     3.000000  15.500000\n",
       "75%    18.000000     4.000000  17.500000\n",
       "max    20.000000     5.000000  20.000000"
      ]
     },
     "execution_count": 14,
     "metadata": {},
     "output_type": "execute_result"
    }
   ],
   "source": [
    "df.describe()"
   ]
  },
  {
   "cell_type": "markdown",
   "id": "4b949dc5",
   "metadata": {},
   "source": [
    "#### Working with element of dataframe"
   ]
  },
  {
   "cell_type": "code",
   "execution_count": 15,
   "id": "f2134469",
   "metadata": {},
   "outputs": [
    {
     "data": {
      "text/plain": [
       "0    12\n",
       "1    14\n",
       "2    16\n",
       "3    18\n",
       "4    20\n",
       "Name: Math, dtype: int64"
      ]
     },
     "execution_count": 15,
     "metadata": {},
     "output_type": "execute_result"
    }
   ],
   "source": [
    "# This is a series\n",
    "df['Math']"
   ]
  },
  {
   "cell_type": "code",
   "execution_count": 16,
   "id": "decfacb6",
   "metadata": {},
   "outputs": [
    {
     "data": {
      "text/plain": [
       "0    12\n",
       "1    14\n",
       "2    16\n",
       "3    18\n",
       "4    20\n",
       "Name: Math, dtype: int64"
      ]
     },
     "execution_count": 16,
     "metadata": {},
     "output_type": "execute_result"
    }
   ],
   "source": [
    "df.Math"
   ]
  },
  {
   "cell_type": "code",
   "execution_count": 17,
   "id": "3887d7f7",
   "metadata": {},
   "outputs": [
    {
     "data": {
      "text/plain": [
       "0    False\n",
       "1    False\n",
       "2     True\n",
       "3     True\n",
       "4     True\n",
       "Name: Math, dtype: bool"
      ]
     },
     "execution_count": 17,
     "metadata": {},
     "output_type": "execute_result"
    }
   ],
   "source": [
    "df[\"Math\"] > 14"
   ]
  },
  {
   "cell_type": "markdown",
   "id": "f583ca92",
   "metadata": {},
   "source": [
    "#### Let's get familiar with loc & iloc"
   ]
  },
  {
   "cell_type": "code",
   "execution_count": 18,
   "id": "356f1149",
   "metadata": {},
   "outputs": [
    {
     "name": "stdout",
     "output_type": "stream",
     "text": [
      "   Math  Programming  Physics\n",
      "0    12            1     13.5\n",
      "1    14            2     15.5\n",
      "2    16            3     17.5\n",
      "3    18            4     20.0\n",
      "4    20            5     10.0\n"
     ]
    }
   ],
   "source": [
    "# iloc method\n",
    "print(df)"
   ]
  },
  {
   "cell_type": "code",
   "execution_count": 19,
   "id": "b14cab6e",
   "metadata": {},
   "outputs": [
    {
     "name": "stdout",
     "output_type": "stream",
     "text": [
      "17.5\n"
     ]
    }
   ],
   "source": [
    "print(df.iloc[2, 2])"
   ]
  },
  {
   "cell_type": "code",
   "execution_count": 20,
   "id": "8b1c3dce",
   "metadata": {},
   "outputs": [
    {
     "name": "stdout",
     "output_type": "stream",
     "text": [
      "   Math  Programming  Physics\n",
      "1    14            2     15.5\n",
      "2    16            3     17.5\n",
      "3    18            4     20.0\n"
     ]
    }
   ],
   "source": [
    "print(df.iloc[1:4, 0:3])"
   ]
  },
  {
   "cell_type": "code",
   "execution_count": 22,
   "id": "997b5208",
   "metadata": {},
   "outputs": [
    {
     "name": "stdout",
     "output_type": "stream",
     "text": [
      "   Programming  Physics\n",
      "1            2     15.5\n",
      "4            5     10.0\n"
     ]
    }
   ],
   "source": [
    "print(df.iloc[[1, 4], 1:])"
   ]
  },
  {
   "cell_type": "code",
   "execution_count": 24,
   "id": "009b87e8",
   "metadata": {},
   "outputs": [
    {
     "name": "stdout",
     "output_type": "stream",
     "text": [
      "   Math  Physics\n",
      "0    12     13.5\n",
      "2    16     17.5\n",
      "4    20     10.0\n"
     ]
    }
   ],
   "source": [
    "print(df.iloc[[True, False, True, False, True], [0, 2]])"
   ]
  },
  {
   "cell_type": "code",
   "execution_count": 25,
   "id": "c1ab8327",
   "metadata": {},
   "outputs": [
    {
     "name": "stdout",
     "output_type": "stream",
     "text": [
      "   Math  Programming  Physics\n",
      "0    12            1     13.5\n",
      "1    14            2     15.5\n",
      "2    16            3     17.5\n",
      "3    18            4     20.0\n",
      "4    20            5     10.0\n"
     ]
    }
   ],
   "source": [
    "# loc method\n",
    "print(df)"
   ]
  },
  {
   "cell_type": "code",
   "execution_count": 26,
   "id": "618cb4b7",
   "metadata": {},
   "outputs": [
    {
     "name": "stdout",
     "output_type": "stream",
     "text": [
      "4\n"
     ]
    }
   ],
   "source": [
    "print(df.loc[3, 'Programming'])"
   ]
  },
  {
   "cell_type": "code",
   "execution_count": 27,
   "id": "09986d6a",
   "metadata": {},
   "outputs": [
    {
     "name": "stdout",
     "output_type": "stream",
     "text": [
      "   Math  Programming  Physics\n",
      "1    14            2     15.5\n",
      "2    16            3     17.5\n",
      "3    18            4     20.0\n",
      "4    20            5     10.0\n"
     ]
    }
   ],
   "source": [
    "print(df.loc[1:4, \"Math\":\"Physics\"])"
   ]
  },
  {
   "cell_type": "markdown",
   "id": "6065aeef",
   "metadata": {},
   "source": [
    "#### Attention: loc is a label based mathod so, its gramer is : [start, end]"
   ]
  },
  {
   "cell_type": "code",
   "execution_count": 28,
   "id": "5954d103",
   "metadata": {},
   "outputs": [
    {
     "name": "stdout",
     "output_type": "stream",
     "text": [
      "   Math  Physics\n",
      "1    14     15.5\n",
      "3    18     20.0\n",
      "4    20     10.0\n"
     ]
    }
   ],
   "source": [
    "print(df.loc[[1, 3, 4], ['Math', 'Physics']])"
   ]
  },
  {
   "cell_type": "code",
   "execution_count": 29,
   "id": "56e37e2a",
   "metadata": {},
   "outputs": [
    {
     "name": "stdout",
     "output_type": "stream",
     "text": [
      "   Programming  Physics\n",
      "0            1     13.5\n",
      "1            2     15.5\n"
     ]
    }
   ],
   "source": [
    "print(df.loc[[True, True, False, False, False], [\"Programming\", \"Physics\"]])"
   ]
  },
  {
   "cell_type": "markdown",
   "id": "ac657ee0",
   "metadata": {},
   "source": [
    "#### Working with data using pandas "
   ]
  },
  {
   "cell_type": "code",
   "execution_count": null,
   "id": "ae846ff9",
   "metadata": {},
   "outputs": [],
   "source": [
    "import pandas as pd"
   ]
  },
  {
   "cell_type": "code",
   "execution_count": null,
   "id": "2303d815",
   "metadata": {},
   "outputs": [],
   "source": [
    "iris_data = pd.read_csv('iris_1.csv')"
   ]
  },
  {
   "cell_type": "code",
   "execution_count": null,
   "id": "9d532e31",
   "metadata": {},
   "outputs": [],
   "source": [
    "print(iris_data)"
   ]
  },
  {
   "cell_type": "code",
   "execution_count": null,
   "id": "c0ae7817",
   "metadata": {},
   "outputs": [],
   "source": [
    "iris_data = pd.read_csv('iris_1.csv', sep = '\\t')"
   ]
  },
  {
   "cell_type": "code",
   "execution_count": null,
   "id": "e5e4babb",
   "metadata": {},
   "outputs": [],
   "source": [
    "print(iris_data)"
   ]
  },
  {
   "cell_type": "code",
   "execution_count": null,
   "id": "86a11fde",
   "metadata": {},
   "outputs": [],
   "source": [
    "iris_data = pd.read_csv('iris_1.csv', header = None, \n",
    "                        names = ['sepal_length', 'sepal_width', 'petal_length', 'petal_width', 'label'])"
   ]
  },
  {
   "cell_type": "code",
   "execution_count": null,
   "id": "32a0ddf5",
   "metadata": {},
   "outputs": [],
   "source": [
    "print(iris_data)"
   ]
  },
  {
   "cell_type": "code",
   "execution_count": null,
   "id": "6c573ac7",
   "metadata": {},
   "outputs": [],
   "source": [
    "iris_data.head()"
   ]
  },
  {
   "cell_type": "code",
   "execution_count": null,
   "id": "e0051b66",
   "metadata": {},
   "outputs": [],
   "source": [
    "iris_data.tail()"
   ]
  },
  {
   "cell_type": "code",
   "execution_count": null,
   "id": "227dca69",
   "metadata": {},
   "outputs": [],
   "source": [
    "iris_data.info()"
   ]
  },
  {
   "cell_type": "code",
   "execution_count": null,
   "id": "60645326",
   "metadata": {},
   "outputs": [],
   "source": [
    "iris_data.describe()"
   ]
  },
  {
   "cell_type": "code",
   "execution_count": null,
   "id": "5461e965",
   "metadata": {},
   "outputs": [],
   "source": [
    "iris_features = iris_data.iloc[: , :-1]"
   ]
  },
  {
   "cell_type": "code",
   "execution_count": null,
   "id": "cbd0c87c",
   "metadata": {},
   "outputs": [],
   "source": [
    "print(iris_features)"
   ]
  },
  {
   "cell_type": "code",
   "execution_count": null,
   "id": "a6fc51f3",
   "metadata": {},
   "outputs": [],
   "source": [
    "iris_labels = iris_data.iloc[: , -1:]"
   ]
  },
  {
   "cell_type": "code",
   "execution_count": null,
   "id": "5ac31bbf",
   "metadata": {},
   "outputs": [],
   "source": [
    "print(iris_labels)"
   ]
  },
  {
   "cell_type": "code",
   "execution_count": null,
   "id": "ab504ebd",
   "metadata": {},
   "outputs": [],
   "source": [
    "data_iris = pd.read_csv('iris_2.csv')"
   ]
  },
  {
   "cell_type": "code",
   "execution_count": null,
   "id": "edb19ddb",
   "metadata": {},
   "outputs": [],
   "source": [
    "data_iris = pd.read_csv('iris_2.csv', header = None, \n",
    "                        names = ['sepal_length', 'sepal_width', 'petal_length', 'petal_width', 'label'],\n",
    "                       skiprows = 2)"
   ]
  },
  {
   "cell_type": "code",
   "execution_count": null,
   "id": "367d4625",
   "metadata": {},
   "outputs": [],
   "source": [
    "data_iris"
   ]
  },
  {
   "cell_type": "code",
   "execution_count": null,
   "id": "d4f756be",
   "metadata": {},
   "outputs": [],
   "source": [
    "data_iris_2 = pd.read_csv('iris_3.csv', header = None, \n",
    "                        names = ['sepal_length', 'sepal_width', 'petal_length', 'petal_width', 'label'],\n",
    "                       skiprows = 2)"
   ]
  },
  {
   "cell_type": "code",
   "execution_count": null,
   "id": "deaaa0b3",
   "metadata": {},
   "outputs": [],
   "source": [
    "print(data_iris_2)"
   ]
  },
  {
   "cell_type": "code",
   "execution_count": null,
   "id": "653ef068",
   "metadata": {},
   "outputs": [],
   "source": [
    "data_iris_2 = pd.read_csv('iris_3.csv', header = None, \n",
    "                        names = ['sepal_length', 'sepal_width', 'petal_length', 'petal_width', 'label'],\n",
    "                       skiprows = 2,\n",
    "                         comment = '#')"
   ]
  },
  {
   "cell_type": "code",
   "execution_count": null,
   "id": "20189a8b",
   "metadata": {},
   "outputs": [],
   "source": [
    "print(data_iris_2)"
   ]
  },
  {
   "cell_type": "code",
   "execution_count": null,
   "id": "6107bc0b",
   "metadata": {},
   "outputs": [],
   "source": [
    "data_iris_3 = pd.read_csv('iris_3.csv', header = None, \n",
    "                        names = ['sepal_length', 'sepal_width', 'petal_length', 'petal_width', 'label'],\n",
    "                       skiprows = 2,\n",
    "                         comment = '#', \n",
    "                         usecols = ['sepal_length', 'petal_length'])"
   ]
  },
  {
   "cell_type": "code",
   "execution_count": null,
   "id": "ca7883f6",
   "metadata": {},
   "outputs": [],
   "source": [
    "print(data_iris_3)"
   ]
  },
  {
   "cell_type": "code",
   "execution_count": null,
   "id": "253813c6",
   "metadata": {},
   "outputs": [],
   "source": []
  },
  {
   "cell_type": "code",
   "execution_count": null,
   "id": "d9a63948",
   "metadata": {},
   "outputs": [],
   "source": []
  }
 ],
 "metadata": {
  "kernelspec": {
   "display_name": "Python 3 (ipykernel)",
   "language": "python",
   "name": "python3"
  },
  "language_info": {
   "codemirror_mode": {
    "name": "ipython",
    "version": 3
   },
   "file_extension": ".py",
   "mimetype": "text/x-python",
   "name": "python",
   "nbconvert_exporter": "python",
   "pygments_lexer": "ipython3",
   "version": "3.12.7"
  }
 },
 "nbformat": 4,
 "nbformat_minor": 5
}
