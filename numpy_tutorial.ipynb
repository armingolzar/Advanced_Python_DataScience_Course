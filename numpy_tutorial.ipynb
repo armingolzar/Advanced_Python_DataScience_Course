{
 "cells": [
  {
   "cell_type": "markdown",
   "id": "87b57f6a",
   "metadata": {},
   "source": [
    "## What is NumPy?\n",
    "\n",
    "NumPy is a Python library used for working with arrays.\n",
    "\n",
    "It also has functions for working in domain of linear algebra, fourier transform, and matrices.\n",
    "\n",
    "NumPy was created in 2005 by Travis Oliphant. It is an open source project and you can use it freely.\n",
    "\n",
    "NumPy stands for Numerical Python.\n",
    "\n",
    "## In other terms\n",
    "\n",
    "NumPy is a general-purpose array-processing package. It provides a high-performance multidimensional array object and tools for working with these arrays. It is the fundamental package for scientific computing with Python. It is open-source software."
   ]
  },
  {
   "cell_type": "code",
   "execution_count": null,
   "id": "07b97944",
   "metadata": {},
   "outputs": [],
   "source": [
    "from IPython.display import Image\n",
    "Image(filename='numpy.png')"
   ]
  },
  {
   "cell_type": "markdown",
   "id": "df41cb79",
   "metadata": {},
   "source": [
    "#### In this image you can see the axis role for numpy which is extremely important for working with."
   ]
  },
  {
   "cell_type": "markdown",
   "id": "39b7ce3d",
   "metadata": {},
   "source": [
    "Numpy is used for some important tasks such as, reading, writing, resizing, slicing images and etc.<br>\n",
    "Also it is used in working with structured data with the help of the pandas."
   ]
  },
  {
   "cell_type": "markdown",
   "id": "75ccb5f6",
   "metadata": {},
   "source": [
    "### Let's learn how should we use Numpy"
   ]
  },
  {
   "cell_type": "code",
   "execution_count": 2,
   "id": "0ccc318b",
   "metadata": {},
   "outputs": [],
   "source": [
    "import numpy as np"
   ]
  },
  {
   "cell_type": "markdown",
   "id": "14f07e14",
   "metadata": {},
   "source": [
    "#### one dimensional array"
   ]
  },
  {
   "cell_type": "code",
   "execution_count": null,
   "id": "dd509019",
   "metadata": {},
   "outputs": [],
   "source": [
    "array = np.array([1, 2, 3])\n",
    "print(array)"
   ]
  },
  {
   "cell_type": "code",
   "execution_count": null,
   "id": "dfd75dfe",
   "metadata": {},
   "outputs": [],
   "source": [
    "type(array)"
   ]
  },
  {
   "cell_type": "code",
   "execution_count": null,
   "id": "7024d1f9",
   "metadata": {},
   "outputs": [],
   "source": [
    "array = np.array([1.1, 2, 3], dtype=float)\n",
    "print(array)"
   ]
  },
  {
   "cell_type": "code",
   "execution_count": null,
   "id": "c31f3c78",
   "metadata": {},
   "outputs": [],
   "source": [
    "array = np.array([1, 2, 3], dtype=str)\n",
    "print(array)"
   ]
  },
  {
   "cell_type": "code",
   "execution_count": null,
   "id": "295d6ec2",
   "metadata": {},
   "outputs": [],
   "source": [
    "len(array)"
   ]
  },
  {
   "cell_type": "code",
   "execution_count": null,
   "id": "222f4637",
   "metadata": {},
   "outputs": [],
   "source": [
    "max(array)"
   ]
  },
  {
   "cell_type": "code",
   "execution_count": null,
   "id": "4c689286",
   "metadata": {},
   "outputs": [],
   "source": [
    "min(array)"
   ]
  },
  {
   "cell_type": "code",
   "execution_count": null,
   "id": "1f8a8f0a",
   "metadata": {},
   "outputs": [],
   "source": [
    "sum(array)"
   ]
  },
  {
   "cell_type": "code",
   "execution_count": null,
   "id": "2c547b33",
   "metadata": {},
   "outputs": [],
   "source": [
    "for index in array:\n",
    "    print(index)"
   ]
  },
  {
   "cell_type": "markdown",
   "id": "7f7489d0",
   "metadata": {},
   "source": [
    "#### two dimensional array"
   ]
  },
  {
   "cell_type": "code",
   "execution_count": null,
   "id": "daab5379",
   "metadata": {},
   "outputs": [],
   "source": [
    "array_2 = np.array([[1, 2, 3], \n",
    "                    [4, 5, 6]])\n",
    "print(array_2)"
   ]
  },
  {
   "cell_type": "code",
   "execution_count": null,
   "id": "f92e8b13",
   "metadata": {},
   "outputs": [],
   "source": [
    "min(array_2)"
   ]
  },
  {
   "cell_type": "code",
   "execution_count": null,
   "id": "de08d0f9",
   "metadata": {},
   "outputs": [],
   "source": [
    "max(array_2)"
   ]
  },
  {
   "cell_type": "code",
   "execution_count": null,
   "id": "33f960b6",
   "metadata": {},
   "outputs": [],
   "source": [
    "len(array_2)"
   ]
  },
  {
   "cell_type": "code",
   "execution_count": null,
   "id": "5aeafe9e",
   "metadata": {},
   "outputs": [],
   "source": [
    "sum(array_2)"
   ]
  },
  {
   "cell_type": "code",
   "execution_count": null,
   "id": "0c71a47d",
   "metadata": {},
   "outputs": [],
   "source": [
    "array.ndim"
   ]
  },
  {
   "cell_type": "code",
   "execution_count": null,
   "id": "7ef8d274",
   "metadata": {},
   "outputs": [],
   "source": [
    "array_2.ndim"
   ]
  },
  {
   "cell_type": "code",
   "execution_count": null,
   "id": "7fdb3f0a",
   "metadata": {},
   "outputs": [],
   "source": [
    "array_new = np.array([[1, 2, 3], \n",
    "                     [4, 5, 6], \n",
    "                     [7, 8, 9]])\n",
    "print(array_new)"
   ]
  },
  {
   "cell_type": "code",
   "execution_count": null,
   "id": "052cb7a9",
   "metadata": {},
   "outputs": [],
   "source": [
    "len(array_new)"
   ]
  },
  {
   "cell_type": "code",
   "execution_count": null,
   "id": "332e54ec",
   "metadata": {},
   "outputs": [],
   "source": [
    "array_new.ndim"
   ]
  },
  {
   "cell_type": "code",
   "execution_count": null,
   "id": "00386d15",
   "metadata": {},
   "outputs": [],
   "source": [
    "array_3 = np.array([[[1, 2], [3, 4], [5, 6]],\n",
    "                [[7, 8], [9, 10], [11, 12]]])\n",
    "print(array_3)\n",
    "print(array_3.shape)"
   ]
  },
  {
   "cell_type": "code",
   "execution_count": null,
   "id": "5f37f8ef",
   "metadata": {},
   "outputs": [],
   "source": [
    "len(array_3)"
   ]
  },
  {
   "cell_type": "code",
   "execution_count": null,
   "id": "c66c0602",
   "metadata": {},
   "outputs": [],
   "source": [
    "array_3.ndim"
   ]
  },
  {
   "cell_type": "markdown",
   "id": "321b8603",
   "metadata": {},
   "source": [
    "#### Tip: in imagining an array it will be much easier to move reverse form deeper dimension to shallow one. for example in two dimention first column after that row or in three dimention first depth second column and last row."
   ]
  },
  {
   "cell_type": "markdown",
   "id": "491f15a5",
   "metadata": {},
   "source": [
    "#### Tip: the best way to find the dimension of the array is the number of brackets in the starting of the array [ [ ["
   ]
  },
  {
   "cell_type": "code",
   "execution_count": null,
   "id": "af1efc30",
   "metadata": {},
   "outputs": [],
   "source": [
    "# with using shape method we can see the number of rows, columns and depth respectivly\n",
    "array_3.shape"
   ]
  },
  {
   "cell_type": "code",
   "execution_count": null,
   "id": "79e26ea6",
   "metadata": {},
   "outputs": [],
   "source": [
    "# building some famous array\n",
    "zero = np.zeros((2, 3))\n",
    "print(zero)"
   ]
  },
  {
   "cell_type": "code",
   "execution_count": null,
   "id": "47b40980",
   "metadata": {},
   "outputs": [],
   "source": [
    "one = np.ones((2, 3))\n",
    "print(one)"
   ]
  },
  {
   "cell_type": "code",
   "execution_count": null,
   "id": "10038643",
   "metadata": {},
   "outputs": [],
   "source": [
    "# [start-end) arange gramer\n",
    "arange = np.arange(10)\n",
    "print(arange)"
   ]
  },
  {
   "cell_type": "code",
   "execution_count": null,
   "id": "2b34b376",
   "metadata": {},
   "outputs": [],
   "source": [
    "arange = np.arange(2, 10)\n",
    "print(arange)"
   ]
  },
  {
   "cell_type": "code",
   "execution_count": null,
   "id": "60c3b0cf",
   "metadata": {},
   "outputs": [],
   "source": [
    "arange = np.arange(2, 10, 2)\n",
    "print(arange)"
   ]
  },
  {
   "cell_type": "code",
   "execution_count": null,
   "id": "7a2a97f1",
   "metadata": {},
   "outputs": [],
   "source": [
    "# [start slice between end] linspace gramer\n",
    "lin = np.linspace(10, 20)\n",
    "print(lin)"
   ]
  },
  {
   "cell_type": "code",
   "execution_count": null,
   "id": "53753db5",
   "metadata": {},
   "outputs": [],
   "source": [
    "lin = np.linspace(10, 20, 5)\n",
    "print(lin)"
   ]
  },
  {
   "cell_type": "code",
   "execution_count": null,
   "id": "f06fff22",
   "metadata": {},
   "outputs": [],
   "source": [
    "full = np.full((3, 7), 2)\n",
    "print(full)"
   ]
  },
  {
   "cell_type": "code",
   "execution_count": null,
   "id": "7d348645",
   "metadata": {},
   "outputs": [],
   "source": [
    "eye = np.eye(6)\n",
    "print(eye)"
   ]
  },
  {
   "cell_type": "code",
   "execution_count": null,
   "id": "d83bb84f",
   "metadata": {},
   "outputs": [],
   "source": [
    "random = np.random.random((3, 7))\n",
    "print(random)"
   ]
  },
  {
   "cell_type": "code",
   "execution_count": null,
   "id": "6f409bad",
   "metadata": {},
   "outputs": [],
   "source": [
    "# saving an array\n",
    "np.save('random_array.npy', random)"
   ]
  },
  {
   "cell_type": "code",
   "execution_count": null,
   "id": "0d04762a",
   "metadata": {},
   "outputs": [],
   "source": [
    "# loading an array\n",
    "random_copy = np.load('random_array.npy')"
   ]
  },
  {
   "cell_type": "code",
   "execution_count": null,
   "id": "e0f11689",
   "metadata": {},
   "outputs": [],
   "source": [
    "print(random_copy)"
   ]
  },
  {
   "cell_type": "code",
   "execution_count": null,
   "id": "11ad0050",
   "metadata": {},
   "outputs": [],
   "source": [
    "# saving multi_array\n",
    "np.savez('multi_array.npz', random, full)"
   ]
  },
  {
   "cell_type": "code",
   "execution_count": null,
   "id": "6714aeef",
   "metadata": {},
   "outputs": [],
   "source": [
    "multi_copy = np.load('multi_array.npz')\n",
    "print(multi_copy)"
   ]
  },
  {
   "cell_type": "code",
   "execution_count": null,
   "id": "78b43c7b",
   "metadata": {},
   "outputs": [],
   "source": [
    "# we can use multi array with special gramer\n",
    "# [arr_t] is the gramer\n",
    "print(multi_copy['arr_0'])"
   ]
  },
  {
   "cell_type": "code",
   "execution_count": null,
   "id": "f2f3d438",
   "metadata": {},
   "outputs": [],
   "source": [
    "print(multi_copy['arr_1'])"
   ]
  },
  {
   "cell_type": "code",
   "execution_count": null,
   "id": "4d2e54a6",
   "metadata": {},
   "outputs": [],
   "source": [
    "# describing a numpy array\n",
    "print(full)"
   ]
  },
  {
   "cell_type": "code",
   "execution_count": null,
   "id": "5186430a",
   "metadata": {},
   "outputs": [],
   "source": [
    "full.shape"
   ]
  },
  {
   "cell_type": "code",
   "execution_count": null,
   "id": "e32da96a",
   "metadata": {},
   "outputs": [],
   "source": [
    "len(full)"
   ]
  },
  {
   "cell_type": "code",
   "execution_count": null,
   "id": "91645fcb",
   "metadata": {},
   "outputs": [],
   "source": [
    "full.ndim"
   ]
  },
  {
   "cell_type": "code",
   "execution_count": null,
   "id": "0536e7c9",
   "metadata": {},
   "outputs": [],
   "source": [
    "full.size"
   ]
  },
  {
   "cell_type": "code",
   "execution_count": null,
   "id": "ef563ea1",
   "metadata": {},
   "outputs": [],
   "source": [
    "full.dtype"
   ]
  },
  {
   "cell_type": "code",
   "execution_count": null,
   "id": "c668a6ba",
   "metadata": {},
   "outputs": [],
   "source": [
    "full = full.astype(np.float64)\n",
    "print(full.dtype)\n",
    "print(full)"
   ]
  },
  {
   "cell_type": "code",
   "execution_count": null,
   "id": "4a6d64a0",
   "metadata": {},
   "outputs": [],
   "source": [
    "array_complex = np.array([1, 2, 3], dtype = complex)\n",
    "print(array_complex)"
   ]
  },
  {
   "cell_type": "code",
   "execution_count": null,
   "id": "c45d318f",
   "metadata": {},
   "outputs": [],
   "source": [
    "tf_array = np.array([[0, 1, 0],\n",
    "                     [1, 0, 1],\n",
    "                     [1, 1, 1],\n",
    "                     [0, 0, 0]], dtype = bool)\n",
    "print(tf_array)"
   ]
  },
  {
   "cell_type": "markdown",
   "id": "27be6783",
   "metadata": {},
   "source": [
    "#### math oprations in Numpy"
   ]
  },
  {
   "cell_type": "code",
   "execution_count": null,
   "id": "1d974a41",
   "metadata": {},
   "outputs": [],
   "source": [
    "arr_1 = np.array([[5, -1],\n",
    "                  [3, 2]])\n",
    "\n",
    "arr_2 = np.array([[-5, 1],\n",
    "                  [-3, -2]])"
   ]
  },
  {
   "cell_type": "code",
   "execution_count": null,
   "id": "1e4d81f4",
   "metadata": {},
   "outputs": [],
   "source": [
    "print(arr_1)\n",
    "print()\n",
    "print(arr_2)"
   ]
  },
  {
   "cell_type": "code",
   "execution_count": null,
   "id": "1fd7a7a9",
   "metadata": {},
   "outputs": [],
   "source": [
    "print(arr_1+arr_2)\n",
    "print()\n",
    "print(arr_1-arr_2)\n",
    "print()\n",
    "print(arr_1*arr_2)\n",
    "print()\n",
    "print(arr_1/arr_2)"
   ]
  },
  {
   "cell_type": "code",
   "execution_count": null,
   "id": "7f2b2c6d",
   "metadata": {},
   "outputs": [],
   "source": [
    "# e** evry element in arr_1\n",
    "np.exp(arr_1)"
   ]
  },
  {
   "cell_type": "code",
   "execution_count": null,
   "id": "426416cb",
   "metadata": {},
   "outputs": [],
   "source": [
    "np.sqrt(arr_1)"
   ]
  },
  {
   "cell_type": "code",
   "execution_count": null,
   "id": "4216d7ea",
   "metadata": {},
   "outputs": [],
   "source": [
    "np.sin(arr_1)"
   ]
  },
  {
   "cell_type": "code",
   "execution_count": null,
   "id": "de947754",
   "metadata": {},
   "outputs": [],
   "source": [
    "np.cos(arr_1)"
   ]
  },
  {
   "cell_type": "code",
   "execution_count": null,
   "id": "c4c6a937",
   "metadata": {},
   "outputs": [],
   "source": [
    "np.log(arr_1)"
   ]
  },
  {
   "cell_type": "code",
   "execution_count": null,
   "id": "cc9fbb18",
   "metadata": {},
   "outputs": [],
   "source": [
    "# this is a matrix multiply\n",
    "print(np.matmul(arr_1, arr_2))"
   ]
  },
  {
   "cell_type": "code",
   "execution_count": null,
   "id": "8fd0b36c",
   "metadata": {},
   "outputs": [],
   "source": [
    "arr_1@arr_2"
   ]
  },
  {
   "cell_type": "code",
   "execution_count": null,
   "id": "81b12152",
   "metadata": {},
   "outputs": [],
   "source": [
    "arr_3 = np.array([[5, -1, 3],\n",
    "                  [3, 2, 7]])\n",
    "\n",
    "arr_4 = np.array([[-5, 1],\n",
    "                  [-3, -2],\n",
    "                  [6, 1]])"
   ]
  },
  {
   "cell_type": "code",
   "execution_count": null,
   "id": "861e58b3",
   "metadata": {},
   "outputs": [],
   "source": [
    "print(np.matmul(arr_3, arr_4))"
   ]
  },
  {
   "cell_type": "code",
   "execution_count": null,
   "id": "da8d0a73",
   "metadata": {},
   "outputs": [],
   "source": [
    "print(np.matmul(arr_4, arr_3))"
   ]
  },
  {
   "cell_type": "code",
   "execution_count": null,
   "id": "727e7175",
   "metadata": {},
   "outputs": [],
   "source": [
    "arr_4@arr_3"
   ]
  },
  {
   "cell_type": "code",
   "execution_count": null,
   "id": "20bea5be",
   "metadata": {},
   "outputs": [],
   "source": [
    "arr_3@arr_4"
   ]
  },
  {
   "cell_type": "markdown",
   "id": "11c022aa",
   "metadata": {},
   "source": [
    "#### equality in Numpy "
   ]
  },
  {
   "cell_type": "code",
   "execution_count": 3,
   "id": "3725237b",
   "metadata": {},
   "outputs": [
    {
     "name": "stdout",
     "output_type": "stream",
     "text": [
      "[ True False False]\n"
     ]
    }
   ],
   "source": [
    "a = np.array([1, 3, 5])\n",
    "b = np.array([1, 2, 4])\n",
    "print(a == b)"
   ]
  },
  {
   "cell_type": "code",
   "execution_count": 4,
   "id": "d2de7e2e",
   "metadata": {},
   "outputs": [
    {
     "data": {
      "text/plain": [
       "False"
      ]
     },
     "execution_count": 4,
     "metadata": {},
     "output_type": "execute_result"
    }
   ],
   "source": [
    "np.array_equal(a, b)"
   ]
  },
  {
   "cell_type": "code",
   "execution_count": 5,
   "id": "19321bda",
   "metadata": {},
   "outputs": [
    {
     "data": {
      "text/plain": [
       "True"
      ]
     },
     "execution_count": 5,
     "metadata": {},
     "output_type": "execute_result"
    }
   ],
   "source": [
    "np.array_equal(a, a)"
   ]
  },
  {
   "cell_type": "code",
   "execution_count": 6,
   "id": "e14cdd7f",
   "metadata": {},
   "outputs": [
    {
     "name": "stdout",
     "output_type": "stream",
     "text": [
      "[ True False False]\n"
     ]
    }
   ],
   "source": [
    "print(a < 3)"
   ]
  },
  {
   "cell_type": "code",
   "execution_count": 7,
   "id": "7e07c495",
   "metadata": {},
   "outputs": [
    {
     "name": "stdout",
     "output_type": "stream",
     "text": [
      "[False False  True]\n"
     ]
    }
   ],
   "source": [
    "print(b > 3)"
   ]
  },
  {
   "cell_type": "markdown",
   "id": "0a5dd696",
   "metadata": {},
   "source": [
    "#### some statistic oprator in Numpy"
   ]
  },
  {
   "cell_type": "code",
   "execution_count": null,
   "id": "519a0885",
   "metadata": {},
   "outputs": [],
   "source": [
    "print(arr_3)"
   ]
  },
  {
   "cell_type": "code",
   "execution_count": null,
   "id": "4fa03b43",
   "metadata": {},
   "outputs": [],
   "source": [
    "print(np.sum(arr_3))"
   ]
  },
  {
   "cell_type": "code",
   "execution_count": null,
   "id": "e6e13edd",
   "metadata": {},
   "outputs": [],
   "source": [
    "print(np.sum(arr_3, axis=0))"
   ]
  },
  {
   "cell_type": "code",
   "execution_count": null,
   "id": "2787fdee",
   "metadata": {},
   "outputs": [],
   "source": [
    "print(np.min(arr_3))"
   ]
  },
  {
   "cell_type": "code",
   "execution_count": null,
   "id": "bf322653",
   "metadata": {},
   "outputs": [],
   "source": [
    "print(np.max(arr_3))"
   ]
  },
  {
   "cell_type": "code",
   "execution_count": null,
   "id": "41a88d8e",
   "metadata": {},
   "outputs": [],
   "source": [
    "print(np.max(arr_3, axis=1))"
   ]
  },
  {
   "cell_type": "code",
   "execution_count": null,
   "id": "e876dc3e",
   "metadata": {},
   "outputs": [],
   "source": [
    "print(np.mean(arr_3))"
   ]
  },
  {
   "cell_type": "code",
   "execution_count": null,
   "id": "51bedc4b",
   "metadata": {},
   "outputs": [],
   "source": [
    "print(np.median(arr_3))"
   ]
  },
  {
   "cell_type": "code",
   "execution_count": null,
   "id": "3720e37d",
   "metadata": {},
   "outputs": [],
   "source": [
    "print(np.std(arr_3))"
   ]
  },
  {
   "cell_type": "markdown",
   "id": "c76bd216",
   "metadata": {},
   "source": [
    "#### slicing in Numpy"
   ]
  },
  {
   "cell_type": "code",
   "execution_count": 8,
   "id": "e484c135",
   "metadata": {},
   "outputs": [],
   "source": [
    "test_arr = np.array([4, 1, 3, 2, 5, 6])"
   ]
  },
  {
   "cell_type": "code",
   "execution_count": 9,
   "id": "a07abcbc",
   "metadata": {},
   "outputs": [],
   "source": [
    "copy_arr = test_arr.copy()"
   ]
  },
  {
   "cell_type": "code",
   "execution_count": 10,
   "id": "63349286",
   "metadata": {},
   "outputs": [],
   "source": [
    "test_arr[3] = 23"
   ]
  },
  {
   "cell_type": "code",
   "execution_count": 11,
   "id": "b0c767aa",
   "metadata": {},
   "outputs": [
    {
     "data": {
      "text/plain": [
       "array([ 4,  1,  3, 23,  5,  6])"
      ]
     },
     "execution_count": 11,
     "metadata": {},
     "output_type": "execute_result"
    }
   ],
   "source": [
    "test_arr"
   ]
  },
  {
   "cell_type": "code",
   "execution_count": 12,
   "id": "187e79fb",
   "metadata": {},
   "outputs": [
    {
     "data": {
      "text/plain": [
       "array([4, 1, 3, 2, 5, 6])"
      ]
     },
     "execution_count": 12,
     "metadata": {},
     "output_type": "execute_result"
    }
   ],
   "source": [
    "copy_arr"
   ]
  },
  {
   "cell_type": "code",
   "execution_count": 13,
   "id": "657cbee7",
   "metadata": {},
   "outputs": [
    {
     "data": {
      "text/plain": [
       "array([ 1,  3,  4,  5,  6, 23])"
      ]
     },
     "execution_count": 13,
     "metadata": {},
     "output_type": "execute_result"
    }
   ],
   "source": [
    "np.sort(test_arr)"
   ]
  },
  {
   "cell_type": "code",
   "execution_count": 14,
   "id": "27bf50d6",
   "metadata": {},
   "outputs": [],
   "source": [
    "test_arr_2 = np.array([[4 , 3],\n",
    "                       [1 , 5]])"
   ]
  },
  {
   "cell_type": "code",
   "execution_count": 15,
   "id": "a94f2276",
   "metadata": {},
   "outputs": [
    {
     "data": {
      "text/plain": [
       "array([[1, 3],\n",
       "       [4, 5]])"
      ]
     },
     "execution_count": 15,
     "metadata": {},
     "output_type": "execute_result"
    }
   ],
   "source": [
    "np.sort(test_arr_2, axis = 0)"
   ]
  },
  {
   "cell_type": "code",
   "execution_count": 16,
   "id": "df9c2bcb",
   "metadata": {},
   "outputs": [
    {
     "data": {
      "text/plain": [
       "array([[3, 4],\n",
       "       [1, 5]])"
      ]
     },
     "execution_count": 16,
     "metadata": {},
     "output_type": "execute_result"
    }
   ],
   "source": [
    "np.sort(test_arr_2, axis = 1)"
   ]
  },
  {
   "cell_type": "code",
   "execution_count": 17,
   "id": "f7b8ec39",
   "metadata": {},
   "outputs": [],
   "source": [
    "test_arr = np.array([4, 1, 3, 2, 5, 6])"
   ]
  },
  {
   "cell_type": "code",
   "execution_count": 18,
   "id": "598e1b88",
   "metadata": {},
   "outputs": [
    {
     "data": {
      "text/plain": [
       "6"
      ]
     },
     "execution_count": 18,
     "metadata": {},
     "output_type": "execute_result"
    }
   ],
   "source": [
    "test_arr[-1]"
   ]
  },
  {
   "cell_type": "code",
   "execution_count": 19,
   "id": "b05ecfab",
   "metadata": {},
   "outputs": [],
   "source": [
    "big_array = np.array([[2, 4, 6, 8],\n",
    "                      [1, 3, 5, 7], \n",
    "                      [20, 10, 9, 50]])"
   ]
  },
  {
   "cell_type": "code",
   "execution_count": 20,
   "id": "2a6e9b8f",
   "metadata": {},
   "outputs": [
    {
     "data": {
      "text/plain": [
       "array([2, 4, 6, 8])"
      ]
     },
     "execution_count": 20,
     "metadata": {},
     "output_type": "execute_result"
    }
   ],
   "source": [
    "big_array[0]"
   ]
  },
  {
   "cell_type": "code",
   "execution_count": 21,
   "id": "2b6f699e",
   "metadata": {},
   "outputs": [
    {
     "data": {
      "text/plain": [
       "6"
      ]
     },
     "execution_count": 21,
     "metadata": {},
     "output_type": "execute_result"
    }
   ],
   "source": [
    "big_array[0, 2]"
   ]
  },
  {
   "cell_type": "code",
   "execution_count": 22,
   "id": "8b35ad05",
   "metadata": {},
   "outputs": [],
   "source": [
    "test_arr = np.array([4, 1, 3, 2, 5, 6])\n",
    "\n",
    "big_array = np.array([[2, 4, 6, 8],\n",
    "                      [1, 3, 5, 7], \n",
    "                      [20, 10, 9, 50]])"
   ]
  },
  {
   "cell_type": "code",
   "execution_count": 23,
   "id": "01e33d4e",
   "metadata": {},
   "outputs": [
    {
     "name": "stdout",
     "output_type": "stream",
     "text": [
      "[1 3 2]\n"
     ]
    }
   ],
   "source": [
    "print(test_arr[1:4])"
   ]
  },
  {
   "cell_type": "code",
   "execution_count": 24,
   "id": "a43c54e1",
   "metadata": {},
   "outputs": [
    {
     "name": "stdout",
     "output_type": "stream",
     "text": [
      "[[ 1  3  5  7]\n",
      " [20 10  9 50]]\n"
     ]
    }
   ],
   "source": [
    "print(big_array[1:3])"
   ]
  },
  {
   "cell_type": "code",
   "execution_count": 25,
   "id": "9b073ea0",
   "metadata": {},
   "outputs": [
    {
     "name": "stdout",
     "output_type": "stream",
     "text": [
      "[[ 3  5]\n",
      " [10  9]]\n"
     ]
    }
   ],
   "source": [
    "# row:row , col:col\n",
    "print(big_array[1:3, 1:3])"
   ]
  },
  {
   "cell_type": "code",
   "execution_count": 26,
   "id": "4858d6cc",
   "metadata": {},
   "outputs": [
    {
     "name": "stdout",
     "output_type": "stream",
     "text": [
      "[6 5 2 3 1 4]\n"
     ]
    }
   ],
   "source": [
    "print(test_arr[::-1])"
   ]
  },
  {
   "cell_type": "code",
   "execution_count": 27,
   "id": "30f449f9",
   "metadata": {},
   "outputs": [
    {
     "name": "stdout",
     "output_type": "stream",
     "text": [
      "[[20 10  9 50]\n",
      " [ 1  3  5  7]\n",
      " [ 2  4  6  8]]\n"
     ]
    }
   ],
   "source": [
    "print(big_array[::-1])"
   ]
  },
  {
   "cell_type": "code",
   "execution_count": 28,
   "id": "5213653e",
   "metadata": {},
   "outputs": [
    {
     "name": "stdout",
     "output_type": "stream",
     "text": [
      "[[50  9 10 20]\n",
      " [ 7  5  3  1]\n",
      " [ 8  6  4  2]]\n"
     ]
    }
   ],
   "source": [
    "print(big_array[::-1, ::-1])"
   ]
  },
  {
   "cell_type": "code",
   "execution_count": 29,
   "id": "293deb74",
   "metadata": {},
   "outputs": [],
   "source": [
    "big_array = np.array([[2, 4, 6, 8],\n",
    "                      [1, 3, 5, 7], \n",
    "                      [20, 10, 9, 50]])"
   ]
  },
  {
   "cell_type": "code",
   "execution_count": 30,
   "id": "f9e1ca60",
   "metadata": {},
   "outputs": [
    {
     "data": {
      "text/plain": [
       "array([[ 2,  1, 20],\n",
       "       [ 4,  3, 10],\n",
       "       [ 6,  5,  9],\n",
       "       [ 8,  7, 50]])"
      ]
     },
     "execution_count": 30,
     "metadata": {},
     "output_type": "execute_result"
    }
   ],
   "source": [
    "np.transpose(big_array)"
   ]
  },
  {
   "cell_type": "code",
   "execution_count": 31,
   "id": "99008d22",
   "metadata": {},
   "outputs": [
    {
     "data": {
      "text/plain": [
       "array([[ 2,  1, 20],\n",
       "       [ 4,  3, 10],\n",
       "       [ 6,  5,  9],\n",
       "       [ 8,  7, 50]])"
      ]
     },
     "execution_count": 31,
     "metadata": {},
     "output_type": "execute_result"
    }
   ],
   "source": [
    "big_array.T"
   ]
  },
  {
   "cell_type": "code",
   "execution_count": 32,
   "id": "1ecd8139-84a9-4a09-8256-37a07c6848e8",
   "metadata": {},
   "outputs": [],
   "source": [
    "test_arr = np.array([4, 1, 3, 2, 5, 6])"
   ]
  },
  {
   "cell_type": "code",
   "execution_count": 33,
   "id": "8f9db567",
   "metadata": {},
   "outputs": [],
   "source": [
    "arr_3 = np.array([[5, -1, 3],\n",
    "                  [3, 2, 7]])\n",
    "\n",
    "arr_4 = np.array([[-5, 1],\n",
    "                  [-3, -2],\n",
    "                  [6, 1]])"
   ]
  },
  {
   "cell_type": "code",
   "execution_count": 34,
   "id": "1cd6a01f",
   "metadata": {},
   "outputs": [
    {
     "data": {
      "text/plain": [
       "array([4, 5, 6])"
      ]
     },
     "execution_count": 34,
     "metadata": {},
     "output_type": "execute_result"
    }
   ],
   "source": [
    "test_arr[[True, False, False, False, True, True]]"
   ]
  },
  {
   "cell_type": "code",
   "execution_count": 35,
   "id": "fabd775b",
   "metadata": {},
   "outputs": [
    {
     "data": {
      "text/plain": [
       "array([4, 5, 6])"
      ]
     },
     "execution_count": 35,
     "metadata": {},
     "output_type": "execute_result"
    }
   ],
   "source": [
    "test_arr[test_arr > 3]"
   ]
  },
  {
   "cell_type": "code",
   "execution_count": 36,
   "id": "9187ddf4",
   "metadata": {},
   "outputs": [
    {
     "name": "stdout",
     "output_type": "stream",
     "text": [
      "Help on function reshape in module numpy:\n",
      "\n",
      "reshape(a, newshape, order='C')\n",
      "    Gives a new shape to an array without changing its data.\n",
      "    \n",
      "    Parameters\n",
      "    ----------\n",
      "    a : array_like\n",
      "        Array to be reshaped.\n",
      "    newshape : int or tuple of ints\n",
      "        The new shape should be compatible with the original shape. If\n",
      "        an integer, then the result will be a 1-D array of that length.\n",
      "        One shape dimension can be -1. In this case, the value is\n",
      "        inferred from the length of the array and remaining dimensions.\n",
      "    order : {'C', 'F', 'A'}, optional\n",
      "        Read the elements of `a` using this index order, and place the\n",
      "        elements into the reshaped array using this index order.  'C'\n",
      "        means to read / write the elements using C-like index order,\n",
      "        with the last axis index changing fastest, back to the first\n",
      "        axis index changing slowest. 'F' means to read / write the\n",
      "        elements using Fortran-like index order, with the first index\n",
      "        changing fastest, and the last index changing slowest. Note that\n",
      "        the 'C' and 'F' options take no account of the memory layout of\n",
      "        the underlying array, and only refer to the order of indexing.\n",
      "        'A' means to read / write the elements in Fortran-like index\n",
      "        order if `a` is Fortran *contiguous* in memory, C-like order\n",
      "        otherwise.\n",
      "    \n",
      "    Returns\n",
      "    -------\n",
      "    reshaped_array : ndarray\n",
      "        This will be a new view object if possible; otherwise, it will\n",
      "        be a copy.  Note there is no guarantee of the *memory layout* (C- or\n",
      "        Fortran- contiguous) of the returned array.\n",
      "    \n",
      "    See Also\n",
      "    --------\n",
      "    ndarray.reshape : Equivalent method.\n",
      "    \n",
      "    Notes\n",
      "    -----\n",
      "    It is not always possible to change the shape of an array without\n",
      "    copying the data. If you want an error to be raised when the data is copied,\n",
      "    you should assign the new shape to the shape attribute of the array::\n",
      "    \n",
      "     >>> a = np.zeros((10, 2))\n",
      "    \n",
      "     # A transpose makes the array non-contiguous\n",
      "     >>> b = a.T\n",
      "    \n",
      "     # Taking a view makes it possible to modify the shape without modifying\n",
      "     # the initial object.\n",
      "     >>> c = b.view()\n",
      "     >>> c.shape = (20)\n",
      "     Traceback (most recent call last):\n",
      "        ...\n",
      "     AttributeError: Incompatible shape for in-place modification. Use\n",
      "     `.reshape()` to make a copy with the desired shape.\n",
      "    \n",
      "    The `order` keyword gives the index ordering both for *fetching* the values\n",
      "    from `a`, and then *placing* the values into the output array.\n",
      "    For example, let's say you have an array:\n",
      "    \n",
      "    >>> a = np.arange(6).reshape((3, 2))\n",
      "    >>> a\n",
      "    array([[0, 1],\n",
      "           [2, 3],\n",
      "           [4, 5]])\n",
      "    \n",
      "    You can think of reshaping as first raveling the array (using the given\n",
      "    index order), then inserting the elements from the raveled array into the\n",
      "    new array using the same kind of index ordering as was used for the\n",
      "    raveling.\n",
      "    \n",
      "    >>> np.reshape(a, (2, 3)) # C-like index ordering\n",
      "    array([[0, 1, 2],\n",
      "           [3, 4, 5]])\n",
      "    >>> np.reshape(np.ravel(a), (2, 3)) # equivalent to C ravel then C reshape\n",
      "    array([[0, 1, 2],\n",
      "           [3, 4, 5]])\n",
      "    >>> np.reshape(a, (2, 3), order='F') # Fortran-like index ordering\n",
      "    array([[0, 4, 3],\n",
      "           [2, 1, 5]])\n",
      "    >>> np.reshape(np.ravel(a, order='F'), (2, 3), order='F')\n",
      "    array([[0, 4, 3],\n",
      "           [2, 1, 5]])\n",
      "    \n",
      "    Examples\n",
      "    --------\n",
      "    >>> a = np.array([[1,2,3], [4,5,6]])\n",
      "    >>> np.reshape(a, 6)\n",
      "    array([1, 2, 3, 4, 5, 6])\n",
      "    >>> np.reshape(a, 6, order='F')\n",
      "    array([1, 4, 2, 5, 3, 6])\n",
      "    \n",
      "    >>> np.reshape(a, (3,-1))       # the unspecified value is inferred to be 2\n",
      "    array([[1, 2],\n",
      "           [3, 4],\n",
      "           [5, 6]])\n",
      "\n"
     ]
    }
   ],
   "source": [
    "help(np.reshape)"
   ]
  },
  {
   "cell_type": "code",
   "execution_count": 37,
   "id": "f5d5acf7",
   "metadata": {},
   "outputs": [],
   "source": [
    "arr_3 = np.array([[5, -1],\n",
    "                  [3, 2], \n",
    "                 [5, 7]])\n",
    "\n",
    "arr_4 = np.array([[-5, 1],\n",
    "                  [-3, -2],\n",
    "                  [6, 1]])"
   ]
  },
  {
   "cell_type": "code",
   "execution_count": 39,
   "id": "088b13d6",
   "metadata": {},
   "outputs": [
    {
     "name": "stdout",
     "output_type": "stream",
     "text": [
      "[[ 5 -1  3]\n",
      " [ 2  5  7]]\n"
     ]
    }
   ],
   "source": [
    "re_array = arr_3.reshape(2, 3)\n",
    "print(re_array)"
   ]
  },
  {
   "cell_type": "code",
   "execution_count": 41,
   "id": "47a2d917-0ee1-4861-a2e3-e55f8ae109fc",
   "metadata": {},
   "outputs": [
    {
     "name": "stdout",
     "output_type": "stream",
     "text": [
      "[[ 5]\n",
      " [-1]\n",
      " [ 3]\n",
      " [ 2]\n",
      " [ 5]\n",
      " [ 7]]\n"
     ]
    }
   ],
   "source": [
    "re_array1 = arr_3.reshape(6, 1)\n",
    "print(re_array1)"
   ]
  },
  {
   "cell_type": "code",
   "execution_count": 40,
   "id": "f3fdd2ee",
   "metadata": {},
   "outputs": [
    {
     "name": "stdout",
     "output_type": "stream",
     "text": [
      "[ 5 -1  3  2  5  7]\n"
     ]
    }
   ],
   "source": [
    "re_array1 = arr_3.reshape(6,)\n",
    "print(re_array1)"
   ]
  },
  {
   "cell_type": "code",
   "execution_count": 47,
   "id": "6ec4a3c5-9e34-42bd-88be-e882895d6d91",
   "metadata": {},
   "outputs": [
    {
     "name": "stdout",
     "output_type": "stream",
     "text": [
      "[[ 5]\n",
      " [-1]\n",
      " [ 3]\n",
      " [ 2]\n",
      " [ 5]\n",
      " [ 7]]\n"
     ]
    }
   ],
   "source": [
    "re_array2 = arr_3.reshape(6, -1)\n",
    "print(re_array2)"
   ]
  },
  {
   "cell_type": "code",
   "execution_count": 45,
   "id": "56527770-eb3a-4e48-88f3-9577ab07150d",
   "metadata": {},
   "outputs": [
    {
     "name": "stdout",
     "output_type": "stream",
     "text": [
      "[[ 5 -1]\n",
      " [ 3  2]\n",
      " [ 5  7]]\n"
     ]
    }
   ],
   "source": [
    "re_array2 = arr_3.reshape(-1, 2)\n",
    "print(re_array2)"
   ]
  },
  {
   "cell_type": "code",
   "execution_count": 50,
   "id": "ed60abd4-b37e-4b7c-abe1-632f9715441d",
   "metadata": {},
   "outputs": [
    {
     "name": "stdout",
     "output_type": "stream",
     "text": [
      "[[ 5 -1]\n",
      " [ 3  2]\n",
      " [ 5  7]]\n",
      "\n",
      "\n",
      "[[-5  1]\n",
      " [-3 -2]\n",
      " [ 6  1]]\n"
     ]
    }
   ],
   "source": [
    "print(arr_3)\n",
    "print('\\n')\n",
    "print(arr_4)"
   ]
  },
  {
   "cell_type": "code",
   "execution_count": 51,
   "id": "aaf95b5c",
   "metadata": {},
   "outputs": [
    {
     "name": "stdout",
     "output_type": "stream",
     "text": [
      "[[ 5 -1]\n",
      " [ 3  2]\n",
      " [ 5  7]\n",
      " [-5  1]\n",
      " [-3 -2]\n",
      " [ 6  1]]\n"
     ]
    }
   ],
   "source": [
    "c_mat = np.concatenate((arr_3, arr_4), axis = 0)\n",
    "print(c_mat)"
   ]
  },
  {
   "cell_type": "code",
   "execution_count": 52,
   "id": "a0753765",
   "metadata": {},
   "outputs": [
    {
     "name": "stdout",
     "output_type": "stream",
     "text": [
      "[[ 5 -1]\n",
      " [ 3  2]\n",
      " [ 5  7]\n",
      " [-5  1]\n",
      " [-3 -2]\n",
      " [ 6  1]]\n"
     ]
    }
   ],
   "source": [
    "stack_v = np.vstack((arr_3, arr_4))\n",
    "print(stack_v)"
   ]
  },
  {
   "cell_type": "code",
   "execution_count": 53,
   "id": "15c82a7d",
   "metadata": {},
   "outputs": [
    {
     "name": "stdout",
     "output_type": "stream",
     "text": [
      "[[ 5 -1 -5  1]\n",
      " [ 3  2 -3 -2]\n",
      " [ 5  7  6  1]]\n"
     ]
    }
   ],
   "source": [
    "stack_h = np.hstack((arr_3, arr_4))\n",
    "print(stack_h)"
   ]
  },
  {
   "cell_type": "code",
   "execution_count": 54,
   "id": "332b4af1",
   "metadata": {},
   "outputs": [
    {
     "name": "stdout",
     "output_type": "stream",
     "text": [
      "Help on function where in module numpy:\n",
      "\n",
      "where(...)\n",
      "    where(condition, [x, y], /)\n",
      "    \n",
      "    Return elements chosen from `x` or `y` depending on `condition`.\n",
      "    \n",
      "    .. note::\n",
      "        When only `condition` is provided, this function is a shorthand for\n",
      "        ``np.asarray(condition).nonzero()``. Using `nonzero` directly should be\n",
      "        preferred, as it behaves correctly for subclasses. The rest of this\n",
      "        documentation covers only the case where all three arguments are\n",
      "        provided.\n",
      "    \n",
      "    Parameters\n",
      "    ----------\n",
      "    condition : array_like, bool\n",
      "        Where True, yield `x`, otherwise yield `y`.\n",
      "    x, y : array_like\n",
      "        Values from which to choose. `x`, `y` and `condition` need to be\n",
      "        broadcastable to some shape.\n",
      "    \n",
      "    Returns\n",
      "    -------\n",
      "    out : ndarray\n",
      "        An array with elements from `x` where `condition` is True, and elements\n",
      "        from `y` elsewhere.\n",
      "    \n",
      "    See Also\n",
      "    --------\n",
      "    choose\n",
      "    nonzero : The function that is called when x and y are omitted\n",
      "    \n",
      "    Notes\n",
      "    -----\n",
      "    If all the arrays are 1-D, `where` is equivalent to::\n",
      "    \n",
      "        [xv if c else yv\n",
      "         for c, xv, yv in zip(condition, x, y)]\n",
      "    \n",
      "    Examples\n",
      "    --------\n",
      "    >>> a = np.arange(10)\n",
      "    >>> a\n",
      "    array([0, 1, 2, 3, 4, 5, 6, 7, 8, 9])\n",
      "    >>> np.where(a < 5, a, 10*a)\n",
      "    array([ 0,  1,  2,  3,  4, 50, 60, 70, 80, 90])\n",
      "    \n",
      "    This can be used on multidimensional arrays too:\n",
      "    \n",
      "    >>> np.where([[True, False], [True, True]],\n",
      "    ...          [[1, 2], [3, 4]],\n",
      "    ...          [[9, 8], [7, 6]])\n",
      "    array([[1, 8],\n",
      "           [3, 4]])\n",
      "    \n",
      "    The shapes of x, y, and the condition are broadcast together:\n",
      "    \n",
      "    >>> x, y = np.ogrid[:3, :4]\n",
      "    >>> np.where(x < y, x, 10 + y)  # both x and 10+y are broadcast\n",
      "    array([[10,  0,  0,  0],\n",
      "           [10, 11,  1,  1],\n",
      "           [10, 11, 12,  2]])\n",
      "    \n",
      "    >>> a = np.array([[0, 1, 2],\n",
      "    ...               [0, 2, 4],\n",
      "    ...               [0, 3, 6]])\n",
      "    >>> np.where(a < 4, a, -1)  # -1 is broadcast\n",
      "    array([[ 0,  1,  2],\n",
      "           [ 0,  2, -1],\n",
      "           [ 0,  3, -1]])\n",
      "\n",
      "None\n"
     ]
    }
   ],
   "source": [
    "print(help(np.where))"
   ]
  },
  {
   "cell_type": "code",
   "execution_count": 55,
   "id": "42045f63",
   "metadata": {},
   "outputs": [],
   "source": [
    "M = np.array([[10, 0, 11, -1, 12],\n",
    "             [0, 13, 0, 14, -4],\n",
    "             [6, 5, 15, 1, 0],\n",
    "             [4, 20, 7, -3, -30],\n",
    "             [1, 1, 1, 10, 0]])"
   ]
  },
  {
   "cell_type": "code",
   "execution_count": 56,
   "id": "cb059ccf",
   "metadata": {},
   "outputs": [
    {
     "ename": "ValueError",
     "evalue": "either both or neither of x and y should be given",
     "output_type": "error",
     "traceback": [
      "\u001b[1;31m---------------------------------------------------------------------------\u001b[0m",
      "\u001b[1;31mValueError\u001b[0m                                Traceback (most recent call last)",
      "Cell \u001b[1;32mIn[56], line 1\u001b[0m\n\u001b[1;32m----> 1\u001b[0m new_M \u001b[38;5;241m=\u001b[39m \u001b[43mnp\u001b[49m\u001b[38;5;241;43m.\u001b[39;49m\u001b[43mwhere\u001b[49m\u001b[43m(\u001b[49m\u001b[43mM\u001b[49m\u001b[43m \u001b[49m\u001b[38;5;241;43m>\u001b[39;49m\u001b[43m \u001b[49m\u001b[38;5;241;43m0\u001b[39;49m\u001b[43m,\u001b[49m\u001b[43m \u001b[49m\u001b[43mM\u001b[49m\u001b[43m)\u001b[49m\n\u001b[0;32m      2\u001b[0m \u001b[38;5;28mprint\u001b[39m(new_M)\n",
      "File \u001b[1;32m<__array_function__ internals>:200\u001b[0m, in \u001b[0;36mwhere\u001b[1;34m(*args, **kwargs)\u001b[0m\n",
      "\u001b[1;31mValueError\u001b[0m: either both or neither of x and y should be given"
     ]
    }
   ],
   "source": [
    "new_M = np.where(M > 0, M)\n",
    "print(new_M)"
   ]
  },
  {
   "cell_type": "code",
   "execution_count": 58,
   "id": "c5d62eb0",
   "metadata": {},
   "outputs": [
    {
     "name": "stdout",
     "output_type": "stream",
     "text": [
      "[[10  0 11  0 12]\n",
      " [ 0 13  0 14  0]\n",
      " [ 6  5 15  1  0]\n",
      " [ 4 20  7  0  0]\n",
      " [ 1  1  1 10  0]]\n"
     ]
    }
   ],
   "source": [
    "new_M = np.where(M > 0, M, 0)\n",
    "print(new_M)"
   ]
  },
  {
   "cell_type": "code",
   "execution_count": 59,
   "id": "f5b7139f",
   "metadata": {},
   "outputs": [
    {
     "name": "stdout",
     "output_type": "stream",
     "text": [
      "[[ 10   0  11   1  12]\n",
      " [  0  13   0  14  16]\n",
      " [  6   5  15   1   0]\n",
      " [  4  20   7   9 900]\n",
      " [  1   1   1  10   0]]\n"
     ]
    }
   ],
   "source": [
    "new_M = np.where(M > 0, M, M*M)\n",
    "print(new_M)"
   ]
  },
  {
   "cell_type": "markdown",
   "id": "7192ed4f",
   "metadata": {},
   "source": [
    "## Exercise 1"
   ]
  },
  {
   "cell_type": "markdown",
   "id": "47d2ac8d",
   "metadata": {},
   "source": [
    "Extract the third column of the matrix M"
   ]
  },
  {
   "cell_type": "code",
   "execution_count": null,
   "id": "7deb243f",
   "metadata": {},
   "outputs": [],
   "source": []
  },
  {
   "cell_type": "markdown",
   "id": "46ca5f3a",
   "metadata": {},
   "source": [
    "## Exercise 2"
   ]
  },
  {
   "cell_type": "markdown",
   "id": "80bffbd5-4566-42f7-a6f5-7d85b91367f9",
   "metadata": {},
   "source": [
    "Extract only the odd-index rows and columns, i.e. those with indices 1, 3, .. of M"
   ]
  },
  {
   "cell_type": "code",
   "execution_count": null,
   "id": "231558b0",
   "metadata": {},
   "outputs": [],
   "source": []
  },
  {
   "cell_type": "markdown",
   "id": "65a34086-2bc4-421b-b1a5-9f43d29afaaa",
   "metadata": {},
   "source": [
    "## Exercise 3"
   ]
  },
  {
   "cell_type": "markdown",
   "id": "631d1fab-7e5d-48ea-8d69-c789e018617b",
   "metadata": {},
   "source": [
    "Extract the positive values of the matrix M"
   ]
  },
  {
   "cell_type": "code",
   "execution_count": null,
   "id": "34a81583",
   "metadata": {},
   "outputs": [],
   "source": []
  },
  {
   "cell_type": "markdown",
   "id": "fb7fe0ae-e0d5-4c9f-bf0e-c407f89ca2e8",
   "metadata": {},
   "source": [
    "## Exercise 4"
   ]
  },
  {
   "cell_type": "markdown",
   "id": "386c1ab0-ad18-4590-a6d8-c05c6795af38",
   "metadata": {},
   "source": [
    "Replace all negative values of matrix M with 0"
   ]
  },
  {
   "cell_type": "code",
   "execution_count": null,
   "id": "957b362f",
   "metadata": {},
   "outputs": [],
   "source": []
  },
  {
   "cell_type": "code",
   "execution_count": null,
   "id": "4552e38a",
   "metadata": {},
   "outputs": [],
   "source": []
  }
 ],
 "metadata": {
  "kernelspec": {
   "display_name": "fragtal",
   "language": "python",
   "name": "fragtal"
  },
  "language_info": {
   "codemirror_mode": {
    "name": "ipython",
    "version": 3
   },
   "file_extension": ".py",
   "mimetype": "text/x-python",
   "name": "python",
   "nbconvert_exporter": "python",
   "pygments_lexer": "ipython3",
   "version": "3.8.20"
  }
 },
 "nbformat": 4,
 "nbformat_minor": 5
}
