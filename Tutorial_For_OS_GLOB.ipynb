{
 "cells": [
  {
   "cell_type": "markdown",
   "id": "014e883f",
   "metadata": {},
   "source": [
    "# What is os library ?"
   ]
  },
  {
   "cell_type": "markdown",
   "id": "98954f4f",
   "metadata": {},
   "source": [
    "Python has a built-in os module with methods for interacting with the operating system, like creating files and directories, management of files and directories, input, output, environment variables, process management, etc."
   ]
  },
  {
   "cell_type": "markdown",
   "id": "8188f168",
   "metadata": {},
   "source": [
    "## Now we're going to learn 'OS' and it's applications"
   ]
  },
  {
   "cell_type": "code",
   "execution_count": 1,
   "id": "0735f3f4",
   "metadata": {},
   "outputs": [],
   "source": [
    "import os"
   ]
  },
  {
   "cell_type": "code",
   "execution_count": 4,
   "id": "a28a99c0",
   "metadata": {},
   "outputs": [
    {
     "name": "stdout",
     "output_type": "stream",
     "text": [
      "['DirEntry', 'EX_OK', 'F_OK', 'GenericAlias', 'Mapping', 'MutableMapping', 'O_APPEND', 'O_BINARY', 'O_CREAT', 'O_EXCL', 'O_NOINHERIT', 'O_RANDOM', 'O_RDONLY', 'O_RDWR', 'O_SEQUENTIAL', 'O_SHORT_LIVED', 'O_TEMPORARY', 'O_TEXT', 'O_TRUNC', 'O_WRONLY', 'P_DETACH', 'P_NOWAIT', 'P_NOWAITO', 'P_OVERLAY', 'P_WAIT', 'PathLike', 'R_OK', 'SEEK_CUR', 'SEEK_END', 'SEEK_SET', 'TMP_MAX', 'W_OK', 'X_OK', '_AddedDllDirectory', '_Environ', '__all__', '__builtins__', '__doc__', '__file__', '__loader__', '__name__', '__package__', '__spec__', '_check_methods', '_execvpe', '_exists', '_exit', '_fspath', '_get_exports_list', '_walk_symlinks_as_files', '_wrap_close', 'abc', 'abort', 'access', 'add_dll_directory', 'altsep', 'chdir', 'chmod', 'close', 'closerange', 'cpu_count', 'curdir', 'defpath', 'device_encoding', 'devnull', 'dup', 'dup2', 'environ', 'error', 'execl', 'execle', 'execlp', 'execlpe', 'execv', 'execve', 'execvp', 'execvpe', 'extsep', 'fdopen', 'fsdecode', 'fsencode', 'fspath', 'fstat', 'fsync', 'ftruncate', 'get_blocking', 'get_exec_path', 'get_handle_inheritable', 'get_inheritable', 'get_terminal_size', 'getcwd', 'getcwdb', 'getenv', 'getlogin', 'getpid', 'getppid', 'isatty', 'kill', 'linesep', 'link', 'listdir', 'listdrives', 'listmounts', 'listvolumes', 'lseek', 'lstat', 'makedirs', 'mkdir', 'name', 'open', 'pardir', 'path', 'pathsep', 'pipe', 'popen', 'putenv', 'read', 'readlink', 'remove', 'removedirs', 'rename', 'renames', 'replace', 'rmdir', 'scandir', 'sep', 'set_blocking', 'set_handle_inheritable', 'set_inheritable', 'spawnl', 'spawnle', 'spawnv', 'spawnve', 'st', 'startfile', 'stat', 'stat_result', 'statvfs_result', 'strerror', 'supports_bytes_environ', 'supports_dir_fd', 'supports_effective_ids', 'supports_fd', 'supports_follow_symlinks', 'symlink', 'sys', 'system', 'terminal_size', 'times', 'times_result', 'truncate', 'umask', 'uname_result', 'unlink', 'unsetenv', 'urandom', 'utime', 'waitpid', 'waitstatus_to_exitcode', 'walk', 'write']\n"
     ]
    }
   ],
   "source": [
    "print(dir(os))"
   ]
  },
  {
   "cell_type": "code",
   "execution_count": 5,
   "id": "792e3d0c",
   "metadata": {},
   "outputs": [
    {
     "name": "stdout",
     "output_type": "stream",
     "text": [
      "A:\\AG\\AG_Science\\Advanced_Python_and_Data\n"
     ]
    }
   ],
   "source": [
    "# let's print the current directory that we are in \n",
    "print(os.getcwd())"
   ]
  },
  {
   "cell_type": "code",
   "execution_count": 10,
   "id": "66ccf647",
   "metadata": {},
   "outputs": [
    {
     "name": "stdout",
     "output_type": "stream",
     "text": [
      "A:\\AG\\AG_Science\\Advanced_Python_and_Data\n"
     ]
    }
   ],
   "source": [
    "# we can change our path \n",
    "os.chdir(r'A:\\AG\\AG_Science\\Advanced_Python_and_Data')\n",
    "print(os.getcwd())"
   ]
  },
  {
   "cell_type": "code",
   "execution_count": 11,
   "id": "8c19dce1",
   "metadata": {},
   "outputs": [
    {
     "data": {
      "text/plain": [
       "['.git',\n",
       " '.ipynb_checkpoints',\n",
       " '2.jpeg',\n",
       " 'advanced_computer_vision.ipynb',\n",
       " 'Advanced_Pandas_Practices.ipynb',\n",
       " 'anaconda_projects',\n",
       " 'audio.wav',\n",
       " 'choclate.csv',\n",
       " 'Computer_vision_tutorial.ipynb',\n",
       " 'cv_image.jpg',\n",
       " 'face_detection.py',\n",
       " 'glob',\n",
       " 'gray.jpg',\n",
       " 'Haar',\n",
       " 'ignor..go',\n",
       " 'ignor.md',\n",
       " 'ignor.py',\n",
       " 'iris.csv',\n",
       " 'iris_1.csv',\n",
       " 'iris_2.csv',\n",
       " 'iris_3.csv',\n",
       " 'Main_Test.py',\n",
       " 'Main_Tutorial.py',\n",
       " 'matplotlib.ipynb',\n",
       " 'multi_array.npz',\n",
       " 'numpy_tutorial.ipynb',\n",
       " 'olympic_event.csv',\n",
       " 'OOP_abilities_tutorial.ipynb',\n",
       " 'pandas_practice.ipynb',\n",
       " 'pandas_tutorial.ipynb',\n",
       " 'Plotly.ipynb',\n",
       " 'random_array.npy',\n",
       " 'README.md',\n",
       " 'square.png',\n",
       " 'test.csv',\n",
       " 'test.ipynb',\n",
       " 'test.js',\n",
       " 'test.txt',\n",
       " 'test.xlsx',\n",
       " 'test_class.wav',\n",
       " 'tsigon.txt',\n",
       " 'Tutorail_Argparse.py',\n",
       " 'Tutorial_Audio_Processing.ipynb',\n",
       " 'Tutorial_For_OS_GLOB.ipynb',\n",
       " 'Tutorial_Object_Oriented_programming.ipynb',\n",
       " '__pycache__']"
      ]
     },
     "execution_count": 11,
     "metadata": {},
     "output_type": "execute_result"
    }
   ],
   "source": [
    "# we can see what files and folders are in the path \n",
    "os.listdir()"
   ]
  },
  {
   "cell_type": "code",
   "execution_count": 13,
   "id": "ad71417b",
   "metadata": {},
   "outputs": [
    {
     "name": "stdout",
     "output_type": "stream",
     "text": [
      ".git\n",
      ".ipynb_checkpoints\n",
      "2.jpeg\n",
      "advanced_computer_vision.ipynb\n",
      "Advanced_Pandas_Practices.ipynb\n",
      "anaconda_projects\n",
      "audio.wav\n",
      "choclate.csv\n",
      "Computer_vision_tutorial.ipynb\n",
      "cv_image.jpg\n",
      "face_detection.py\n",
      "glob\n",
      "gray.jpg\n",
      "Haar\n",
      "ignor..go\n",
      "ignor.md\n",
      "ignor.py\n",
      "iris.csv\n",
      "iris_1.csv\n",
      "iris_2.csv\n",
      "iris_3.csv\n",
      "Main_Test.py\n",
      "Main_Tutorial.py\n",
      "matplotlib.ipynb\n",
      "multi_array.npz\n",
      "numpy_tutorial.ipynb\n",
      "olympic_event.csv\n",
      "OOP_abilities_tutorial.ipynb\n",
      "pandas_practice.ipynb\n",
      "pandas_tutorial.ipynb\n",
      "Plotly.ipynb\n",
      "random_array.npy\n",
      "README.md\n",
      "square.png\n",
      "test.csv\n",
      "test.ipynb\n",
      "test.js\n",
      "test.txt\n",
      "test.xlsx\n",
      "test_class.wav\n",
      "tsigon.txt\n",
      "Tutorail_Argparse.py\n",
      "Tutorial_Audio_Processing.ipynb\n",
      "Tutorial_For_OS_GLOB.ipynb\n",
      "Tutorial_Object_Oriented_programming.ipynb\n",
      "__pycache__\n"
     ]
    }
   ],
   "source": [
    "# The ScandirIterator points to all the entries in the current directory.\n",
    "with os.scandir('./') as entries:\n",
    "    for entry in entries:\n",
    "        print(entry.name)"
   ]
  },
  {
   "cell_type": "code",
   "execution_count": 14,
   "id": "75e7f107",
   "metadata": {},
   "outputs": [
    {
     "name": "stdout",
     "output_type": "stream",
     "text": [
      ".git\n",
      ".ipynb_checkpoints\n",
      "2.jpeg\n",
      "advanced_computer_vision.ipynb\n",
      "Advanced_Pandas_Practices.ipynb\n",
      "anaconda_projects\n",
      "audio.wav\n",
      "choclate.csv\n",
      "Computer_vision_tutorial.ipynb\n",
      "cv_image.jpg\n",
      "face_detection.py\n",
      "glob\n",
      "gray.jpg\n",
      "Haar\n",
      "ignor..go\n",
      "ignor.md\n",
      "ignor.py\n",
      "iris.csv\n",
      "iris_1.csv\n",
      "iris_2.csv\n",
      "iris_3.csv\n",
      "Main_Test.py\n",
      "Main_Tutorial.py\n",
      "matplotlib.ipynb\n",
      "multi_array.npz\n",
      "numpy_tutorial.ipynb\n",
      "olympic_event.csv\n",
      "OOP_abilities_tutorial.ipynb\n",
      "pandas_practice.ipynb\n",
      "pandas_tutorial.ipynb\n",
      "Plotly.ipynb\n",
      "random_array.npy\n",
      "README.md\n",
      "square.png\n",
      "test.csv\n",
      "test.ipynb\n",
      "test.js\n",
      "test.txt\n",
      "test.xlsx\n",
      "test_class.wav\n",
      "tsigon.txt\n",
      "Tutorail_Argparse.py\n",
      "Tutorial_Audio_Processing.ipynb\n",
      "Tutorial_For_OS_GLOB.ipynb\n",
      "Tutorial_Object_Oriented_programming.ipynb\n",
      "__pycache__\n"
     ]
    }
   ],
   "source": [
    "from pathlib import Path\n",
    "\n",
    "entries = Path('./')\n",
    "for entry in entries.iterdir():\n",
    "    print(entry)"
   ]
  },
  {
   "cell_type": "markdown",
   "id": "e873a251",
   "metadata": {},
   "source": [
    "Function    | Description\n",
    "------------|---------------\n",
    "os.listdir() | Returns a list of all files and folders in a directory\n",
    "os.scandir()| Returns an iterator of all the objects in a directory including file attribute information\n",
    "pathlib.Path.iterdir() | Returns an iterator of all the objects in a directory including file attribute information"
   ]
  },
  {
   "cell_type": "code",
   "execution_count": 15,
   "id": "63845177",
   "metadata": {},
   "outputs": [
    {
     "name": "stdout",
     "output_type": "stream",
     "text": [
      "2.jpeg\n",
      "advanced_computer_vision.ipynb\n",
      "Advanced_Pandas_Practices.ipynb\n",
      "audio.wav\n",
      "choclate.csv\n",
      "Computer_vision_tutorial.ipynb\n",
      "cv_image.jpg\n",
      "face_detection.py\n",
      "gray.jpg\n",
      "ignor..go\n",
      "ignor.md\n",
      "ignor.py\n",
      "iris.csv\n",
      "iris_1.csv\n",
      "iris_2.csv\n",
      "iris_3.csv\n",
      "Main_Test.py\n",
      "Main_Tutorial.py\n",
      "matplotlib.ipynb\n",
      "multi_array.npz\n",
      "numpy_tutorial.ipynb\n",
      "olympic_event.csv\n",
      "OOP_abilities_tutorial.ipynb\n",
      "pandas_practice.ipynb\n",
      "pandas_tutorial.ipynb\n",
      "Plotly.ipynb\n",
      "random_array.npy\n",
      "README.md\n",
      "square.png\n",
      "test.csv\n",
      "test.ipynb\n",
      "test.js\n",
      "test.txt\n",
      "test.xlsx\n",
      "test_class.wav\n",
      "tsigon.txt\n",
      "Tutorail_Argparse.py\n",
      "Tutorial_Audio_Processing.ipynb\n",
      "Tutorial_For_OS_GLOB.ipynb\n",
      "Tutorial_Object_Oriented_programming.ipynb\n"
     ]
    }
   ],
   "source": [
    "with os.scandir('./') as entries:\n",
    "    for entry in entries:\n",
    "        if entry.is_file():\n",
    "            print(entry.name)"
   ]
  },
  {
   "cell_type": "code",
   "execution_count": 16,
   "id": "2cb8a239",
   "metadata": {},
   "outputs": [
    {
     "name": "stdout",
     "output_type": "stream",
     "text": [
      "2.jpeg\n",
      "advanced_computer_vision.ipynb\n",
      "Advanced_Pandas_Practices.ipynb\n",
      "audio.wav\n",
      "choclate.csv\n",
      "Computer_vision_tutorial.ipynb\n",
      "cv_image.jpg\n",
      "face_detection.py\n",
      "gray.jpg\n",
      "ignor..go\n",
      "ignor.md\n",
      "ignor.py\n",
      "iris.csv\n",
      "iris_1.csv\n",
      "iris_2.csv\n",
      "iris_3.csv\n",
      "Main_Test.py\n",
      "Main_Tutorial.py\n",
      "matplotlib.ipynb\n",
      "multi_array.npz\n",
      "numpy_tutorial.ipynb\n",
      "olympic_event.csv\n",
      "OOP_abilities_tutorial.ipynb\n",
      "pandas_practice.ipynb\n",
      "pandas_tutorial.ipynb\n",
      "Plotly.ipynb\n",
      "random_array.npy\n",
      "README.md\n",
      "square.png\n",
      "test.csv\n",
      "test.ipynb\n",
      "test.js\n",
      "test.txt\n",
      "test.xlsx\n",
      "test_class.wav\n",
      "tsigon.txt\n",
      "Tutorail_Argparse.py\n",
      "Tutorial_Audio_Processing.ipynb\n",
      "Tutorial_For_OS_GLOB.ipynb\n",
      "Tutorial_Object_Oriented_programming.ipynb\n"
     ]
    }
   ],
   "source": [
    "from pathlib import Path\n",
    "\n",
    "basepath = Path('./')\n",
    "files_in_basepath = basepath.iterdir()\n",
    "for item in files_in_basepath:\n",
    "    if item.is_file():\n",
    "        print(item.name)"
   ]
  },
  {
   "cell_type": "code",
   "execution_count": 17,
   "id": "102e5114",
   "metadata": {},
   "outputs": [
    {
     "name": "stdout",
     "output_type": "stream",
     "text": [
      "2.jpeg\n",
      "advanced_computer_vision.ipynb\n",
      "Advanced_Pandas_Practices.ipynb\n",
      "audio.wav\n",
      "choclate.csv\n",
      "Computer_vision_tutorial.ipynb\n",
      "cv_image.jpg\n",
      "face_detection.py\n",
      "gray.jpg\n",
      "ignor..go\n",
      "ignor.md\n",
      "ignor.py\n",
      "iris.csv\n",
      "iris_1.csv\n",
      "iris_2.csv\n",
      "iris_3.csv\n",
      "Main_Test.py\n",
      "Main_Tutorial.py\n",
      "matplotlib.ipynb\n",
      "multi_array.npz\n",
      "numpy_tutorial.ipynb\n",
      "olympic_event.csv\n",
      "OOP_abilities_tutorial.ipynb\n",
      "pandas_practice.ipynb\n",
      "pandas_tutorial.ipynb\n",
      "Plotly.ipynb\n",
      "random_array.npy\n",
      "README.md\n",
      "square.png\n",
      "test.csv\n",
      "test.ipynb\n",
      "test.js\n",
      "test.txt\n",
      "test.xlsx\n",
      "test_class.wav\n",
      "tsigon.txt\n",
      "Tutorail_Argparse.py\n",
      "Tutorial_Audio_Processing.ipynb\n",
      "Tutorial_For_OS_GLOB.ipynb\n",
      "Tutorial_Object_Oriented_programming.ipynb\n"
     ]
    }
   ],
   "source": [
    "from pathlib import Path\n",
    "\n",
    "# List all files in directory using pathlib\n",
    "basepath = Path('./')\n",
    "files_in_basepath = (entry for entry in basepath.iterdir() if entry.is_file())\n",
    "for item in files_in_basepath:\n",
    "    print(item.name)"
   ]
  },
  {
   "cell_type": "code",
   "execution_count": 19,
   "id": "f4cbde88-fa0d-42f2-af8d-c0e1d4490de0",
   "metadata": {},
   "outputs": [
    {
     "name": "stdout",
     "output_type": "stream",
     "text": [
      "A:\\AG\\AG_Science\\Advanced_Python_and_Data\n"
     ]
    }
   ],
   "source": [
    "print(os.getcwd())"
   ]
  },
  {
   "cell_type": "code",
   "execution_count": 21,
   "id": "ab3577bb",
   "metadata": {},
   "outputs": [
    {
     "name": "stdout",
     "output_type": "stream",
     "text": [
      "$RECYCLE.BIN\n",
      "732d5fb812b06a74a669f8ca\n",
      "AG\n",
      "anaconda_projects\n",
      "backup_legion_document\n",
      "backup_legion_download\n",
      "Baldur's Gate 3\n",
      "BG3 Mod Manager\n",
      "Games\n",
      "Lenovo_Legion_slim7_All_Drivers\n",
      "object_detection\n",
      "SpotPlayer\n",
      "spot_courses\n",
      "Steam\n",
      "System Volume Information\n",
      "tmp\n"
     ]
    }
   ],
   "source": [
    "import os\n",
    "\n",
    "# List all subdirectories using os.listdir except those started with .\n",
    "basepath = '../../../'\n",
    "for entry in os.listdir(basepath):\n",
    "#     print(os.path.join(basepath, entry))\n",
    "    if (os.path.isdir(os.path.join(basepath, entry)) and not(entry.startswith('.'))):\n",
    "        print(entry)"
   ]
  },
  {
   "cell_type": "code",
   "execution_count": 22,
   "id": "a0d10f4f",
   "metadata": {},
   "outputs": [
    {
     "ename": "FileNotFoundError",
     "evalue": "[WinError 3] The system cannot find the path specified: 'first_dir/first_sub_dir'",
     "output_type": "error",
     "traceback": [
      "\u001b[1;31m---------------------------------------------------------------------------\u001b[0m",
      "\u001b[1;31mFileNotFoundError\u001b[0m                         Traceback (most recent call last)",
      "Cell \u001b[1;32mIn[22], line 3\u001b[0m\n\u001b[0;32m      1\u001b[0m \u001b[38;5;66;03m# there are two types of creating directory with os\u001b[39;00m\n\u001b[0;32m      2\u001b[0m \u001b[38;5;66;03m# first one creates directory in one stage but second one creates in deeper stages \u001b[39;00m\n\u001b[1;32m----> 3\u001b[0m os\u001b[38;5;241m.\u001b[39mmkdir(\u001b[38;5;124m'\u001b[39m\u001b[38;5;124mfirst_dir/first_sub_dir\u001b[39m\u001b[38;5;124m'\u001b[39m)\n",
      "\u001b[1;31mFileNotFoundError\u001b[0m: [WinError 3] The system cannot find the path specified: 'first_dir/first_sub_dir'"
     ]
    }
   ],
   "source": [
    "# there are two types of creating directory with os\n",
    "# first one creates directory in one stage but second one creates in deeper stages \n",
    "os.mkdir('first_dir/first_sub_dir')"
   ]
  },
  {
   "cell_type": "code",
   "execution_count": 30,
   "id": "e7b55ee8",
   "metadata": {},
   "outputs": [],
   "source": [
    "# but as you can see\n",
    "os.makedirs('first_dir_1/first_sub_dir_1')\n",
    "os.mkdir('first_dir')"
   ]
  },
  {
   "cell_type": "code",
   "execution_count": 29,
   "id": "3eb2cf09",
   "metadata": {},
   "outputs": [],
   "source": [
    "# in the same pattern you can remove directories\n",
    "os.rmdir('first_dir')\n",
    "os.removedirs('first_dir_1/first_sub_dir_1')"
   ]
  },
  {
   "cell_type": "markdown",
   "id": "0b680f97",
   "metadata": {},
   "source": [
    "#### ✌️😎 Tip: usually use makedirs for creating but rmdir for removing "
   ]
  },
  {
   "cell_type": "markdown",
   "id": "3a452613",
   "metadata": {},
   "source": [
    "___"
   ]
  },
  {
   "cell_type": "code",
   "execution_count": 31,
   "id": "c705e478",
   "metadata": {},
   "outputs": [],
   "source": [
    "# rename \n",
    "os.rename('first_dir', 'second_dir')"
   ]
  },
  {
   "cell_type": "code",
   "execution_count": 32,
   "id": "d15bfab0",
   "metadata": {},
   "outputs": [
    {
     "name": "stdout",
     "output_type": "stream",
     "text": [
      "os.stat_result(st_mode=16895, st_ino=1125899907084903, st_dev=3941240522703185217, st_nlink=1, st_uid=0, st_gid=0, st_size=0, st_atime=1756221592, st_mtime=1756221592, st_ctime=1756221592) \n",
      "\n",
      "0\n"
     ]
    }
   ],
   "source": [
    "# how can we see some information about files ????\n",
    "print(os.stat('second_dir'), '\\n')\n",
    "print(os.stat('second_dir').st_size)"
   ]
  },
  {
   "cell_type": "markdown",
   "id": "d9447fe7",
   "metadata": {},
   "source": [
    "#### The question is how to transfer this times to real format ????💡"
   ]
  },
  {
   "cell_type": "code",
   "execution_count": 33,
   "id": "135a434f",
   "metadata": {},
   "outputs": [
    {
     "name": "stdout",
     "output_type": "stream",
     "text": [
      "2025-08-26 18:49:52.357810\n"
     ]
    }
   ],
   "source": [
    "from datetime import datetime\n",
    "modify_time = os.stat('second_dir').st_mtime\n",
    "print(datetime.fromtimestamp(modify_time))"
   ]
  },
  {
   "cell_type": "markdown",
   "id": "7368d2b9",
   "metadata": {},
   "source": [
    "#### 🫠🤗 Tip: this is very useful for applications "
   ]
  },
  {
   "cell_type": "markdown",
   "id": "d22affad",
   "metadata": {},
   "source": [
    "____"
   ]
  },
  {
   "cell_type": "code",
   "execution_count": 34,
   "id": "0133cdee",
   "metadata": {},
   "outputs": [
    {
     "name": "stdout",
     "output_type": "stream",
     "text": [
      "Current path: A:\\AG\\AG_Science\n",
      "Directories ['Advanced_Python_and_Data', 'Advanced_Tensorflow', 'Deep_Term2', 'IELTS', 'Machine Learning', 'Python_Course_PrataAcademy']\n",
      "Files [] \n",
      "\n",
      "Current path: A:\\AG\\AG_Science\\Advanced_Python_and_Data\n",
      "Directories ['.git', '.ipynb_checkpoints', 'anaconda_projects', 'first_dir_1', 'glob', 'Haar', 'second_dir', '__pycache__']\n",
      "Files ['2.jpeg', 'advanced_computer_vision.ipynb', 'Advanced_Pandas_Practices.ipynb', 'audio.wav', 'choclate.csv', 'Computer_vision_tutorial.ipynb', 'cv_image.jpg', 'face_detection.py', 'gray.jpg', 'ignor..go', 'ignor.md', 'ignor.py', 'iris.csv', 'iris_1.csv', 'iris_2.csv', 'iris_3.csv', 'Main_Test.py', 'Main_Tutorial.py', 'matplotlib.ipynb', 'multi_array.npz', 'numpy_tutorial.ipynb', 'olympic_event.csv', 'OOP_abilities_tutorial.ipynb', 'pandas_practice.ipynb', 'pandas_tutorial.ipynb', 'Plotly.ipynb', 'random_array.npy', 'README.md', 'square.png', 'test.csv', 'test.ipynb', 'test.js', 'test.txt', 'test.xlsx', 'test_class.wav', 'tsigon.txt', 'Tutorail_Argparse.py', 'Tutorial_Audio_Processing.ipynb', 'Tutorial_For_OS_GLOB.ipynb', 'Tutorial_Object_Oriented_programming.ipynb'] \n",
      "\n",
      "Current path: A:\\AG\\AG_Science\\Advanced_Python_and_Data\\.git\n",
      "Directories ['hooks', 'info', 'logs', 'objects', 'refs']\n",
      "Files ['config', 'description', 'HEAD', 'index', 'packed-refs'] \n",
      "\n",
      "Current path: A:\\AG\\AG_Science\\Advanced_Python_and_Data\\.git\\hooks\n",
      "Directories []\n",
      "Files ['applypatch-msg.sample', 'commit-msg.sample', 'fsmonitor-watchman.sample', 'post-update.sample', 'pre-applypatch.sample', 'pre-commit.sample', 'pre-merge-commit.sample', 'pre-push.sample', 'pre-rebase.sample', 'pre-receive.sample', 'prepare-commit-msg.sample', 'push-to-checkout.sample', 'sendemail-validate.sample', 'update.sample'] \n",
      "\n",
      "Current path: A:\\AG\\AG_Science\\Advanced_Python_and_Data\\.git\\info\n",
      "Directories []\n",
      "Files ['exclude'] \n",
      "\n",
      "Current path: A:\\AG\\AG_Science\\Advanced_Python_and_Data\\.git\\logs\n",
      "Directories ['refs']\n",
      "Files ['HEAD'] \n",
      "\n",
      "Current path: A:\\AG\\AG_Science\\Advanced_Python_and_Data\\.git\\logs\\refs\n",
      "Directories ['heads', 'remotes']\n",
      "Files [] \n",
      "\n",
      "Current path: A:\\AG\\AG_Science\\Advanced_Python_and_Data\\.git\\logs\\refs\\heads\n",
      "Directories []\n",
      "Files ['main'] \n",
      "\n",
      "Current path: A:\\AG\\AG_Science\\Advanced_Python_and_Data\\.git\\logs\\refs\\remotes\n",
      "Directories ['origin']\n",
      "Files [] \n",
      "\n",
      "Current path: A:\\AG\\AG_Science\\Advanced_Python_and_Data\\.git\\logs\\refs\\remotes\\origin\n",
      "Directories []\n",
      "Files ['HEAD'] \n",
      "\n",
      "Current path: A:\\AG\\AG_Science\\Advanced_Python_and_Data\\.git\\objects\n",
      "Directories ['info', 'pack']\n",
      "Files [] \n",
      "\n",
      "Current path: A:\\AG\\AG_Science\\Advanced_Python_and_Data\\.git\\objects\\info\n",
      "Directories []\n",
      "Files [] \n",
      "\n",
      "Current path: A:\\AG\\AG_Science\\Advanced_Python_and_Data\\.git\\objects\\pack\n",
      "Directories []\n",
      "Files ['pack-a1675e34c4b825284582e44e719e336a2a859927.idx', 'pack-a1675e34c4b825284582e44e719e336a2a859927.pack', 'pack-a1675e34c4b825284582e44e719e336a2a859927.rev'] \n",
      "\n",
      "Current path: A:\\AG\\AG_Science\\Advanced_Python_and_Data\\.git\\refs\n",
      "Directories ['heads', 'remotes', 'tags']\n",
      "Files [] \n",
      "\n",
      "Current path: A:\\AG\\AG_Science\\Advanced_Python_and_Data\\.git\\refs\\heads\n",
      "Directories []\n",
      "Files ['main'] \n",
      "\n",
      "Current path: A:\\AG\\AG_Science\\Advanced_Python_and_Data\\.git\\refs\\remotes\n",
      "Directories ['origin']\n",
      "Files [] \n",
      "\n",
      "Current path: A:\\AG\\AG_Science\\Advanced_Python_and_Data\\.git\\refs\\remotes\\origin\n",
      "Directories []\n",
      "Files ['HEAD'] \n",
      "\n",
      "Current path: A:\\AG\\AG_Science\\Advanced_Python_and_Data\\.git\\refs\\tags\n",
      "Directories []\n",
      "Files [] \n",
      "\n",
      "Current path: A:\\AG\\AG_Science\\Advanced_Python_and_Data\\.ipynb_checkpoints\n",
      "Directories []\n",
      "Files ['advanced_computer_vision-checkpoint.ipynb', 'Computer_vision_tutorial-checkpoint.ipynb', 'face_detection-checkpoint.py', 'matplotlib-checkpoint.ipynb', 'numpy_tutorial-checkpoint.ipynb', 'OOP_abilities_tutorial-checkpoint.ipynb', 'pandas_practice-checkpoint.ipynb', 'pandas_tutorial-checkpoint.ipynb', 'Plotly-checkpoint.ipynb', 'test-checkpoint.ipynb', 'Tutorial_Audio_Processing-checkpoint.ipynb', 'Tutorial_For_OS_GLOB-checkpoint.ipynb', 'Tutorial_Object_Oriented_programming-checkpoint.ipynb'] \n",
      "\n",
      "Current path: A:\\AG\\AG_Science\\Advanced_Python_and_Data\\anaconda_projects\n",
      "Directories ['db']\n",
      "Files [] \n",
      "\n",
      "Current path: A:\\AG\\AG_Science\\Advanced_Python_and_Data\\anaconda_projects\\db\n",
      "Directories []\n",
      "Files ['project_filebrowser.db'] \n",
      "\n",
      "Current path: A:\\AG\\AG_Science\\Advanced_Python_and_Data\\first_dir_1\n",
      "Directories ['first_sub_dir_1']\n",
      "Files [] \n",
      "\n",
      "Current path: A:\\AG\\AG_Science\\Advanced_Python_and_Data\\first_dir_1\\first_sub_dir_1\n",
      "Directories []\n",
      "Files [] \n",
      "\n",
      "Current path: A:\\AG\\AG_Science\\Advanced_Python_and_Data\\glob\n",
      "Directories []\n",
      "Files ['test_glob.py', 'test_glob2.py'] \n",
      "\n",
      "Current path: A:\\AG\\AG_Science\\Advanced_Python_and_Data\\Haar\n",
      "Directories []\n",
      "Files ['haarcascade_eye.xml', 'haarcascade_eye_tree_eyeglasses.xml', 'haarcascade_frontalcatface.xml', 'haarcascade_frontalcatface_extended.xml', 'haarcascade_frontalface_alt.xml', 'haarcascade_frontalface_alt2.xml', 'haarcascade_frontalface_alt_tree.xml', 'haarcascade_frontalface_default.xml', 'haarcascade_fullbody.xml', 'haarcascade_lefteye_2splits.xml', 'haarcascade_licence_plate_rus_16stages.xml', 'haarcascade_lowerbody.xml', 'haarcascade_profileface.xml', 'haarcascade_righteye_2splits.xml', 'haarcascade_russian_plate_number.xml', 'haarcascade_smile.xml', 'haarcascade_upperbody.xml'] \n",
      "\n",
      "Current path: A:\\AG\\AG_Science\\Advanced_Python_and_Data\\second_dir\n",
      "Directories []\n",
      "Files [] \n",
      "\n",
      "Current path: A:\\AG\\AG_Science\\Advanced_Python_and_Data\\__pycache__\n",
      "Directories []\n",
      "Files ['Main_Tutorial.cpython-312.pyc'] \n",
      "\n",
      "Current path: A:\\AG\\AG_Science\\Advanced_Tensorflow\n",
      "Directories ['Science_of_designing_architecture_of_AI_models', 'week1', 'week2']\n",
      "Files [] \n",
      "\n",
      "Current path: A:\\AG\\AG_Science\\Advanced_Tensorflow\\Science_of_designing_architecture_of_AI_models\n",
      "Directories []\n",
      "Files ['how_to_design_AI_models.docx'] \n",
      "\n",
      "Current path: A:\\AG\\AG_Science\\Advanced_Tensorflow\\week1\n",
      "Directories []\n",
      "Files ['ADV_TF_HW1.pdf', 'Plan-Week1.pdf', 'Week-1.pdf'] \n",
      "\n",
      "Current path: A:\\AG\\AG_Science\\Advanced_Tensorflow\\week2\n",
      "Directories ['Week2_dataset']\n",
      "Files ['Advanced_Tensorflow_Week2.pdf', 'ADV_TF_HW2.pdf', 'Plan-Week2.pdf', 'Week2_dataset.zip'] \n",
      "\n",
      "Current path: A:\\AG\\AG_Science\\Advanced_Tensorflow\\week2\\Week2_dataset\n",
      "Directories []\n",
      "Files [] \n",
      "\n",
      "Current path: A:\\AG\\AG_Science\\Deep_Term2\n",
      "Directories ['week1', 'week2', 'week3', 'week4', 'week5', 'week6', 'week7', 'week8', 'week9']\n",
      "Files [] \n",
      "\n",
      "Current path: A:\\AG\\AG_Science\\Deep_Term2\\week1\n",
      "Directories []\n",
      "Files ['HW1-RNN&Transformers.pdf', 'slides and refrences.zip'] \n",
      "\n",
      "Current path: A:\\AG\\AG_Science\\Deep_Term2\\week2\n",
      "Directories []\n",
      "Files ['HW2-RNN & Transformers.zip', 'slides- section2.rar'] \n",
      "\n",
      "Current path: A:\\AG\\AG_Science\\Deep_Term2\\week3\n",
      "Directories []\n",
      "Files ['HW3-RNN&Transformers.zip', 'Section-3 (VC).pdf', 'Slides.zip'] \n",
      "\n",
      "Current path: A:\\AG\\AG_Science\\Deep_Term2\\week4\n",
      "Directories ['slides_section4']\n",
      "Files ['slides_section4.zip'] \n",
      "\n",
      "Current path: A:\\AG\\AG_Science\\Deep_Term2\\week4\\slides_section4\n",
      "Directories []\n",
      "Files ['Section-4 (with note).pdf', 'Section-4 (without note).pdf'] \n",
      "\n",
      "Current path: A:\\AG\\AG_Science\\Deep_Term2\\week5\n",
      "Directories ['papers', 'week 5 slides']\n",
      "Files ['HW4_5-RNN_Transformers.pdf', 'papers.zip', 'week 5 slides.zip'] \n",
      "\n",
      "Current path: A:\\AG\\AG_Science\\Deep_Term2\\week5\\papers\n",
      "Directories []\n",
      "Files ['attention in image.pdf', 'attention original paper.pdf', 'luong attention paper.pdf', 'review paper.pdf'] \n",
      "\n",
      "Current path: A:\\AG\\AG_Science\\Deep_Term2\\week5\\week 5 slides\n",
      "Directories []\n",
      "Files ['Section-5 (with note).pdf', 'Section-5 (without note).pdf'] \n",
      "\n",
      "Current path: A:\\AG\\AG_Science\\Deep_Term2\\week6\n",
      "Directories []\n",
      "Files ['HW6-RNN&Transformers.pdf', 'Section-6 (without note).pdf'] \n",
      "\n",
      "Current path: A:\\AG\\AG_Science\\Deep_Term2\\week7\n",
      "Directories []\n",
      "Files ['Section-7 (without note).pdf', 'W7-W9_original paper of Transformers.pdf'] \n",
      "\n",
      "Current path: A:\\AG\\AG_Science\\Deep_Term2\\week8\n",
      "Directories []\n",
      "Files ['Section-8 (without note).pdf', 'W7-W9_original paper of Transformers.pdf'] \n",
      "\n",
      "Current path: A:\\AG\\AG_Science\\Deep_Term2\\week9\n",
      "Directories ['Notebooks']\n",
      "Files ['Notebooks.zip', 'Section-9 (without note).pdf'] \n",
      "\n",
      "Current path: A:\\AG\\AG_Science\\Deep_Term2\\week9\\Notebooks\n",
      "Directories ['fine tuning']\n",
      "Files ['1_huggingface_tokenizer.ipynb'] \n",
      "\n",
      "Current path: A:\\AG\\AG_Science\\Deep_Term2\\week9\\Notebooks\\fine tuning\n",
      "Directories []\n",
      "Files ['test.csv', 'train.csv', 'tweet classification.ipynb'] \n",
      "\n",
      "Current path: A:\\AG\\AG_Science\\IELTS\n",
      "Directories ['Aida_pdfs', 'grammer_practices', 'speaking_practices', 'writing_practices']\n",
      "Files [] \n",
      "\n",
      "Current path: A:\\AG\\AG_Science\\IELTS\\Aida_pdfs\n",
      "Directories []\n",
      "Files ['1.docx', 'adjective and adverb (1).docx', 'adjective and adverb.docx', 'agree, disgree.docx', 'grammar and CC, new version.docx', 'graph, new version.docx', 'holiday.docx', 'photography.docx', 'session 2, speaking part 1.docx', 'shopping.docx', 'speaking new.docx'] \n",
      "\n",
      "Current path: A:\\AG\\AG_Science\\IELTS\\grammer_practices\n",
      "Directories []\n",
      "Files ['not_only_grammer.docx'] \n",
      "\n",
      "Current path: A:\\AG\\AG_Science\\IELTS\\speaking_practices\n",
      "Directories []\n",
      "Files ['corrected-makar-2.docx', 'corrected_makar_1.docx', 'speaking_tips.docx'] \n",
      "\n",
      "Current path: A:\\AG\\AG_Science\\IELTS\\writing_practices\n",
      "Directories []\n",
      "Files ['Writing Practice_2_part_question.docx', 'Writing_Practice_advantage_disadvantage.docx', 'Writing_Practice_agree_disagree.docx', 'Writing_Practice_discussion_opinion.docx', 'Writing_practice_problem_solution.docx'] \n",
      "\n",
      "Current path: A:\\AG\\AG_Science\\Machine Learning\n",
      "Directories ['AG_practices', 'practice_files', 'session_01', 'session_02', 'session_03', 'session_04', 'session_05', 'session_06', 'session_07', 'session_08', 'Session_09', 'session_10', 'session_11', 'session_12', 'session_13', 'session_14', 'session_15', 'session_16', 'session_17', 'session_18', 'session_19', 'session_20', 'session_21', 'session_22', 'session_23', 'session_24', 'session_25']\n",
      "Files ['git_amin.mp4'] \n",
      "\n",
      "Current path: A:\\AG\\AG_Science\\Machine Learning\\AG_practices\n",
      "Directories ['.ipynb_checkpoints']\n",
      "Files ['array_practice.ipynb', 'pandas_practice.py', 'visualization_practice.ipynb'] \n",
      "\n",
      "Current path: A:\\AG\\AG_Science\\Machine Learning\\AG_practices\\.ipynb_checkpoints\n",
      "Directories []\n",
      "Files ['array_practice-checkpoint.ipynb', 'visualization_practice-checkpoint.ipynb'] \n",
      "\n",
      "Current path: A:\\AG\\AG_Science\\Machine Learning\\practice_files\n",
      "Directories []\n",
      "Files ['Boostraping.ipynb', 'cars.csv', 'chocolate.csv', 'data (1).zip', 'Day1_Linear_Regression_SC.ipynb', 'diamonds.csv', 'fmri.csv', 'Intro2NumPy.ipynb', 'iris.csv', 'mpg.csv', 'names_raw.txt', 'nyc_taxis (1).csv', 'nyc_taxis (2).csv', 'nyc_taxis.csv', 'olympics_events.csv', 'olympics_games.csv', 'Pandas_Fund.ipynb', 'PyDSTAT01_EDA_SC.ipynb', 'Python_Day1_SC.ipynb', 'Python_Day2_SC.ipynb', 'Python_Day4_SC.ipynb', 'Python_Day5_SC.ipynb', 'Python_Day6_SC.ipynb', 'refferences.docx', 'Scatter Plot -- Python Plotly (part 1).mp4', 'stocks.json', 'storytelling-with-data-cole-nussbaumer-knaflic.pdf', 'tips.csv', 'titanic.csv', 'سایتها.txt'] \n",
      "\n",
      "Current path: A:\\AG\\AG_Science\\Machine Learning\\session_01\n",
      "Directories []\n",
      "Files ['0101.mp4', '0102.mp4', '0103.mp4', '0104.mp4', '0105.mp4'] \n",
      "\n",
      "Current path: A:\\AG\\AG_Science\\Machine Learning\\session_02\n",
      "Directories ['practice_files']\n",
      "Files ['0201.mp4', '0202.mp4', '0203.mp4', '0204.mp4', '0205.mp4', '0206.mp4'] \n",
      "\n",
      "Current path: A:\\AG\\AG_Science\\Machine Learning\\session_02\\practice_files\n",
      "Directories ['data (1)']\n",
      "Files ['Boostraping.ipynb', 'cars.csv', 'chocolate.csv', 'data (1).zip', 'diamonds.csv', 'fmri.csv', 'Intro2NumPy.ipynb', 'iris.csv', 'mpg.csv', 'names_raw.txt', 'nyc_taxis (1).csv', 'nyc_taxis (2).csv', 'nyc_taxis.csv', 'olympics_events.csv', 'olympics_games.csv', 'Pandas_Fund.ipynb', 'PyDSTAT01_EDA_SC.ipynb', 'Python_Day1_SC.ipynb', 'Python_Day2_SC.ipynb', 'Python_Day4_SC.ipynb', 'Python_Day5_SC.ipynb', 'Python_Day6_SC.ipynb', 'refferences.docx', 'stocks.json', 'storytelling-with-data-cole-nussbaumer-knaflic.pdf', 'tips.csv', 'titanic.csv'] \n",
      "\n",
      "Current path: A:\\AG\\AG_Science\\Machine Learning\\session_02\\practice_files\\data (1)\n",
      "Directories ['data']\n",
      "Files [] \n",
      "\n",
      "Current path: A:\\AG\\AG_Science\\Machine Learning\\session_02\\practice_files\\data (1)\\data\n",
      "Directories []\n",
      "Files ['.Rapp.history', 'CBR.csv', 'exams.csv', 'friends.csv', 'friends.RData', 'Height.csv', 'hr.csv', 'HumanLongevity.csv', 'iris.csv', 'low_birth_weight.csv', 'nightlight.csv', 'nightlight.RData', 'OrangeJuice_quality.csv', 'OrangeJuice_quality.numbers', 'OrangeJuice_quality.xls', 'Pregnancy.csv', 'RedWine_quality.csv', 'Salary.csv', 'sarawak_district_median_income.xlsx', 'Smile.csv', 'StatScore.csv', 'time.RData', 'tv.csv', 'voter.csv', 'Weight.csv', 'wide_iris.csv', 'winequality_red.csv'] \n",
      "\n",
      "Current path: A:\\AG\\AG_Science\\Machine Learning\\session_03\n",
      "Directories ['session_08']\n",
      "Files ['0301.mp4', '0302.mp4', '0303.mp4', '0304.mp4', '0305.mp4'] \n",
      "\n",
      "Current path: A:\\AG\\AG_Science\\Machine Learning\\session_03\\session_08\n",
      "Directories []\n",
      "Files ['0801.mp4', '0802.mp4'] \n",
      "\n",
      "Current path: A:\\AG\\AG_Science\\Machine Learning\\session_04\n",
      "Directories ['session_04']\n",
      "Files ['Meet - ina-fbey-yax (1).webm', 'Meet - ina-fbey-yax (2).webm', 'Meet - ina-fbey-yax (3).webm', 'Meet - ina-fbey-yax.webm'] \n",
      "\n",
      "Current path: A:\\AG\\AG_Science\\Machine Learning\\session_04\\session_04\n",
      "Directories []\n",
      "Files ['0401.mp4', '0402.mp4', '0403.mp4', '0404.mp4'] \n",
      "\n",
      "Current path: A:\\AG\\AG_Science\\Machine Learning\\session_05\n",
      "Directories []\n",
      "Files ['0501.mp4', '0502.mp4', '0503.mp4', '0504.mp4'] \n",
      "\n",
      "Current path: A:\\AG\\AG_Science\\Machine Learning\\session_06\n",
      "Directories []\n",
      "Files ['0601.mp4', '0602.mp4', '0603.mp4'] \n",
      "\n",
      "Current path: A:\\AG\\AG_Science\\Machine Learning\\session_07\n",
      "Directories []\n",
      "Files ['0701.mp4'] \n",
      "\n",
      "Current path: A:\\AG\\AG_Science\\Machine Learning\\session_08\n",
      "Directories []\n",
      "Files ['0801.mp4', '0802.mp4'] \n",
      "\n",
      "Current path: A:\\AG\\AG_Science\\Machine Learning\\Session_09\n",
      "Directories []\n",
      "Files ['0901.mp4', '0902.mp4'] \n",
      "\n",
      "Current path: A:\\AG\\AG_Science\\Machine Learning\\session_10\n",
      "Directories []\n",
      "Files ['1001.mp4', '1002.mp4', '1003.mp4'] \n",
      "\n",
      "Current path: A:\\AG\\AG_Science\\Machine Learning\\session_11\n",
      "Directories []\n",
      "Files ['1101.mp4', '1102.mp4'] \n",
      "\n",
      "Current path: A:\\AG\\AG_Science\\Machine Learning\\session_12\n",
      "Directories []\n",
      "Files ['Meet – awz-qvzi-nbh (1).mp4', 'Meet – awz-qvzi-nbh.mp4', 'Meet – tvu-nsap-zrt (1).mp4', 'Meet – tvu-nsap-zrt.mp4', 'Meet – yxy-xdst-azx.mp4'] \n",
      "\n",
      "Current path: A:\\AG\\AG_Science\\Machine Learning\\session_13\n",
      "Directories []\n",
      "Files ['1301.mp4', '1302.mp4'] \n",
      "\n",
      "Current path: A:\\AG\\AG_Science\\Machine Learning\\session_14\n",
      "Directories []\n",
      "Files ['1401.mp4'] \n",
      "\n",
      "Current path: A:\\AG\\AG_Science\\Machine Learning\\session_15\n",
      "Directories ['session_15']\n",
      "Files [] \n",
      "\n",
      "Current path: A:\\AG\\AG_Science\\Machine Learning\\session_15\\session_15\n",
      "Directories []\n",
      "Files ['1501.mp4', '1502.mp4'] \n",
      "\n",
      "Current path: A:\\AG\\AG_Science\\Machine Learning\\session_16\n",
      "Directories []\n",
      "Files [] \n",
      "\n",
      "Current path: A:\\AG\\AG_Science\\Machine Learning\\session_17\n",
      "Directories ['session_17']\n",
      "Files [] \n",
      "\n",
      "Current path: A:\\AG\\AG_Science\\Machine Learning\\session_17\\session_17\n",
      "Directories []\n",
      "Files ['1701.mp4'] \n",
      "\n",
      "Current path: A:\\AG\\AG_Science\\Machine Learning\\session_18\n",
      "Directories []\n",
      "Files ['1801.mp4', '1802.mp4'] \n",
      "\n",
      "Current path: A:\\AG\\AG_Science\\Machine Learning\\session_19\n",
      "Directories []\n",
      "Files ['1901.mp4'] \n",
      "\n",
      "Current path: A:\\AG\\AG_Science\\Machine Learning\\session_20\n",
      "Directories []\n",
      "Files ['2001.mp4'] \n",
      "\n",
      "Current path: A:\\AG\\AG_Science\\Machine Learning\\session_21\n",
      "Directories []\n",
      "Files ['2101.mp4'] \n",
      "\n",
      "Current path: A:\\AG\\AG_Science\\Machine Learning\\session_22\n",
      "Directories []\n",
      "Files ['2201.mkv'] \n",
      "\n",
      "Current path: A:\\AG\\AG_Science\\Machine Learning\\session_23\n",
      "Directories []\n",
      "Files ['2301.mp4'] \n",
      "\n",
      "Current path: A:\\AG\\AG_Science\\Machine Learning\\session_24\n",
      "Directories []\n",
      "Files ['2401.mp4'] \n",
      "\n",
      "Current path: A:\\AG\\AG_Science\\Machine Learning\\session_25\n",
      "Directories []\n",
      "Files ['2501.mp4'] \n",
      "\n",
      "Current path: A:\\AG\\AG_Science\\Python_Course_PrataAcademy\n",
      "Directories ['.git', '.ipynb_checkpoints', 'anaconda_projects']\n",
      "Files ['0- Think_Python, 2nd Edition.pdf', 'erfan_first.ipynb', 'exam.ipynb', 'Learn Python the right way.pdf', 'LICENSE', 'mbox.txt', 'practis.ipynb', 'practis2.ipynb', 'Python for Everybody.pdf', 'Python_CH1.ipynb', 'Python_CH10.ipynb', 'Python_CH11.ipynb', 'Python_CH2.ipynb', 'Python_CH3.ipynb', 'Python_CH4.ipynb', 'Python_CH5.ipynb', 'Python_CH6.ipynb', 'Python_CH7.ipynb', 'Python_CH8.ipynb', 'Python_CH9.ipynb', 'README.md', 'test.ipynb'] \n",
      "\n",
      "Current path: A:\\AG\\AG_Science\\Python_Course_PrataAcademy\\.git\n",
      "Directories ['hooks', 'info', 'logs', 'objects', 'refs']\n",
      "Files ['config', 'description', 'FETCH_HEAD', 'HEAD', 'index', 'ORIG_HEAD', 'packed-refs'] \n",
      "\n",
      "Current path: A:\\AG\\AG_Science\\Python_Course_PrataAcademy\\.git\\hooks\n",
      "Directories []\n",
      "Files ['applypatch-msg.sample', 'commit-msg.sample', 'fsmonitor-watchman.sample', 'post-update.sample', 'pre-applypatch.sample', 'pre-commit.sample', 'pre-merge-commit.sample', 'pre-push.sample', 'pre-rebase.sample', 'pre-receive.sample', 'prepare-commit-msg.sample', 'push-to-checkout.sample', 'sendemail-validate.sample', 'update.sample'] \n",
      "\n",
      "Current path: A:\\AG\\AG_Science\\Python_Course_PrataAcademy\\.git\\info\n",
      "Directories []\n",
      "Files ['exclude'] \n",
      "\n",
      "Current path: A:\\AG\\AG_Science\\Python_Course_PrataAcademy\\.git\\logs\n",
      "Directories ['refs']\n",
      "Files ['HEAD'] \n",
      "\n",
      "Current path: A:\\AG\\AG_Science\\Python_Course_PrataAcademy\\.git\\logs\\refs\n",
      "Directories ['heads', 'remotes']\n",
      "Files [] \n",
      "\n",
      "Current path: A:\\AG\\AG_Science\\Python_Course_PrataAcademy\\.git\\logs\\refs\\heads\n",
      "Directories []\n",
      "Files ['main'] \n",
      "\n",
      "Current path: A:\\AG\\AG_Science\\Python_Course_PrataAcademy\\.git\\logs\\refs\\remotes\n",
      "Directories ['origin']\n",
      "Files [] \n",
      "\n",
      "Current path: A:\\AG\\AG_Science\\Python_Course_PrataAcademy\\.git\\logs\\refs\\remotes\\origin\n",
      "Directories []\n",
      "Files ['HEAD'] \n",
      "\n",
      "Current path: A:\\AG\\AG_Science\\Python_Course_PrataAcademy\\.git\\objects\n",
      "Directories ['info', 'pack']\n",
      "Files [] \n",
      "\n",
      "Current path: A:\\AG\\AG_Science\\Python_Course_PrataAcademy\\.git\\objects\\info\n",
      "Directories []\n",
      "Files [] \n",
      "\n",
      "Current path: A:\\AG\\AG_Science\\Python_Course_PrataAcademy\\.git\\objects\\pack\n",
      "Directories []\n",
      "Files ['pack-a21a602531506f27b54702587b511922327bc7c9.idx', 'pack-a21a602531506f27b54702587b511922327bc7c9.pack', 'pack-a21a602531506f27b54702587b511922327bc7c9.rev'] \n",
      "\n",
      "Current path: A:\\AG\\AG_Science\\Python_Course_PrataAcademy\\.git\\refs\n",
      "Directories ['heads', 'remotes', 'tags']\n",
      "Files [] \n",
      "\n",
      "Current path: A:\\AG\\AG_Science\\Python_Course_PrataAcademy\\.git\\refs\\heads\n",
      "Directories []\n",
      "Files ['main'] \n",
      "\n",
      "Current path: A:\\AG\\AG_Science\\Python_Course_PrataAcademy\\.git\\refs\\remotes\n",
      "Directories ['origin']\n",
      "Files [] \n",
      "\n",
      "Current path: A:\\AG\\AG_Science\\Python_Course_PrataAcademy\\.git\\refs\\remotes\\origin\n",
      "Directories []\n",
      "Files ['HEAD'] \n",
      "\n",
      "Current path: A:\\AG\\AG_Science\\Python_Course_PrataAcademy\\.git\\refs\\tags\n",
      "Directories []\n",
      "Files [] \n",
      "\n",
      "Current path: A:\\AG\\AG_Science\\Python_Course_PrataAcademy\\.ipynb_checkpoints\n",
      "Directories []\n",
      "Files ['erfan_first-checkpoint.ipynb', 'exam-checkpoint.ipynb', 'mbox-checkpoint.txt', 'practis-checkpoint.ipynb', 'practis2-checkpoint.ipynb', 'Python_CH1-checkpoint.ipynb', 'Python_CH10-checkpoint.ipynb', 'Python_CH11-checkpoint.ipynb', 'Python_CH2-checkpoint.ipynb', 'Python_CH5-checkpoint.ipynb', 'Python_CH6-checkpoint.ipynb', 'Python_CH7-checkpoint.ipynb', 'Python_CH8-checkpoint.ipynb', 'Python_CH9-checkpoint.ipynb', 'test-checkpoint.ipynb'] \n",
      "\n",
      "Current path: A:\\AG\\AG_Science\\Python_Course_PrataAcademy\\anaconda_projects\n",
      "Directories ['db']\n",
      "Files [] \n",
      "\n",
      "Current path: A:\\AG\\AG_Science\\Python_Course_PrataAcademy\\anaconda_projects\\db\n",
      "Directories []\n",
      "Files ['project_filebrowser.db'] \n",
      "\n"
     ]
    }
   ],
   "source": [
    "# we want to fine a file but we dont know where it is\n",
    "for dirpath, dirnames, filenames in os.walk(r'A:\\AG\\AG_Science'):\n",
    "    print('Current path:', dirpath)\n",
    "    print('Directories', dirnames)\n",
    "    print('Files', filenames, '\\n')"
   ]
  },
  {
   "cell_type": "code",
   "execution_count": 35,
   "id": "ee74db8a",
   "metadata": {},
   "outputs": [
    {
     "name": "stdout",
     "output_type": "stream",
     "text": [
      "Found directory: ['.git', '.ipynb_checkpoints', 'anaconda_projects', 'first_dir_1', 'glob', 'Haar', 'second_dir', '__pycache__']\n",
      "2.jpeg\n",
      "advanced_computer_vision.ipynb\n",
      "Advanced_Pandas_Practices.ipynb\n",
      "audio.wav\n",
      "choclate.csv\n",
      "Computer_vision_tutorial.ipynb\n",
      "cv_image.jpg\n",
      "face_detection.py\n",
      "gray.jpg\n",
      "ignor..go\n",
      "ignor.md\n",
      "ignor.py\n",
      "iris.csv\n",
      "iris_1.csv\n",
      "iris_2.csv\n",
      "iris_3.csv\n",
      "Main_Test.py\n",
      "Main_Tutorial.py\n",
      "matplotlib.ipynb\n",
      "multi_array.npz\n",
      "numpy_tutorial.ipynb\n",
      "olympic_event.csv\n",
      "OOP_abilities_tutorial.ipynb\n",
      "pandas_practice.ipynb\n",
      "pandas_tutorial.ipynb\n",
      "Plotly.ipynb\n",
      "random_array.npy\n",
      "README.md\n",
      "square.png\n",
      "test.csv\n",
      "test.ipynb\n",
      "test.js\n",
      "test.txt\n",
      "test.xlsx\n",
      "test_class.wav\n",
      "tsigon.txt\n",
      "Tutorail_Argparse.py\n",
      "Tutorial_Audio_Processing.ipynb\n",
      "Tutorial_For_OS_GLOB.ipynb\n",
      "Tutorial_Object_Oriented_programming.ipynb\n",
      "Found directory: ['hooks', 'info', 'logs', 'objects', 'refs']\n",
      "config\n",
      "description\n",
      "HEAD\n",
      "index\n",
      "packed-refs\n",
      "Found directory: []\n",
      "applypatch-msg.sample\n",
      "commit-msg.sample\n",
      "fsmonitor-watchman.sample\n",
      "post-update.sample\n",
      "pre-applypatch.sample\n",
      "pre-commit.sample\n",
      "pre-merge-commit.sample\n",
      "pre-push.sample\n",
      "pre-rebase.sample\n",
      "pre-receive.sample\n",
      "prepare-commit-msg.sample\n",
      "push-to-checkout.sample\n",
      "sendemail-validate.sample\n",
      "update.sample\n",
      "Found directory: []\n",
      "exclude\n",
      "Found directory: ['refs']\n",
      "HEAD\n",
      "Found directory: ['heads', 'remotes']\n",
      "Found directory: []\n",
      "main\n",
      "Found directory: ['origin']\n",
      "Found directory: []\n",
      "HEAD\n",
      "Found directory: ['info', 'pack']\n",
      "Found directory: []\n",
      "Found directory: []\n",
      "pack-a1675e34c4b825284582e44e719e336a2a859927.idx\n",
      "pack-a1675e34c4b825284582e44e719e336a2a859927.pack\n",
      "pack-a1675e34c4b825284582e44e719e336a2a859927.rev\n",
      "Found directory: ['heads', 'remotes', 'tags']\n",
      "Found directory: []\n",
      "main\n",
      "Found directory: ['origin']\n",
      "Found directory: []\n",
      "HEAD\n",
      "Found directory: []\n",
      "Found directory: []\n",
      "advanced_computer_vision-checkpoint.ipynb\n",
      "Computer_vision_tutorial-checkpoint.ipynb\n",
      "face_detection-checkpoint.py\n",
      "matplotlib-checkpoint.ipynb\n",
      "numpy_tutorial-checkpoint.ipynb\n",
      "OOP_abilities_tutorial-checkpoint.ipynb\n",
      "pandas_practice-checkpoint.ipynb\n",
      "pandas_tutorial-checkpoint.ipynb\n",
      "Plotly-checkpoint.ipynb\n",
      "test-checkpoint.ipynb\n",
      "Tutorial_Audio_Processing-checkpoint.ipynb\n",
      "Tutorial_For_OS_GLOB-checkpoint.ipynb\n",
      "Tutorial_Object_Oriented_programming-checkpoint.ipynb\n",
      "Found directory: ['db']\n",
      "Found directory: []\n",
      "project_filebrowser.db\n",
      "Found directory: ['first_sub_dir_1']\n",
      "Found directory: []\n",
      "Found directory: []\n",
      "test_glob.py\n",
      "test_glob2.py\n",
      "Found directory: []\n",
      "haarcascade_eye.xml\n",
      "haarcascade_eye_tree_eyeglasses.xml\n",
      "haarcascade_frontalcatface.xml\n",
      "haarcascade_frontalcatface_extended.xml\n",
      "haarcascade_frontalface_alt.xml\n",
      "haarcascade_frontalface_alt2.xml\n",
      "haarcascade_frontalface_alt_tree.xml\n",
      "haarcascade_frontalface_default.xml\n",
      "haarcascade_fullbody.xml\n",
      "haarcascade_lefteye_2splits.xml\n",
      "haarcascade_licence_plate_rus_16stages.xml\n",
      "haarcascade_lowerbody.xml\n",
      "haarcascade_profileface.xml\n",
      "haarcascade_righteye_2splits.xml\n",
      "haarcascade_russian_plate_number.xml\n",
      "haarcascade_smile.xml\n",
      "haarcascade_upperbody.xml\n",
      "Found directory: []\n",
      "Found directory: []\n",
      "Main_Tutorial.cpython-312.pyc\n"
     ]
    }
   ],
   "source": [
    "# Walking a directory tree and printing the names of the directories and files\n",
    "for dirpath, dirnames, files in os.walk('./'):\n",
    "    print(f'Found directory: {dirnames}')\n",
    "    for file_name in files:\n",
    "        if not(file_name.startswith('.')):\n",
    "            print(file_name)"
   ]
  },
  {
   "cell_type": "code",
   "execution_count": 37,
   "id": "a631be69",
   "metadata": {},
   "outputs": [
    {
     "name": "stdout",
     "output_type": "stream",
     "text": [
      "C:\\Users\\AG\n"
     ]
    }
   ],
   "source": [
    "# we can print the path of our home environment\n",
    "print(os.environ.get('USERPROFILE'))"
   ]
  },
  {
   "cell_type": "markdown",
   "id": "a6aa23c4",
   "metadata": {},
   "source": [
    "***"
   ]
  },
  {
   "cell_type": "markdown",
   "id": "0f69d7fe",
   "metadata": {},
   "source": [
    "### Lets work with path"
   ]
  },
  {
   "cell_type": "code",
   "execution_count": 38,
   "id": "8fcb2389",
   "metadata": {},
   "outputs": [
    {
     "name": "stdout",
     "output_type": "stream",
     "text": [
      "C:\\Users\\AGtext.txt\n"
     ]
    }
   ],
   "source": [
    "file_path = os.environ.get('USERPROFILE') + 'text.txt'\n",
    "print(file_path)"
   ]
  },
  {
   "cell_type": "markdown",
   "id": "f2d64616",
   "metadata": {},
   "source": [
    "#### 🤥🫤 Tip: you can forget '/' easily or some paths already have '/' and in this way we propably see a big erreo "
   ]
  },
  {
   "cell_type": "code",
   "execution_count": 44,
   "id": "4c7c1424",
   "metadata": {},
   "outputs": [
    {
     "name": "stdout",
     "output_type": "stream",
     "text": [
      "C:\\Users\\AG\\AG_Science\n"
     ]
    }
   ],
   "source": [
    "# the best way to generate path \n",
    "file_path_1 = os.path.join(os.environ.get('USERPROFILE'), 'AG_Science')\n",
    "print(file_path_1)"
   ]
  },
  {
   "cell_type": "code",
   "execution_count": 45,
   "id": "e9896be6",
   "metadata": {},
   "outputs": [
    {
     "name": "stdout",
     "output_type": "stream",
     "text": [
      "AG_Science\n",
      "C:\\Users\\AG\n",
      "('C:\\\\Users\\\\AG', 'AG_Science')\n"
     ]
    }
   ],
   "source": [
    "# we can get the basename and dirname and this will work even if the path does not exist\n",
    "print(os.path.basename(file_path_1))\n",
    "print(os.path.dirname(file_path_1))\n",
    "print(os.path.split(file_path_1))"
   ]
  },
  {
   "cell_type": "code",
   "execution_count": 46,
   "id": "a7ba543e",
   "metadata": {},
   "outputs": [
    {
     "name": "stdout",
     "output_type": "stream",
     "text": [
      "akbar.txt\n",
      "ahmad/ghasemi\n",
      "('ahmad/ghasemi', 'akbar.txt')\n"
     ]
    }
   ],
   "source": [
    "file_fake = 'ahmad/ghasemi/akbar.txt'\n",
    "print(os.path.basename(file_fake))\n",
    "print(os.path.dirname(file_fake))\n",
    "print(os.path.split(file_fake))"
   ]
  },
  {
   "cell_type": "code",
   "execution_count": 47,
   "id": "b5fefdf7",
   "metadata": {},
   "outputs": [
    {
     "name": "stdout",
     "output_type": "stream",
     "text": [
      "True\n",
      "False\n"
     ]
    }
   ],
   "source": [
    "# check the existency of the path \n",
    "print(os.path.exists(file_path_1))\n",
    "print(os.path.exists(file_fake))"
   ]
  },
  {
   "cell_type": "code",
   "execution_count": 48,
   "id": "0e09d226",
   "metadata": {},
   "outputs": [
    {
     "name": "stdout",
     "output_type": "stream",
     "text": [
      "True\n",
      "False\n"
     ]
    }
   ],
   "source": [
    "# checking file or directory\n",
    "print(os.path.isdir(file_path_1))\n",
    "print(os.path.isfile(file_path_1))"
   ]
  },
  {
   "cell_type": "code",
   "execution_count": 49,
   "id": "aa152aec",
   "metadata": {},
   "outputs": [
    {
     "name": "stdout",
     "output_type": "stream",
     "text": [
      "('ahmad/ghasemi/akbar', '.txt')\n"
     ]
    }
   ],
   "source": [
    "# getting the file without the extention\n",
    "print(os.path.splitext(file_fake))"
   ]
  },
  {
   "cell_type": "markdown",
   "id": "2e3d0d76",
   "metadata": {},
   "source": [
    "## 🚨We have practise\n",
    "#### Write a script that first of all create a directory in root and after that generate a file and write 'Hellow I'm {your_name} and I'm {your_age} years old.' and at last give us the path of the file.\n",
    "### 🫡 Attention your_name and your_age should be gotten form user"
   ]
  },
  {
   "cell_type": "markdown",
   "id": "10ecadce",
   "metadata": {},
   "source": [
    "## Let's get familiar with 'GLOB'"
   ]
  },
  {
   "cell_type": "markdown",
   "id": "f19ea96e",
   "metadata": {},
   "source": [
    "The glob module, which is short for global, is a function that's used to search for files that match a specific file pattern or name. It can be used to search CSV files and for text in files."
   ]
  },
  {
   "cell_type": "code",
   "execution_count": 50,
   "id": "141170cb",
   "metadata": {},
   "outputs": [],
   "source": [
    "import glob"
   ]
  },
  {
   "cell_type": "code",
   "execution_count": 51,
   "id": "4a85c258",
   "metadata": {},
   "outputs": [
    {
     "name": "stdout",
     "output_type": "stream",
     "text": [
      "['__all__', '__builtins__', '__cached__', '__doc__', '__file__', '__loader__', '__name__', '__package__', '__spec__', '_dir_open_flags', '_glob0', '_glob1', '_glob2', '_iglob', '_isdir', '_ishidden', '_isrecursive', '_iterdir', '_join', '_lexists', '_listdir', '_rlistdir', 'contextlib', 'escape', 'fnmatch', 'glob', 'glob0', 'glob1', 'has_magic', 'iglob', 'itertools', 'magic_check', 'magic_check_bytes', 'os', 're', 'stat', 'sys']\n"
     ]
    }
   ],
   "source": [
    "print(dir(glob))"
   ]
  },
  {
   "cell_type": "code",
   "execution_count": 52,
   "id": "846f9966-7704-4d11-9aec-fdeed04a0849",
   "metadata": {},
   "outputs": [
    {
     "name": "stdout",
     "output_type": "stream",
     "text": [
      "A:\\AG\\AG_Science\\Advanced_Python_and_Data\n"
     ]
    }
   ],
   "source": [
    "import os\n",
    "print(os.getcwd())"
   ]
  },
  {
   "cell_type": "code",
   "execution_count": 53,
   "id": "c94fc386",
   "metadata": {},
   "outputs": [
    {
     "name": "stdout",
     "output_type": "stream",
     "text": [
      "['A:\\\\AG\\\\AG_Science\\\\Advanced_Python_and_Data']\n"
     ]
    }
   ],
   "source": [
    "# define the root\n",
    "print(glob.glob(r'A:\\AG\\AG_Science\\Advanced_Python_and_Data'))"
   ]
  },
  {
   "cell_type": "code",
   "execution_count": 54,
   "id": "62e03727",
   "metadata": {},
   "outputs": [
    {
     "name": "stdout",
     "output_type": "stream",
     "text": [
      "['A:\\\\AG\\\\AG_Science\\\\Advanced_Python_and_Data\\\\glob', 'A:\\\\AG\\\\AG_Science\\\\Advanced_Python_and_Data\\\\Haar']\n"
     ]
    }
   ],
   "source": [
    "# searching for directories with 4 characters in the root\n",
    "print(glob.glob(r'A:\\AG\\AG_Science\\Advanced_Python_and_Data\\????'))"
   ]
  },
  {
   "cell_type": "code",
   "execution_count": 55,
   "id": "e249f77c",
   "metadata": {},
   "outputs": [
    {
     "name": "stdout",
     "output_type": "stream",
     "text": [
      "['A:\\\\AG\\\\AG_Science\\\\Advanced_Python_and_Data\\\\face_detection.py', 'A:\\\\AG\\\\AG_Science\\\\Advanced_Python_and_Data\\\\ignor.py', 'A:\\\\AG\\\\AG_Science\\\\Advanced_Python_and_Data\\\\Main_Test.py', 'A:\\\\AG\\\\AG_Science\\\\Advanced_Python_and_Data\\\\Main_Tutorial.py', 'A:\\\\AG\\\\AG_Science\\\\Advanced_Python_and_Data\\\\Tutorail_Argparse.py']\n"
     ]
    }
   ],
   "source": [
    "# we can use * in glob for finding every object that have the situation \n",
    "print(glob.glob(r'A:\\AG\\AG_Science\\Advanced_Python_and_Data\\*.py'))"
   ]
  },
  {
   "cell_type": "code",
   "execution_count": 56,
   "id": "6c41a5ed",
   "metadata": {},
   "outputs": [
    {
     "name": "stdout",
     "output_type": "stream",
     "text": [
      "['A:\\\\AG\\\\AG_Science\\\\Advanced_Python_and_Data\\\\test.csv', 'A:\\\\AG\\\\AG_Science\\\\Advanced_Python_and_Data\\\\test.ipynb', 'A:\\\\AG\\\\AG_Science\\\\Advanced_Python_and_Data\\\\test.js', 'A:\\\\AG\\\\AG_Science\\\\Advanced_Python_and_Data\\\\test.txt', 'A:\\\\AG\\\\AG_Science\\\\Advanced_Python_and_Data\\\\test.xlsx']\n"
     ]
    }
   ],
   "source": [
    "print(glob.glob(r'A:\\AG\\AG_Science\\Advanced_Python_and_Data\\test.*'))"
   ]
  },
  {
   "cell_type": "code",
   "execution_count": 57,
   "id": "9e10725a",
   "metadata": {},
   "outputs": [
    {
     "name": "stdout",
     "output_type": "stream",
     "text": [
      "['A:\\\\AG\\\\AG_Science\\\\Advanced_Python_and_Data\\\\2.jpeg', 'A:\\\\AG\\\\AG_Science\\\\Advanced_Python_and_Data\\\\advanced_computer_vision.ipynb', 'A:\\\\AG\\\\AG_Science\\\\Advanced_Python_and_Data\\\\Advanced_Pandas_Practices.ipynb', 'A:\\\\AG\\\\AG_Science\\\\Advanced_Python_and_Data\\\\anaconda_projects', 'A:\\\\AG\\\\AG_Science\\\\Advanced_Python_and_Data\\\\audio.wav', 'A:\\\\AG\\\\AG_Science\\\\Advanced_Python_and_Data\\\\choclate.csv', 'A:\\\\AG\\\\AG_Science\\\\Advanced_Python_and_Data\\\\Computer_vision_tutorial.ipynb', 'A:\\\\AG\\\\AG_Science\\\\Advanced_Python_and_Data\\\\cv_image.jpg', 'A:\\\\AG\\\\AG_Science\\\\Advanced_Python_and_Data\\\\face_detection.py', 'A:\\\\AG\\\\AG_Science\\\\Advanced_Python_and_Data\\\\first_dir_1', 'A:\\\\AG\\\\AG_Science\\\\Advanced_Python_and_Data\\\\glob', 'A:\\\\AG\\\\AG_Science\\\\Advanced_Python_and_Data\\\\gray.jpg', 'A:\\\\AG\\\\AG_Science\\\\Advanced_Python_and_Data\\\\Haar', 'A:\\\\AG\\\\AG_Science\\\\Advanced_Python_and_Data\\\\ignor..go', 'A:\\\\AG\\\\AG_Science\\\\Advanced_Python_and_Data\\\\ignor.md', 'A:\\\\AG\\\\AG_Science\\\\Advanced_Python_and_Data\\\\ignor.py', 'A:\\\\AG\\\\AG_Science\\\\Advanced_Python_and_Data\\\\iris.csv', 'A:\\\\AG\\\\AG_Science\\\\Advanced_Python_and_Data\\\\iris_1.csv', 'A:\\\\AG\\\\AG_Science\\\\Advanced_Python_and_Data\\\\iris_2.csv', 'A:\\\\AG\\\\AG_Science\\\\Advanced_Python_and_Data\\\\iris_3.csv', 'A:\\\\AG\\\\AG_Science\\\\Advanced_Python_and_Data\\\\Main_Test.py', 'A:\\\\AG\\\\AG_Science\\\\Advanced_Python_and_Data\\\\Main_Tutorial.py', 'A:\\\\AG\\\\AG_Science\\\\Advanced_Python_and_Data\\\\matplotlib.ipynb', 'A:\\\\AG\\\\AG_Science\\\\Advanced_Python_and_Data\\\\multi_array.npz', 'A:\\\\AG\\\\AG_Science\\\\Advanced_Python_and_Data\\\\numpy_tutorial.ipynb', 'A:\\\\AG\\\\AG_Science\\\\Advanced_Python_and_Data\\\\olympic_event.csv', 'A:\\\\AG\\\\AG_Science\\\\Advanced_Python_and_Data\\\\OOP_abilities_tutorial.ipynb', 'A:\\\\AG\\\\AG_Science\\\\Advanced_Python_and_Data\\\\pandas_practice.ipynb', 'A:\\\\AG\\\\AG_Science\\\\Advanced_Python_and_Data\\\\pandas_tutorial.ipynb', 'A:\\\\AG\\\\AG_Science\\\\Advanced_Python_and_Data\\\\Plotly.ipynb', 'A:\\\\AG\\\\AG_Science\\\\Advanced_Python_and_Data\\\\random_array.npy', 'A:\\\\AG\\\\AG_Science\\\\Advanced_Python_and_Data\\\\README.md', 'A:\\\\AG\\\\AG_Science\\\\Advanced_Python_and_Data\\\\second_dir', 'A:\\\\AG\\\\AG_Science\\\\Advanced_Python_and_Data\\\\square.png', 'A:\\\\AG\\\\AG_Science\\\\Advanced_Python_and_Data\\\\test.csv', 'A:\\\\AG\\\\AG_Science\\\\Advanced_Python_and_Data\\\\test.ipynb', 'A:\\\\AG\\\\AG_Science\\\\Advanced_Python_and_Data\\\\test.js', 'A:\\\\AG\\\\AG_Science\\\\Advanced_Python_and_Data\\\\test.txt', 'A:\\\\AG\\\\AG_Science\\\\Advanced_Python_and_Data\\\\test.xlsx', 'A:\\\\AG\\\\AG_Science\\\\Advanced_Python_and_Data\\\\test_class.wav', 'A:\\\\AG\\\\AG_Science\\\\Advanced_Python_and_Data\\\\tsigon.txt', 'A:\\\\AG\\\\AG_Science\\\\Advanced_Python_and_Data\\\\Tutorail_Argparse.py', 'A:\\\\AG\\\\AG_Science\\\\Advanced_Python_and_Data\\\\Tutorial_Audio_Processing.ipynb', 'A:\\\\AG\\\\AG_Science\\\\Advanced_Python_and_Data\\\\Tutorial_For_OS_GLOB.ipynb', 'A:\\\\AG\\\\AG_Science\\\\Advanced_Python_and_Data\\\\Tutorial_Object_Oriented_programming.ipynb', 'A:\\\\AG\\\\AG_Science\\\\Advanced_Python_and_Data\\\\__pycache__']\n"
     ]
    }
   ],
   "source": [
    "print(glob.glob(r'A:\\AG\\AG_Science\\Advanced_Python_and_Data\\*'))"
   ]
  },
  {
   "cell_type": "code",
   "execution_count": 58,
   "id": "2ad73ff7",
   "metadata": {},
   "outputs": [
    {
     "name": "stdout",
     "output_type": "stream",
     "text": [
      "['A:\\\\AG\\\\AG_Science\\\\Advanced_Python_and_Data\\\\2.jpeg', 'A:\\\\AG\\\\AG_Science\\\\Advanced_Python_and_Data\\\\advanced_computer_vision.ipynb', 'A:\\\\AG\\\\AG_Science\\\\Advanced_Python_and_Data\\\\Advanced_Pandas_Practices.ipynb', 'A:\\\\AG\\\\AG_Science\\\\Advanced_Python_and_Data\\\\audio.wav', 'A:\\\\AG\\\\AG_Science\\\\Advanced_Python_and_Data\\\\choclate.csv', 'A:\\\\AG\\\\AG_Science\\\\Advanced_Python_and_Data\\\\Computer_vision_tutorial.ipynb', 'A:\\\\AG\\\\AG_Science\\\\Advanced_Python_and_Data\\\\cv_image.jpg', 'A:\\\\AG\\\\AG_Science\\\\Advanced_Python_and_Data\\\\face_detection.py', 'A:\\\\AG\\\\AG_Science\\\\Advanced_Python_and_Data\\\\gray.jpg', 'A:\\\\AG\\\\AG_Science\\\\Advanced_Python_and_Data\\\\ignor..go', 'A:\\\\AG\\\\AG_Science\\\\Advanced_Python_and_Data\\\\ignor.md', 'A:\\\\AG\\\\AG_Science\\\\Advanced_Python_and_Data\\\\ignor.py', 'A:\\\\AG\\\\AG_Science\\\\Advanced_Python_and_Data\\\\iris.csv', 'A:\\\\AG\\\\AG_Science\\\\Advanced_Python_and_Data\\\\iris_1.csv', 'A:\\\\AG\\\\AG_Science\\\\Advanced_Python_and_Data\\\\iris_2.csv', 'A:\\\\AG\\\\AG_Science\\\\Advanced_Python_and_Data\\\\iris_3.csv', 'A:\\\\AG\\\\AG_Science\\\\Advanced_Python_and_Data\\\\Main_Test.py', 'A:\\\\AG\\\\AG_Science\\\\Advanced_Python_and_Data\\\\Main_Tutorial.py', 'A:\\\\AG\\\\AG_Science\\\\Advanced_Python_and_Data\\\\matplotlib.ipynb', 'A:\\\\AG\\\\AG_Science\\\\Advanced_Python_and_Data\\\\multi_array.npz', 'A:\\\\AG\\\\AG_Science\\\\Advanced_Python_and_Data\\\\numpy_tutorial.ipynb', 'A:\\\\AG\\\\AG_Science\\\\Advanced_Python_and_Data\\\\olympic_event.csv', 'A:\\\\AG\\\\AG_Science\\\\Advanced_Python_and_Data\\\\OOP_abilities_tutorial.ipynb', 'A:\\\\AG\\\\AG_Science\\\\Advanced_Python_and_Data\\\\pandas_practice.ipynb', 'A:\\\\AG\\\\AG_Science\\\\Advanced_Python_and_Data\\\\pandas_tutorial.ipynb', 'A:\\\\AG\\\\AG_Science\\\\Advanced_Python_and_Data\\\\Plotly.ipynb', 'A:\\\\AG\\\\AG_Science\\\\Advanced_Python_and_Data\\\\random_array.npy', 'A:\\\\AG\\\\AG_Science\\\\Advanced_Python_and_Data\\\\README.md', 'A:\\\\AG\\\\AG_Science\\\\Advanced_Python_and_Data\\\\square.png', 'A:\\\\AG\\\\AG_Science\\\\Advanced_Python_and_Data\\\\test.csv', 'A:\\\\AG\\\\AG_Science\\\\Advanced_Python_and_Data\\\\test.ipynb', 'A:\\\\AG\\\\AG_Science\\\\Advanced_Python_and_Data\\\\test.js', 'A:\\\\AG\\\\AG_Science\\\\Advanced_Python_and_Data\\\\test.txt', 'A:\\\\AG\\\\AG_Science\\\\Advanced_Python_and_Data\\\\test.xlsx', 'A:\\\\AG\\\\AG_Science\\\\Advanced_Python_and_Data\\\\test_class.wav', 'A:\\\\AG\\\\AG_Science\\\\Advanced_Python_and_Data\\\\tsigon.txt', 'A:\\\\AG\\\\AG_Science\\\\Advanced_Python_and_Data\\\\Tutorail_Argparse.py', 'A:\\\\AG\\\\AG_Science\\\\Advanced_Python_and_Data\\\\Tutorial_Audio_Processing.ipynb', 'A:\\\\AG\\\\AG_Science\\\\Advanced_Python_and_Data\\\\Tutorial_For_OS_GLOB.ipynb', 'A:\\\\AG\\\\AG_Science\\\\Advanced_Python_and_Data\\\\Tutorial_Object_Oriented_programming.ipynb']\n"
     ]
    }
   ],
   "source": [
    "print(glob.glob(r'A:\\AG\\AG_Science\\Advanced_Python_and_Data\\*.*'))"
   ]
  },
  {
   "cell_type": "code",
   "execution_count": 60,
   "id": "c243ffdf",
   "metadata": {},
   "outputs": [
    {
     "name": "stdout",
     "output_type": "stream",
     "text": [
      "A:\\AG\\AG_Science\\Advanced_Python_and_Data\\glob\\test_glob.py\n",
      "A:\\AG\\AG_Science\\Advanced_Python_and_Data\\glob\\test_glob2.py\n",
      "A:\\AG\\AG_Science\\Advanced_Python_and_Data\\Haar\\haarcascade_eye.xml\n",
      "A:\\AG\\AG_Science\\Advanced_Python_and_Data\\Haar\\haarcascade_eye_tree_eyeglasses.xml\n",
      "A:\\AG\\AG_Science\\Advanced_Python_and_Data\\Haar\\haarcascade_frontalcatface.xml\n",
      "A:\\AG\\AG_Science\\Advanced_Python_and_Data\\Haar\\haarcascade_frontalcatface_extended.xml\n",
      "A:\\AG\\AG_Science\\Advanced_Python_and_Data\\Haar\\haarcascade_frontalface_alt.xml\n",
      "A:\\AG\\AG_Science\\Advanced_Python_and_Data\\Haar\\haarcascade_frontalface_alt2.xml\n",
      "A:\\AG\\AG_Science\\Advanced_Python_and_Data\\Haar\\haarcascade_frontalface_alt_tree.xml\n",
      "A:\\AG\\AG_Science\\Advanced_Python_and_Data\\Haar\\haarcascade_frontalface_default.xml\n",
      "A:\\AG\\AG_Science\\Advanced_Python_and_Data\\Haar\\haarcascade_fullbody.xml\n",
      "A:\\AG\\AG_Science\\Advanced_Python_and_Data\\Haar\\haarcascade_lefteye_2splits.xml\n",
      "A:\\AG\\AG_Science\\Advanced_Python_and_Data\\Haar\\haarcascade_licence_plate_rus_16stages.xml\n",
      "A:\\AG\\AG_Science\\Advanced_Python_and_Data\\Haar\\haarcascade_lowerbody.xml\n",
      "A:\\AG\\AG_Science\\Advanced_Python_and_Data\\Haar\\haarcascade_profileface.xml\n",
      "A:\\AG\\AG_Science\\Advanced_Python_and_Data\\Haar\\haarcascade_righteye_2splits.xml\n",
      "A:\\AG\\AG_Science\\Advanced_Python_and_Data\\Haar\\haarcascade_russian_plate_number.xml\n",
      "A:\\AG\\AG_Science\\Advanced_Python_and_Data\\Haar\\haarcascade_smile.xml\n",
      "A:\\AG\\AG_Science\\Advanced_Python_and_Data\\Haar\\haarcascade_upperbody.xml\n",
      "A:\\AG\\AG_Science\\Advanced_Python_and_Data\\__pycache__\\Main_Tutorial.cpython-312.pyc\n"
     ]
    }
   ],
   "source": [
    "for x in (glob.glob(r'A:\\AG\\AG_Science\\Advanced_Python_and_Data\\*\\*.*')):\n",
    "    print(x)"
   ]
  },
  {
   "cell_type": "markdown",
   "id": "1381219e",
   "metadata": {},
   "source": [
    "#### 🫨😲 Tip: * . * only works for files with extention due to it's pattern but for directories you can work with *"
   ]
  },
  {
   "cell_type": "code",
   "execution_count": 61,
   "id": "71877c46",
   "metadata": {},
   "outputs": [
    {
     "name": "stdout",
     "output_type": "stream",
     "text": [
      "['A:\\\\AG\\\\AG_Science\\\\Advanced_Python_and_Data\\\\gray.jpg', 'A:\\\\AG\\\\AG_Science\\\\Advanced_Python_and_Data\\\\ignor..go', 'A:\\\\AG\\\\AG_Science\\\\Advanced_Python_and_Data\\\\ignor.md', 'A:\\\\AG\\\\AG_Science\\\\Advanced_Python_and_Data\\\\ignor.py', 'A:\\\\AG\\\\AG_Science\\\\Advanced_Python_and_Data\\\\iris.csv', 'A:\\\\AG\\\\AG_Science\\\\Advanced_Python_and_Data\\\\iris_1.csv', 'A:\\\\AG\\\\AG_Science\\\\Advanced_Python_and_Data\\\\iris_2.csv', 'A:\\\\AG\\\\AG_Science\\\\Advanced_Python_and_Data\\\\iris_3.csv']\n"
     ]
    }
   ],
   "source": [
    "# using [] for professional search with glob. The characters in [] set the statment True if any files start with\n",
    "# themselves\n",
    "print(glob.glob(r'A:\\AG\\AG_Science\\Advanced_Python_and_Data\\[ig]*.*'))"
   ]
  },
  {
   "cell_type": "code",
   "execution_count": 62,
   "id": "7d21b660",
   "metadata": {},
   "outputs": [
    {
     "name": "stdout",
     "output_type": "stream",
     "text": [
      "['A:\\\\AG\\\\AG_Science\\\\Advanced_Python_and_Data\\\\ignor.py']\n"
     ]
    }
   ],
   "source": [
    "print(glob.glob(r'A:\\AG\\AG_Science\\Advanced_Python_and_Data\\[ig]*.py'))"
   ]
  },
  {
   "cell_type": "code",
   "execution_count": 64,
   "id": "b735b393",
   "metadata": {},
   "outputs": [
    {
     "name": "stdout",
     "output_type": "stream",
     "text": [
      "['A:\\\\AG\\\\AG_Science\\\\Advanced_Python_and_Data\\\\face_detection.py', 'A:\\\\AG\\\\AG_Science\\\\Advanced_Python_and_Data\\\\Main_Test.py', 'A:\\\\AG\\\\AG_Science\\\\Advanced_Python_and_Data\\\\Main_Tutorial.py', 'A:\\\\AG\\\\AG_Science\\\\Advanced_Python_and_Data\\\\Tutorail_Argparse.py']\n"
     ]
    }
   ],
   "source": [
    "# use ! in [] to reverse the statment\n",
    "print(glob.glob(r'A:\\AG\\AG_Science\\Advanced_Python_and_Data\\[!ig]*.py'))"
   ]
  },
  {
   "cell_type": "code",
   "execution_count": 69,
   "id": "efccc0e5",
   "metadata": {},
   "outputs": [
    {
     "name": "stdout",
     "output_type": "stream",
     "text": [
      "['Advanced_Python_and_Data\\\\face_detection.py', 'Advanced_Python_and_Data\\\\ignor.py', 'Advanced_Python_and_Data\\\\Main_Test.py', 'Advanced_Python_and_Data\\\\Main_Tutorial.py', 'Advanced_Python_and_Data\\\\Tutorail_Argparse.py', 'Advanced_Python_and_Data\\\\glob\\\\test_glob.py', 'Advanced_Python_and_Data\\\\glob\\\\test_glob2.py', 'Machine Learning\\\\AG_practices\\\\pandas_practice.py']\n",
      "0:00:00.006950\n"
     ]
    }
   ],
   "source": [
    "# now what is **. Actually this means search into folders from one root recursively\n",
    "from datetime import datetime\n",
    "start = datetime.now()\n",
    "print(glob.glob(r'**\\*.py', \n",
    "               root_dir = r'A:\\AG\\AG_Science',\n",
    "               recursive = True))\n",
    "end = datetime.now()\n",
    "print(end - start)"
   ]
  },
  {
   "cell_type": "code",
   "execution_count": 70,
   "id": "9384af29",
   "metadata": {},
   "outputs": [
    {
     "name": "stdout",
     "output_type": "stream",
     "text": [
      "1 : Advanced_Python_and_Data\\face_detection.py\n",
      "2 : Advanced_Python_and_Data\\ignor.py\n",
      "3 : Advanced_Python_and_Data\\Main_Test.py\n",
      "4 : Advanced_Python_and_Data\\Main_Tutorial.py\n",
      "5 : Advanced_Python_and_Data\\Tutorail_Argparse.py\n",
      "6 : Advanced_Python_and_Data\\glob\\test_glob.py\n",
      "7 : Advanced_Python_and_Data\\glob\\test_glob2.py\n",
      "8 : Machine Learning\\AG_practices\\pandas_practice.py\n",
      "0:00:00.004039\n"
     ]
    }
   ],
   "source": [
    "# how to run glob in efficient way\n",
    "from datetime import datetime\n",
    "start = datetime.now()\n",
    "globs = glob.iglob(r'**\\*.py', \n",
    "               root_dir = r'A:\\AG\\AG_Science',\n",
    "               recursive = True)\n",
    "for i, file in enumerate(globs, 1):\n",
    "    print(i, file, sep=' : ')\n",
    "end = datetime.now()\n",
    "print(end - start)"
   ]
  },
  {
   "cell_type": "code",
   "execution_count": 71,
   "id": "fa9d8543",
   "metadata": {},
   "outputs": [
    {
     "name": "stdout",
     "output_type": "stream",
     "text": [
      "1 : Advanced_Python_and_Data\\face_detection.py\n",
      "2 : Advanced_Python_and_Data\\ignor.py\n",
      "3 : Advanced_Python_and_Data\\Main_Test.py\n",
      "4 : Advanced_Python_and_Data\\Main_Tutorial.py\n",
      "5 : Advanced_Python_and_Data\\Tutorail_Argparse.py\n",
      "6 : Advanced_Python_and_Data\\glob\\test_glob.py\n",
      "7 : Advanced_Python_and_Data\\glob\\test_glob2.py\n",
      "8 : Machine Learning\\AG_practices\\pandas_practice.py\n"
     ]
    }
   ],
   "source": [
    "# in glob we can easily work with for loop\n",
    "for i, address in enumerate(glob.glob(r'**\\*.py',root_dir = r'A:\\AG\\AG_Science',recursive = True), 1):\n",
    "    print(i, address, sep=' : ')"
   ]
  },
  {
   "cell_type": "code",
   "execution_count": 72,
   "id": "891a6d90",
   "metadata": {},
   "outputs": [
    {
     "name": "stdout",
     "output_type": "stream",
     "text": [
      "A:\\AG\\AG_Science\\Advanced_Python_and_Data\\2.jpeg\n",
      "A:\\AG\\AG_Science\\Advanced_Python_and_Data\\advanced_computer_vision.ipynb\n",
      "A:\\AG\\AG_Science\\Advanced_Python_and_Data\\Advanced_Pandas_Practices.ipynb\n",
      "A:\\AG\\AG_Science\\Advanced_Python_and_Data\\audio.wav\n",
      "A:\\AG\\AG_Science\\Advanced_Python_and_Data\\choclate.csv\n",
      "A:\\AG\\AG_Science\\Advanced_Python_and_Data\\Computer_vision_tutorial.ipynb\n",
      "A:\\AG\\AG_Science\\Advanced_Python_and_Data\\cv_image.jpg\n",
      "A:\\AG\\AG_Science\\Advanced_Python_and_Data\\face_detection.py\n",
      "A:\\AG\\AG_Science\\Advanced_Python_and_Data\\gray.jpg\n",
      "A:\\AG\\AG_Science\\Advanced_Python_and_Data\\ignor..go\n",
      "A:\\AG\\AG_Science\\Advanced_Python_and_Data\\ignor.md\n",
      "A:\\AG\\AG_Science\\Advanced_Python_and_Data\\ignor.py\n",
      "A:\\AG\\AG_Science\\Advanced_Python_and_Data\\iris.csv\n",
      "A:\\AG\\AG_Science\\Advanced_Python_and_Data\\iris_1.csv\n",
      "A:\\AG\\AG_Science\\Advanced_Python_and_Data\\iris_2.csv\n",
      "A:\\AG\\AG_Science\\Advanced_Python_and_Data\\iris_3.csv\n",
      "A:\\AG\\AG_Science\\Advanced_Python_and_Data\\Main_Test.py\n",
      "A:\\AG\\AG_Science\\Advanced_Python_and_Data\\Main_Tutorial.py\n",
      "A:\\AG\\AG_Science\\Advanced_Python_and_Data\\matplotlib.ipynb\n",
      "A:\\AG\\AG_Science\\Advanced_Python_and_Data\\multi_array.npz\n",
      "A:\\AG\\AG_Science\\Advanced_Python_and_Data\\numpy_tutorial.ipynb\n",
      "A:\\AG\\AG_Science\\Advanced_Python_and_Data\\olympic_event.csv\n",
      "A:\\AG\\AG_Science\\Advanced_Python_and_Data\\OOP_abilities_tutorial.ipynb\n",
      "A:\\AG\\AG_Science\\Advanced_Python_and_Data\\pandas_practice.ipynb\n",
      "A:\\AG\\AG_Science\\Advanced_Python_and_Data\\pandas_tutorial.ipynb\n",
      "A:\\AG\\AG_Science\\Advanced_Python_and_Data\\Plotly.ipynb\n",
      "A:\\AG\\AG_Science\\Advanced_Python_and_Data\\random_array.npy\n",
      "A:\\AG\\AG_Science\\Advanced_Python_and_Data\\README.md\n",
      "A:\\AG\\AG_Science\\Advanced_Python_and_Data\\square.png\n",
      "A:\\AG\\AG_Science\\Advanced_Python_and_Data\\test.csv\n",
      "A:\\AG\\AG_Science\\Advanced_Python_and_Data\\test.ipynb\n",
      "A:\\AG\\AG_Science\\Advanced_Python_and_Data\\test.js\n",
      "A:\\AG\\AG_Science\\Advanced_Python_and_Data\\test.txt\n",
      "A:\\AG\\AG_Science\\Advanced_Python_and_Data\\test.xlsx\n",
      "A:\\AG\\AG_Science\\Advanced_Python_and_Data\\test_class.wav\n",
      "A:\\AG\\AG_Science\\Advanced_Python_and_Data\\tsigon.txt\n",
      "A:\\AG\\AG_Science\\Advanced_Python_and_Data\\Tutorail_Argparse.py\n",
      "A:\\AG\\AG_Science\\Advanced_Python_and_Data\\Tutorial_Audio_Processing.ipynb\n",
      "A:\\AG\\AG_Science\\Advanced_Python_and_Data\\Tutorial_For_OS_GLOB.ipynb\n",
      "A:\\AG\\AG_Science\\Advanced_Python_and_Data\\Tutorial_Object_Oriented_programming.ipynb\n"
     ]
    }
   ],
   "source": [
    "# working with glob and getting all addresses of images\n",
    "for address in glob.glob(r'A:\\AG\\AG_Science\\Advanced_Python_and_Data\\*.*'):\n",
    "    print(address)"
   ]
  },
  {
   "cell_type": "markdown",
   "id": "540e70ce",
   "metadata": {},
   "source": [
    "## 🚨We have practise\n",
    "#### Download 10 images and create a directory on two folder before considered path after that print addresses of images.\n",
    "### 😲 Attention: you can not use the path of the directory that images are in just use current path & you should    start from root."
   ]
  },
  {
   "cell_type": "code",
   "execution_count": null,
   "id": "81940134",
   "metadata": {},
   "outputs": [],
   "source": []
  },
  {
   "cell_type": "code",
   "execution_count": null,
   "id": "c17debd0",
   "metadata": {},
   "outputs": [],
   "source": []
  },
  {
   "cell_type": "code",
   "execution_count": null,
   "id": "239b3664",
   "metadata": {},
   "outputs": [],
   "source": []
  }
 ],
 "metadata": {
  "kernelspec": {
   "display_name": "Python 3 (ipykernel)",
   "language": "python",
   "name": "python3"
  },
  "language_info": {
   "codemirror_mode": {
    "name": "ipython",
    "version": 3
   },
   "file_extension": ".py",
   "mimetype": "text/x-python",
   "name": "python",
   "nbconvert_exporter": "python",
   "pygments_lexer": "ipython3",
   "version": "3.12.7"
  }
 },
 "nbformat": 4,
 "nbformat_minor": 5
}
